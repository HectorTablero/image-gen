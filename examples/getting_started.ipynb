{
    "cells": [
        {
            "cell_type": "markdown",
            "id": "6d6fdd69",
            "metadata": {},
            "source": [
                "<pre style=\"text-align: right; width: 100%; font-size: 0.75em; line-height: 0.75em;\">\n",
                "+ ------------------------- + <br>\n",
                "| 29/04/2025                | <br>\n",
                "| Héctor Tablero Díaz       | <br>\n",
                "| Álvaro Martínez Gamo      | <br>\n",
                "+ ------------------------- + \n",
                "</pre>"
            ]
        },
        {
            "cell_type": "markdown",
            "id": "05256d2e",
            "metadata": {},
            "source": [
                "# **Getting Started**"
            ]
        },
        {
            "cell_type": "code",
            "execution_count": null,
            "id": "4f70db8b",
            "metadata": {},
            "outputs": [],
            "source": [
                "import sys\n",
                "sys.path.append('./..')\n",
                "\n",
                "import os\n",
                "\n",
                "import torch\n",
                "from torch.utils.data import Subset\n",
                "from torchvision import datasets\n",
                "from torchvision.transforms import ToTensor\n",
                "\n",
                "from image_gen import GenerativeModel\n",
                "from image_gen.samplers import EulerMaruyama\n",
                "from image_gen.diffusion import VarianceExploding\n",
                "\n",
                "from IPython.display import HTML\n",
                "from image_gen.visualization import display_images, create_evolution_widget"
            ]
        },
        {
            "cell_type": "markdown",
            "id": "9113ff2c",
            "metadata": {},
            "source": [
                "## **1. Prepare Data**"
            ]
        },
        {
            "cell_type": "markdown",
            "id": "9c1c3142",
            "metadata": {},
            "source": [
                "Load MNIST dataset (subset of digit 3)"
            ]
        },
        {
            "cell_type": "code",
            "execution_count": null,
            "id": "638ced9a",
            "metadata": {},
            "outputs": [],
            "source": [
                "data = datasets.MNIST(\n",
                "    root='data',\n",
                "    train=True,\n",
                "    download=True,\n",
                "    transform=ToTensor()\n",
                ")\n",
                "\n",
                "# Filter only digit 3\n",
                "digit = 3\n",
                "indices = torch.where(data.targets == digit)[0]\n",
                "dataset = Subset(data, indices)"
            ]
        },
        {
            "cell_type": "markdown",
            "id": "db0f1444",
            "metadata": {},
            "source": [
                "## **2. Initialize Model**"
            ]
        },
        {
            "cell_type": "markdown",
            "id": "d453412d",
            "metadata": {},
            "source": [
                "Default configuration: VE Diffusion + Euler-Maruyama"
            ]
        },
        {
            "cell_type": "code",
            "execution_count": null,
            "id": "92fc158d",
            "metadata": {},
            "outputs": [],
            "source": [
                "model = GenerativeModel(\n",
                "    diffusion=VarianceExploding,\n",
                "    sampler=EulerMaruyama\n",
                ")"
            ]
        },
        {
            "cell_type": "markdown",
            "id": "dc7c1140",
            "metadata": {},
            "source": [
                "## **3. Train Model**"
            ]
        },
        {
            "cell_type": "markdown",
            "id": "f038a644",
            "metadata": {},
            "source": [
                "Quick training with 50 epochs"
            ]
        },
        {
            "cell_type": "code",
            "execution_count": null,
            "id": "63d752a1",
            "metadata": {},
            "outputs": [],
            "source": [
                "epochs = 50\n",
                "\n",
                "filename = f'saved_models/mnist_{digit}_ve_{epochs}e.pth'\n",
                "\n",
                "if not os.path.exists(filename):\n",
                "    model.train(dataset, epochs=epochs, batch_size=64)\n",
                "    model.save(filename)\n",
                "else:\n",
                "    model.load(filename)"
            ]
        },
        {
            "cell_type": "markdown",
            "id": "b7551d63",
            "metadata": {},
            "source": [
                "## **4. Generate Samples**"
            ]
        },
        {
            "cell_type": "markdown",
            "id": "8d09d105",
            "metadata": {},
            "source": [
                "Create 16 new samples"
            ]
        },
        {
            "cell_type": "code",
            "execution_count": null,
            "id": "1f1ad0ca",
            "metadata": {},
            "outputs": [],
            "source": [
                "seed = 42\n",
                "\n",
                "samples = model.generate(num_samples=16, seed=seed)\n",
                "display_images(samples)"
            ]
        },
        {
            "cell_type": "markdown",
            "id": "21e0f6ff",
            "metadata": {},
            "source": [
                "## **5. Generation Process**"
            ]
        },
        {
            "cell_type": "markdown",
            "id": "d30ef5fe",
            "metadata": {},
            "source": [
                "Watch the denoising evolution"
            ]
        },
        {
            "cell_type": "code",
            "execution_count": null,
            "id": "23f494a7",
            "metadata": {},
            "outputs": [],
            "source": [
                "HTML(create_evolution_widget(model, seed=seed).to_jshtml(default_mode=\"once\"))"
            ]
        },
        {
            "cell_type": "markdown",
            "id": "fa238092",
            "metadata": {},
            "source": [
                "## **Next Steps**"
            ]
        },
        {
            "cell_type": "markdown",
            "id": "5ed2a3d4",
            "metadata": {},
            "source": [
                "- Try different digits\n",
                "- Use a dataset with 3 channels (RGB)\n",
                "- Increase epochs (100-500)\n",
                "- Explore other samplers/diffusers\n",
                "- See advanced notebooks"
            ]
        }
    ],
    "metadata": {
        "kernelspec": {
            "display_name": "Python 3",
            "language": "python",
            "name": "python3"
        },
        "language_info": {
            "codemirror_mode": {
                "name": "ipython",
                "version": 3
            },
            "file_extension": ".py",
            "mimetype": "text/x-python",
            "name": "python",
            "nbconvert_exporter": "python",
            "pygments_lexer": "ipython3",
            "version": "3.12.6"
        }
    },
    "nbformat": 4,
    "nbformat_minor": 5
}
