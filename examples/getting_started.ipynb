{
 "cells": [
  {
   "cell_type": "markdown",
   "id": "022c59d4",
   "metadata": {},
   "source": [
    "<pre style=\"text-align: right; width: 100%; font-size: 0.75em; line-height: 0.75em;\">\n",
    "+ ------------------------- + <br>\n",
    "| 20/04/2025                | <br>\n",
    "| Héctor Tablero Díaz       | <br>\n",
    "| Álvaro Martínez Gamo      | <br>\n",
    "+ ------------------------- + \n",
    "</pre>"
   ]
  },
  {
   "cell_type": "markdown",
   "id": "6354af7f",
   "metadata": {},
   "source": [
    "# **Getting Started**"
   ]
  },
  {
   "cell_type": "markdown",
   "id": "a9cde0e9",
   "metadata": {},
   "source": [
    "### **Setup & Imports**"
   ]
  },
  {
   "cell_type": "markdown",
   "id": "d8c00544",
   "metadata": {},
   "source": [
    "The module is divided into the following structure:\n",
    "\n",
    "- `image_gen.diffusion` contains different diffusers:\n",
    "  - `VarianceExploding`\n",
    "  - `VariancePreserving`\n",
    "  - `SubVariancePreserving`\n",
    "- `image_gen.metrics` has functions to estimate the quality of the generated images\n",
    "- `image_gen.noise` contains 2 noise schedulers that control the amount of noise added at each timestep of the process:\n",
    "  - `LinearNoiseSchedule`\n",
    "  - `CosineNoiseSchedule`\n",
    "- `image_gen.samplers` contains 4 samplers that can generate images from random noise:\n",
    "  - `EulerMaruyama`\n",
    "  - `ExponentialIntegrator`\n",
    "  - `ODEProbabilityFlow`\n",
    "  - `PredictorCorrector`\n",
    "- `image_gen.visualization` has functions to display both the results and the progress of the generative process"
   ]
  },
  {
   "cell_type": "code",
   "execution_count": null,
   "id": "1e1839fd",
   "metadata": {},
   "outputs": [],
   "source": [
    "import sys\n",
    "sys.path.append('./..')\n",
    "\n",
    "import os\n",
    "\n",
    "import torch\n",
    "from torch.utils.data import Subset\n",
    "from torchvision import datasets\n",
    "from torchvision.transforms import ToTensor\n",
    "\n",
    "from image_gen import GenerativeModel\n",
    "from image_gen.samplers import EulerMaruyama\n",
    "from image_gen.diffusion import VarianceExploding\n",
    "\n",
    "from image_gen.visualization import display_images, display_evolution"
   ]
  },
  {
   "cell_type": "markdown",
   "id": "1d048b92",
   "metadata": {},
   "source": [
    "### **Setup & Training**"
   ]
  },
  {
   "cell_type": "markdown",
   "id": "6ef32b80",
   "metadata": {},
   "source": [
    "The main class used is `GenerativeModel`, directly under `image_gen`. It can be called with the samplers, diffusers and noise schedulers mentioned previously. If nothing is set, the default initialization will be the same one as the one displayed in this notebook, using `VarianceExploding` together with `EulerMaruyama`."
   ]
  },
  {
   "cell_type": "code",
   "execution_count": null,
   "id": "09054e9a",
   "metadata": {},
   "outputs": [],
   "source": [
    "# Set up the common variables\n",
    "epochs = 50\n",
    "digit = 3\n",
    "\n",
    "seed = 42"
   ]
  },
  {
   "cell_type": "code",
   "execution_count": null,
   "id": "044b3f46",
   "metadata": {},
   "outputs": [],
   "source": [
    "# Load the dataset\n",
    "data = datasets.MNIST(\n",
    "    root='data',\n",
    "    train=True,\n",
    "    download=True,\n",
    "    transform=ToTensor()\n",
    ")\n",
    "\n",
    "# Select a subset to speed up the training process\n",
    "indices_digit = torch.where(data.targets == digit)[0]\n",
    "data = Subset(data, indices_digit)"
   ]
  },
  {
   "cell_type": "code",
   "execution_count": null,
   "id": "363e2857",
   "metadata": {},
   "outputs": [],
   "source": [
    "model = GenerativeModel(\n",
    "    diffusion=VarianceExploding,\n",
    "    sampler=EulerMaruyama\n",
    ")"
   ]
  },
  {
   "cell_type": "markdown",
   "id": "7ab4f751",
   "metadata": {},
   "source": [
    "Models can also be initialized with their short codes, although this approach doesn't allow to set custom parameters.\n",
    "\n",
    "The codes are:\n",
    "- **VarianceExploding**: `ve`\n",
    "- **VariancePreserving**: `vp`\n",
    "- **SubVariancePreserving**: `sub-vp`, `svp`\n",
    "\n",
    "<br>\n",
    "\n",
    "- **LinearNoiseSchedule**: `linear`, `lin`\n",
    "- **CosineNoiseSchedule**: `cosine`, `cos`\n",
    "\n",
    "<br>\n",
    "\n",
    "- **EulerMaruyama**: `euler-maruyama`, `em`\n",
    "- **ExponentialIntegrator**: `exponential`, `exp`\n",
    "- **ODEProbabilityFlow**: `ode`\n",
    "- **PredictorCorrector**: `predictor-corrector`, `pred`"
   ]
  },
  {
   "cell_type": "code",
   "execution_count": null,
   "id": "ed7f0df7",
   "metadata": {},
   "outputs": [],
   "source": [
    "# Same initialization as before\n",
    "model = GenerativeModel(\n",
    "    diffusion=\"ve\",\n",
    "    sampler=\"euler-maruyama\"\n",
    ")"
   ]
  },
  {
   "cell_type": "code",
   "execution_count": null,
   "id": "c7e25a04",
   "metadata": {},
   "outputs": [],
   "source": [
    "filename = f'saved_models/mnist_{digit}_ve_euler_{epochs}e.pth'\n",
    "\n",
    "if os.path.isfile(filename):\n",
    "    model.load(filename)\n",
    "else:\n",
    "    model.train(data, epochs=epochs)\n",
    "    # Tip: Save the models for them to be accessible through the dashboard\n",
    "    model.save(filename)"
   ]
  },
  {
   "cell_type": "markdown",
   "id": "7bdffa88",
   "metadata": {},
   "source": [
    "### **Image Generation**"
   ]
  },
  {
   "cell_type": "markdown",
   "id": "a239f4e0",
   "metadata": {},
   "source": [
    "Images can be created with the `generate` method of the `GenerativeModel` class.\n",
    "\n",
    "It can be configured with these parameters:\n",
    "- `num_samples` (int): The number of images to generate\n",
    "- `n_steps` (int): The number of iterations the sampler will go through\n",
    "- `seed` (int, optional): An optional seed to get repeatable results\n",
    "- `class_labels` (int/Tensor, optional): An integer or Tensor of ints that determines the class being generated in each image. If only an int is passed, all images will be of that class.\n",
    "- `progress_callback` (Callable, optional): A function that will be called every few iterations of the model. Useful for displaying intermediate images or to estimate the remaining generation time."
   ]
  },
  {
   "cell_type": "code",
   "execution_count": null,
   "id": "4ff06e69",
   "metadata": {},
   "outputs": [],
   "source": [
    "n_images = 16\n",
    "samples = model.generate(n_images, seed=seed)\n",
    "display_images(samples)"
   ]
  },
  {
   "cell_type": "markdown",
   "id": "0ef4ae82",
   "metadata": {},
   "source": [
    "The diffusion process looks as follows:"
   ]
  },
  {
   "cell_type": "code",
   "execution_count": null,
   "id": "5d1a9f11",
   "metadata": {},
   "outputs": [],
   "source": [
    "display_evolution(model, num_samples=4, seed=seed)"
   ]
  }
 ],
 "metadata": {
  "kernelspec": {
   "display_name": "Python 3",
   "language": "python",
   "name": "python3"
  },
  "language_info": {
   "codemirror_mode": {
    "name": "ipython",
    "version": 3
   },
   "file_extension": ".py",
   "mimetype": "text/x-python",
   "name": "python",
   "nbconvert_exporter": "python",
   "pygments_lexer": "ipython3",
   "version": "3.12.6"
  }
 },
 "nbformat": 4,
 "nbformat_minor": 5
}
