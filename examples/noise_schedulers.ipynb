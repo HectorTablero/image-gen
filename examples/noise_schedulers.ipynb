{
    "cells": [
        {
            "cell_type": "markdown",
            "id": "6d6fdd69",
            "metadata": {},
            "source": [
                "<pre style=\"text-align: right; width: 100%; font-size: 0.75em; line-height: 0.75em;\">\n",
                "+ ------------------------- + <br>\n",
                "| 20/04/2025                | <br>\n",
                "| Héctor Tablero Díaz       | <br>\n",
                "| Álvaro Martínez Gamo      | <br>\n",
                "+ ------------------------- + \n",
                "</pre>"
            ]
        },
        {
            "cell_type": "markdown",
            "id": "05256d2e",
            "metadata": {},
            "source": [
                "# **Noise Schedulers**"
            ]
        },
        {
            "cell_type": "code",
            "execution_count": 1,
            "id": "bbea568d",
            "metadata": {},
            "outputs": [
                {
                    "name": "stderr",
                    "output_type": "stream",
                    "text": [
                        "c:\\Users\\alva0\\Desktop\\3º ICID\\2º cuatri\\AAUTO3\\proyecto\\image-gen\\examples\\..\\image_gen\\samplers\\euler_maruyama.py:5: TqdmExperimentalWarning: Using `tqdm.autonotebook.tqdm` in notebook mode. Use `tqdm.tqdm` instead to force console mode (e.g. in jupyter console)\n",
                        "  from tqdm.autonotebook import tqdm\n"
                    ]
                }
            ],
            "source": [
                "import sys\n",
                "sys.path.append('./..')\n",
                "\n",
                "import os\n",
                "\n",
                "import torch\n",
                "from torch.utils.data import Subset\n",
                "from torchvision import datasets\n",
                "from torchvision.transforms import ToTensor\n",
                "\n",
                "from image_gen import GenerativeModel\n",
                "from image_gen.samplers import EulerMaruyama\n",
                "from image_gen.diffusion import VariancePreserving\n",
                "from image_gen.noise import LinearNoiseSchedule, CosineNoiseSchedule\n",
                "\n",
                "import matplotlib.pyplot as plt\n",
                "from IPython.display import HTML\n",
                "from image_gen.visualization import display_images, create_evolution_widget"
            ]
        },
        {
            "cell_type": "code",
            "execution_count": 2,
            "id": "1e141f86",
            "metadata": {},
            "outputs": [],
            "source": [
                "epochs = 50\n",
                "digit = 3\n",
                "\n",
                "seed = 42"
            ]
        },
        {
            "cell_type": "code",
            "execution_count": 3,
            "id": "3e217ae4",
            "metadata": {},
            "outputs": [],
            "source": [
                "# Load the dataset\n",
                "data = datasets.MNIST(\n",
                "    root='data',\n",
                "    train=True,\n",
                "    download=True,\n",
                "    transform=ToTensor()\n",
                ")\n",
                "\n",
                "# Select a subset to speed up the training process\n",
                "indices_digit = torch.where(data.targets == digit)[0]\n",
                "data = Subset(data, indices_digit)"
            ]
        },
        {
            "cell_type": "markdown",
            "id": "9113ff2c",
            "metadata": {},
            "source": [
                "Noise schedulers control how noise is introduced during the diffusion process. The scheduling of $\\beta_t$ (noise level at time $t$) significantly impacts:\n",
                "- Training stability\n",
                "- Sample quality\n",
                "- Generation speed\n",
                "\n",
                "Two primary schedules are implemented:\n",
                "\n",
                "| Schedule Type | Key Characteristics                          | Best For                  |\n",
                "|---------------|---------------------------------------------|--------------------------|\n",
                "| [Linear](#linear) | Constant noise increase                  | Stable training          |\n",
                "| [Cosine](#cosine) | Adaptive non-linear progression         | High-quality generation  |"
            ]
        },
        {
            "cell_type": "markdown",
            "id": "db0f1444",
            "metadata": {},
            "source": [
                "### **Visual Comparison**"
            ]
        },
        {
            "cell_type": "markdown",
            "id": "dc7c1140",
            "metadata": {},
            "source": [
                "The schedules determine how much noise will be added over time. We can preview their impact by plotting the result of their `__call__` method:"
            ]
        },
        {
            "cell_type": "code",
            "execution_count": 4,
            "id": "71bfcade",
            "metadata": {},
            "outputs": [
                {
                    "data": {
                        "image/png": "[encoded data removed]",
                        "text/plain": [
                            "<Figure size 500x500 with 1 Axes>"
                        ]
                    },
                    "metadata": {},
                    "output_type": "display_data"
                }
            ],
            "source": [
                "beta_max = 100.0\n",
                "x = torch.linspace(0.0001, 0.9999, 100)\n",
                "\n",
                "plt.figure(figsize=(5, 5))\n",
                "\n",
                "lin_schedule = LinearNoiseSchedule(beta_max=beta_max)\n",
                "plt.plot(x, lin_schedule(x), label='Linear Schedule', color='blue', linewidth=2)\n",
                "\n",
                "cos_schedule = CosineNoiseSchedule(beta_max=beta_max)\n",
                "plt.plot(x, cos_schedule(x), label='Cosine Schedule', color='green', linewidth=2)\n",
                "\n",
                "plt.legend()\n",
                "plt.show()"
            ]
        },
        {
            "cell_type": "markdown",
            "id": "b7551d63",
            "metadata": {},
            "source": [
                "*Default schedules with $\\beta_{max}=50.0$ showing fundamental curve differences*"
            ]
        },
        {
            "cell_type": "markdown",
            "id": "521e3dbb",
            "metadata": {},
            "source": [
                "### <span id=\"linear\">**Linear Noise Schedule**</span>"
            ]
        },
        {
            "cell_type": "markdown",
            "id": "9a27468c",
            "metadata": {},
            "source": [
                "#### Mathematical Definition\n",
                "$$\\beta_{t} = \\beta_{\\min} + (\\beta_{\\max} - \\beta_{\\min}) \\cdot \\frac{t}{T_{\\max}}$$"
            ]
        },
        {
            "cell_type": "markdown",
            "id": "ab0b6af9",
            "metadata": {},
            "source": [
                "#### Parameters\n",
                "| Parameter  | Type | Default | Description                          |\n",
                "|------------|---|---------|--------------------------------------|\n",
                "| $\\beta_{\\min}$ (`beta_min`) | float | 0.001   | Minimum noise level                  |\n",
                "| $\\beta_{\\max}$ (`beta_max`) | float | 50.0    | Maximum noise level                  |"
            ]
        },
        {
            "cell_type": "markdown",
            "id": "8246b1b6",
            "metadata": {},
            "source": [
                "#### Characteristics\n",
                "- **Training**: Highly stable due to predictable gradient scaling\n",
                "- **Generation**: Tends to produce smoother but less detailed outputs\n",
                "- **Tuning Tip**: Lower $\\beta_{\\max}$ values (20-30) often work better for high-resolution images"
            ]
        },
        {
            "cell_type": "markdown",
            "id": "2711361a",
            "metadata": {},
            "source": [
                "#### Usage Example"
            ]
        },
        {
            "cell_type": "code",
            "execution_count": 5,
            "id": "7817140d",
            "metadata": {},
            "outputs": [],
            "source": [
                "model = GenerativeModel(\n",
                "    diffusion=VariancePreserving,\n",
                "    sampler=EulerMaruyama,\n",
                "    noise_schedule=LinearNoiseSchedule(beta_max=50.0)\n",
                ")"
            ]
        },
        {
            "cell_type": "code",
            "execution_count": 6,
            "id": "f8384449",
            "metadata": {},
            "outputs": [
                {
                    "data": {
                        "application/vnd.jupyter.widget-view+json": {
                            "model_id": "91ba9d12c49a4f10a8476b886735519b",
                            "version_major": 2,
                            "version_minor": 0
                        },
                        "text/plain": [
                            "Training:   0%|          | 0/50 [00:00<?, ?it/s]"
                        ]
                    },
                    "metadata": {},
                    "output_type": "display_data"
                },
                {
                    "data": {
                        "application/vnd.jupyter.widget-view+json": {
                            "model_id": "958ef11659b34d8a887c6b48e1539d51",
                            "version_major": 2,
                            "version_minor": 0
                        },
                        "text/plain": [
                            "Epoch 1:   0%|          | 0/192 [00:00<?, ?it/s]"
                        ]
                    },
                    "metadata": {},
                    "output_type": "display_data"
                },
                {
                    "ename": "KeyboardInterrupt",
                    "evalue": "",
                    "output_type": "error",
                    "traceback": [
                        "\u001b[1;31m---------------------------------------------------------------------------\u001b[0m",
                        "\u001b[1;31mKeyboardInterrupt\u001b[0m                         Traceback (most recent call last)",
                        "Cell \u001b[1;32mIn[6], line 6\u001b[0m\n\u001b[0;32m      4\u001b[0m     model\u001b[38;5;241m.\u001b[39mload(filename)\n\u001b[0;32m      5\u001b[0m \u001b[38;5;28;01melse\u001b[39;00m:\n\u001b[1;32m----> 6\u001b[0m     \u001b[43mmodel\u001b[49m\u001b[38;5;241;43m.\u001b[39;49m\u001b[43mtrain\u001b[49m\u001b[43m(\u001b[49m\u001b[43mdata\u001b[49m\u001b[43m,\u001b[49m\u001b[43m \u001b[49m\u001b[43mepochs\u001b[49m\u001b[38;5;241;43m=\u001b[39;49m\u001b[43mepochs\u001b[49m\u001b[43m)\u001b[49m\n\u001b[0;32m      7\u001b[0m     \u001b[38;5;66;03m# Tip: Save the models for them to be accessible through the dashboard\u001b[39;00m\n\u001b[0;32m      8\u001b[0m     model\u001b[38;5;241m.\u001b[39msave(filename)\n",
                        "File \u001b[1;32mc:\\Users\\alva0\\Desktop\\3º ICID\\2º cuatri\\AAUTO3\\proyecto\\image-gen\\examples\\..\\image_gen\\base.py:221\u001b[0m, in \u001b[0;36mGenerativeModel.train\u001b[1;34m(self, dataset, epochs, batch_size, lr)\u001b[0m\n\u001b[0;32m    218\u001b[0m \u001b[38;5;28;01melse\u001b[39;00m:\n\u001b[0;32m    219\u001b[0m     loss \u001b[38;5;241m=\u001b[39m \u001b[38;5;28mself\u001b[39m\u001b[38;5;241m.\u001b[39mloss_function(x0)\n\u001b[1;32m--> 221\u001b[0m \u001b[43mloss\u001b[49m\u001b[38;5;241;43m.\u001b[39;49m\u001b[43mbackward\u001b[49m\u001b[43m(\u001b[49m\u001b[43m)\u001b[49m\n\u001b[0;32m    222\u001b[0m optimizer\u001b[38;5;241m.\u001b[39mstep()\n\u001b[0;32m    224\u001b[0m avg_loss \u001b[38;5;241m+\u001b[39m\u001b[38;5;241m=\u001b[39m loss\u001b[38;5;241m.\u001b[39mitem() \u001b[38;5;241m*\u001b[39m x0\u001b[38;5;241m.\u001b[39mshape[\u001b[38;5;241m0\u001b[39m]\n",
                        "File \u001b[1;32mc:\\Python312\\Lib\\site-packages\\torch\\_tensor.py:626\u001b[0m, in \u001b[0;36mTensor.backward\u001b[1;34m(self, gradient, retain_graph, create_graph, inputs)\u001b[0m\n\u001b[0;32m    616\u001b[0m \u001b[38;5;28;01mif\u001b[39;00m has_torch_function_unary(\u001b[38;5;28mself\u001b[39m):\n\u001b[0;32m    617\u001b[0m     \u001b[38;5;28;01mreturn\u001b[39;00m handle_torch_function(\n\u001b[0;32m    618\u001b[0m         Tensor\u001b[38;5;241m.\u001b[39mbackward,\n\u001b[0;32m    619\u001b[0m         (\u001b[38;5;28mself\u001b[39m,),\n\u001b[1;32m   (...)\u001b[0m\n\u001b[0;32m    624\u001b[0m         inputs\u001b[38;5;241m=\u001b[39minputs,\n\u001b[0;32m    625\u001b[0m     )\n\u001b[1;32m--> 626\u001b[0m \u001b[43mtorch\u001b[49m\u001b[38;5;241;43m.\u001b[39;49m\u001b[43mautograd\u001b[49m\u001b[38;5;241;43m.\u001b[39;49m\u001b[43mbackward\u001b[49m\u001b[43m(\u001b[49m\n\u001b[0;32m    627\u001b[0m \u001b[43m    \u001b[49m\u001b[38;5;28;43mself\u001b[39;49m\u001b[43m,\u001b[49m\u001b[43m \u001b[49m\u001b[43mgradient\u001b[49m\u001b[43m,\u001b[49m\u001b[43m \u001b[49m\u001b[43mretain_graph\u001b[49m\u001b[43m,\u001b[49m\u001b[43m \u001b[49m\u001b[43mcreate_graph\u001b[49m\u001b[43m,\u001b[49m\u001b[43m \u001b[49m\u001b[43minputs\u001b[49m\u001b[38;5;241;43m=\u001b[39;49m\u001b[43minputs\u001b[49m\n\u001b[0;32m    628\u001b[0m \u001b[43m\u001b[49m\u001b[43m)\u001b[49m\n",
                        "File \u001b[1;32mc:\\Python312\\Lib\\site-packages\\torch\\autograd\\__init__.py:347\u001b[0m, in \u001b[0;36mbackward\u001b[1;34m(tensors, grad_tensors, retain_graph, create_graph, grad_variables, inputs)\u001b[0m\n\u001b[0;32m    342\u001b[0m     retain_graph \u001b[38;5;241m=\u001b[39m create_graph\n\u001b[0;32m    344\u001b[0m \u001b[38;5;66;03m# The reason we repeat the same comment below is that\u001b[39;00m\n\u001b[0;32m    345\u001b[0m \u001b[38;5;66;03m# some Python versions print out the first line of a multi-line function\u001b[39;00m\n\u001b[0;32m    346\u001b[0m \u001b[38;5;66;03m# calls in the traceback and some print out the last line\u001b[39;00m\n\u001b[1;32m--> 347\u001b[0m \u001b[43m_engine_run_backward\u001b[49m\u001b[43m(\u001b[49m\n\u001b[0;32m    348\u001b[0m \u001b[43m    \u001b[49m\u001b[43mtensors\u001b[49m\u001b[43m,\u001b[49m\n\u001b[0;32m    349\u001b[0m \u001b[43m    \u001b[49m\u001b[43mgrad_tensors_\u001b[49m\u001b[43m,\u001b[49m\n\u001b[0;32m    350\u001b[0m \u001b[43m    \u001b[49m\u001b[43mretain_graph\u001b[49m\u001b[43m,\u001b[49m\n\u001b[0;32m    351\u001b[0m \u001b[43m    \u001b[49m\u001b[43mcreate_graph\u001b[49m\u001b[43m,\u001b[49m\n\u001b[0;32m    352\u001b[0m \u001b[43m    \u001b[49m\u001b[43minputs\u001b[49m\u001b[43m,\u001b[49m\n\u001b[0;32m    353\u001b[0m \u001b[43m    \u001b[49m\u001b[43mallow_unreachable\u001b[49m\u001b[38;5;241;43m=\u001b[39;49m\u001b[38;5;28;43;01mTrue\u001b[39;49;00m\u001b[43m,\u001b[49m\n\u001b[0;32m    354\u001b[0m \u001b[43m    \u001b[49m\u001b[43maccumulate_grad\u001b[49m\u001b[38;5;241;43m=\u001b[39;49m\u001b[38;5;28;43;01mTrue\u001b[39;49;00m\u001b[43m,\u001b[49m\n\u001b[0;32m    355\u001b[0m \u001b[43m\u001b[49m\u001b[43m)\u001b[49m\n",
                        "File \u001b[1;32mc:\\Python312\\Lib\\site-packages\\torch\\autograd\\graph.py:823\u001b[0m, in \u001b[0;36m_engine_run_backward\u001b[1;34m(t_outputs, *args, **kwargs)\u001b[0m\n\u001b[0;32m    821\u001b[0m     unregister_hooks \u001b[38;5;241m=\u001b[39m _register_logging_hooks_on_whole_graph(t_outputs)\n\u001b[0;32m    822\u001b[0m \u001b[38;5;28;01mtry\u001b[39;00m:\n\u001b[1;32m--> 823\u001b[0m     \u001b[38;5;28;01mreturn\u001b[39;00m \u001b[43mVariable\u001b[49m\u001b[38;5;241;43m.\u001b[39;49m\u001b[43m_execution_engine\u001b[49m\u001b[38;5;241;43m.\u001b[39;49m\u001b[43mrun_backward\u001b[49m\u001b[43m(\u001b[49m\u001b[43m  \u001b[49m\u001b[38;5;66;43;03m# Calls into the C++ engine to run the backward pass\u001b[39;49;00m\n\u001b[0;32m    824\u001b[0m \u001b[43m        \u001b[49m\u001b[43mt_outputs\u001b[49m\u001b[43m,\u001b[49m\u001b[43m \u001b[49m\u001b[38;5;241;43m*\u001b[39;49m\u001b[43margs\u001b[49m\u001b[43m,\u001b[49m\u001b[43m \u001b[49m\u001b[38;5;241;43m*\u001b[39;49m\u001b[38;5;241;43m*\u001b[39;49m\u001b[43mkwargs\u001b[49m\n\u001b[0;32m    825\u001b[0m \u001b[43m    \u001b[49m\u001b[43m)\u001b[49m  \u001b[38;5;66;03m# Calls into the C++ engine to run the backward pass\u001b[39;00m\n\u001b[0;32m    826\u001b[0m \u001b[38;5;28;01mfinally\u001b[39;00m:\n\u001b[0;32m    827\u001b[0m     \u001b[38;5;28;01mif\u001b[39;00m attach_logging_hooks:\n",
                        "\u001b[1;31mKeyboardInterrupt\u001b[0m: "
                    ]
                }
            ],
            "source": [
                "filename = f'saved_models/mnist_{digit}_vp-lin_euler_{epochs}e.pth'\n",
                "\n",
                "if os.path.isfile(filename):\n",
                "    model.load(filename)\n",
                "else:\n",
                "    model.train(data, epochs=epochs)\n",
                "    # Tip: Save the models for them to be accessible through the dashboard\n",
                "    model.save(filename)"
            ]
        },
        {
            "cell_type": "code",
            "execution_count": null,
            "id": "1f1ad0ca",
            "metadata": {},
            "outputs": [],
            "source": [
                "n_images = 16\n",
                "samples = model.generate(n_images, seed=seed)\n",
                "display_images(samples)"
            ]
        },
        {
            "cell_type": "code",
            "execution_count": null,
            "id": "23f494a7",
            "metadata": {},
            "outputs": [],
            "source": [
                "HTML(create_evolution_widget(model, seed=seed).to_jshtml(default_mode=\"once\"))"
            ]
        },
        {
            "cell_type": "markdown",
            "id": "21e0f6ff",
            "metadata": {},
            "source": [
                "### <span id=\"cosine\">**Cosine Noise Schedule**</span>"
            ]
        },
        {
            "cell_type": "markdown",
            "id": "543a513b",
            "metadata": {},
            "source": [
                "#### Mathematical Definition\n",
                "$$\\beta_{t} = \\min(0.999, 1 - \\frac{\\overline{\\alpha_{t}}}{\\overline{\\alpha_{t-1}}}); \\quad\\quad \\overline{\\alpha_{t}} = \\frac{\\cos^{2}(\\frac{\\pi}{2} \\cdot \\frac{\\frac{t}{T_{\\max}} + s}{1 + s})}{\\cos^{2}(\\frac{\\pi}{2} \\cdot \\frac{s}{1 + s})}; \\quad t = 0, 1, 2, \\dots, T$$"
            ]
        },
        {
            "cell_type": "markdown",
            "id": "648be712",
            "metadata": {},
            "source": [
                "#### Parameters\n",
                "| Parameter  | Type | Default | Description                          |\n",
                "|------------|---|---------|--------------------------------------|\n",
                "| $\\beta_{\\min}$ (`beta_min`) | float | 0.001   | Minimum noise level                  |\n",
                "| $\\beta_{\\max}$ (`beta_max`) | float | 50.0    | Maximum noise level                  |\n",
                "| $s$ (`s`) | float | 0.008   | Smoothing factor (lower = sharper transition) |"
            ]
        },
        {
            "cell_type": "markdown",
            "id": "abd34ac7",
            "metadata": {},
            "source": [
                "#### Characteristics\n",
                "- **Training**: Requires careful learning rate adjustment\n",
                "- **Generation**: Preserves fine details better than linear"
            ]
        },
        {
            "cell_type": "markdown",
            "id": "fa238092",
            "metadata": {},
            "source": [
                "#### Usage Example"
            ]
        },
        {
            "cell_type": "code",
            "execution_count": null,
            "id": "a0f86829",
            "metadata": {},
            "outputs": [],
            "source": [
                "model = GenerativeModel(\n",
                "    diffusion=VariancePreserving,\n",
                "    sampler=EulerMaruyama,\n",
                "    noise_schedule=CosineNoiseSchedule\n",
                ")"
            ]
        },
        {
            "cell_type": "code",
            "execution_count": null,
            "id": "14b10a6f",
            "metadata": {},
            "outputs": [],
            "source": [
                "filename = f'saved_models/mnist_{digit}_vp-cos_euler_{epochs}e.pth'\n",
                "\n",
                "if os.path.isfile(filename):\n",
                "    model.load(filename)\n",
                "else:\n",
                "    model.train(data, epochs=epochs)\n",
                "    # Tip: Save the models for them to be accessible through the dashboard\n",
                "    model.save(filename)"
            ]
        },
        {
            "cell_type": "code",
            "execution_count": null,
            "id": "a24cd184",
            "metadata": {},
            "outputs": [],
            "source": [
                "n_images = 16\n",
                "samples = model.generate(n_images, seed=seed)\n",
                "display_images(samples)"
            ]
        },
        {
            "cell_type": "code",
            "execution_count": null,
            "id": "0b1fbc91",
            "metadata": {},
            "outputs": [],
            "source": [
                "HTML(create_evolution_widget(model, seed=seed).to_jshtml(default_mode=\"once\"))"
            ]
        },
        {
            "cell_type": "markdown",
            "id": "8f9f4a85",
            "metadata": {},
            "source": [
                "### **Creating Custom Classes**"
            ]
        },
        {
            "cell_type": "markdown",
            "id": "0464b3f8",
            "metadata": {},
            "source": [
                "Custom noise schedulers can be created by inheriting from the class `BaseNoiseSchedule`. They must implement a `__call__` function and an `integral_beta` function (integral of `__call__` from $0$ to $t$).\n",
                "\n",
                "It is currently not supported to load models with a custom schedule, but it is highly recommended that they implement a `config` method for future updates."
            ]
        },
        {
            "cell_type": "markdown",
            "id": "b9c6964a",
            "metadata": {},
            "source": [
                "#### Implementation Example (Exponential Schedule)"
            ]
        },
        {
            "cell_type": "code",
            "execution_count": null,
            "id": "0b20543a",
            "metadata": {},
            "outputs": [],
            "source": [
                "from torch import Tensor\n",
                "from image_gen.noise import BaseNoiseSchedule\n",
                "\n",
                "class ExponentialNoiseSchedule(BaseNoiseSchedule):\n",
                "    def __init__(self, *args, beta_min: float = 0.001, beta_max: float = 50.0, e: float = 2.0, **kwargs):\n",
                "        self.beta_min = beta_min\n",
                "        self.beta_max = beta_max\n",
                "        self.e = e\n",
                "\n",
                "    def __call__(self, t: Tensor, *args, **kwargs) -> Tensor:\n",
                "        return self.beta_min + t ** self.e * (self.beta_max - self.beta_min)\n",
                "\n",
                "    def integral_beta(self, t: Tensor, *args, **kwargs) -> Tensor:\n",
                "        integral_beta_min = self.beta_min * t\n",
                "        integral_t = (self.beta_max - self.beta_min) * (t ** (self.e + 1)) / (self.e + 1)\n",
                "        return integral_beta_min + integral_t\n",
                "\n",
                "    def config(self) -> dict:\n",
                "        return {\n",
                "            \"beta_min\": self.beta_min,\n",
                "            \"beta_max\": self.beta_max,\n",
                "            \"e\": self.e\n",
                "        }"
            ]
        },
        {
            "cell_type": "markdown",
            "id": "cd03b6a6",
            "metadata": {},
            "source": [
                "#### Visual Comparison (against the default classes)"
            ]
        },
        {
            "cell_type": "code",
            "execution_count": null,
            "id": "6217a893",
            "metadata": {},
            "outputs": [],
            "source": [
                "beta_max = 100.0\n",
                "x = torch.linspace(0.0001, 0.9999, 100)\n",
                "\n",
                "plt.figure(figsize=(5, 5))\n",
                "\n",
                "lin_schedule = LinearNoiseSchedule(beta_max=beta_max)\n",
                "plt.plot(x, lin_schedule(x), label='Linear Schedule', color='blue', alpha=0.25)\n",
                "\n",
                "cos_schedule = CosineNoiseSchedule(beta_max=beta_max)\n",
                "plt.plot(x, cos_schedule(x), label='Cosine Schedule', color='green', alpha=0.25)\n",
                "\n",
                "exp_schedule = ExponentialNoiseSchedule(beta_max=beta_max, e=2.0)\n",
                "plt.plot(x, exp_schedule(x), label='Exponential Schedule (e = 2)', color='purple', linewidth=2)\n",
                "\n",
                "exp_schedule = ExponentialNoiseSchedule(beta_max=beta_max, e=3.0)\n",
                "plt.plot(x, exp_schedule(x), label='Exponential Schedule (e = 3)', color='violet', linewidth=2)\n",
                "\n",
                "exp_schedule = ExponentialNoiseSchedule(beta_max=beta_max, e=5.0)\n",
                "plt.plot(x, exp_schedule(x), label='Exponential Schedule (e = 5)', color='pink', linewidth=2)\n",
                "\n",
                "plt.legend()\n",
                "plt.show()"
            ]
        },
        {
            "cell_type": "markdown",
            "id": "2c4cdaee",
            "metadata": {},
            "source": [
                "#### Usage Example"
            ]
        },
        {
            "cell_type": "code",
            "execution_count": null,
            "id": "4b2a85fc",
            "metadata": {},
            "outputs": [],
            "source": [
                "model = GenerativeModel(\n",
                "    diffusion=VariancePreserving,\n",
                "    sampler=EulerMaruyama,\n",
                "    noise_schedule=ExponentialNoiseSchedule\n",
                ")"
            ]
        },
        {
            "cell_type": "code",
            "execution_count": null,
            "id": "f884bf79",
            "metadata": {},
            "outputs": [],
            "source": [
                "model.train(data, epochs=epochs)"
            ]
        },
        {
            "cell_type": "code",
            "execution_count": null,
            "id": "ca427ccf",
            "metadata": {},
            "outputs": [],
            "source": [
                "n_images = 16\n",
                "samples = model.generate(n_images, seed=seed)\n",
                "display_images(samples)"
            ]
        },
        {
            "cell_type": "code",
            "execution_count": null,
            "id": "a497a4f8",
            "metadata": {},
            "outputs": [],
            "source": [
                "HTML(create_evolution_widget(model, seed=seed).to_jshtml(default_mode=\"once\"))"
            ]
        }
    ],
    "metadata": {
        "kernelspec": {
            "display_name": "Python 3",
            "language": "python",
            "name": "python3"
        },
        "language_info": {
            "codemirror_mode": {
                "name": "ipython",
                "version": 3
            },
            "file_extension": ".py",
            "mimetype": "text/x-python",
            "name": "python",
            "nbconvert_exporter": "python",
            "pygments_lexer": "ipython3",
            "version": "3.12.4"
        }
    },
    "nbformat": 4,
    "nbformat_minor": 5
}
