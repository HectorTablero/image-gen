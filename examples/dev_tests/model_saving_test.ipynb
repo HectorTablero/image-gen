{
 "cells": [
  {
   "cell_type": "code",
   "execution_count": null,
   "id": "9eea3557",
   "metadata": {},
   "outputs": [],
   "source": [
    "from torch import Tensor\n",
    "\n",
    "import sys\n",
    "sys.path.append('./../..')\n",
    "\n",
    "from image_gen.noise import BaseNoiseSchedule\n",
    "from image_gen.utils import get_class_source"
   ]
  },
  {
   "cell_type": "code",
   "execution_count": null,
   "id": "c8ec0ca3",
   "metadata": {},
   "outputs": [],
   "source": [
    "class Test:\n",
    "    def __mult__(self, other):\n",
    "        return NotImplemented\n",
    "\n",
    "class OriginalClassName(Test):\n",
    "    VAR = 1\n",
    "    def __init__(self, a: int, b: bool = True):\n",
    "        self._a = a\n",
    "        self._b = b\n",
    "        self.var = OriginalClassName.VAR  # Self-reference example\n",
    "\n",
    "    def __call__(self):\n",
    "        return self._a\n",
    "        \n",
    "    def method(self):\n",
    "        def nested_func():\n",
    "            print(\"Inside nested\")\n",
    "        return nested_func\n",
    "\n",
    "    @classmethod\n",
    "    def class_method(cls):\n",
    "        print(f\"Class method of {OriginalClassName.__name__}\")\n",
    "        \n",
    "    @staticmethod\n",
    "    def static_method():\n",
    "        print(\"Static method of OriginalClassName\")\n",
    "\n",
    "    @property\n",
    "    def a(self):\n",
    "        return self.a\n",
    "    \n",
    "    @a.setter\n",
    "    def a(self, value):\n",
    "        self._a = value\n",
    "\n",
    "def sample_function():\n",
    "    print(\"I'm a function\")"
   ]
  },
  {
   "cell_type": "code",
   "execution_count": null,
   "id": "652e8f8f",
   "metadata": {},
   "outputs": [],
   "source": [
    "class ExponentialNoiseSchedule(BaseNoiseSchedule):\n",
    "    def __init__(self, *args, beta_min: float = 0.001, beta_max: float = 50.0, e: float = 2.0, **kwargs):\n",
    "        self.beta_min = beta_min\n",
    "        self.beta_max = beta_max\n",
    "        self.e = e\n",
    "\n",
    "    def __call__(self, t: Tensor, *args, **kwargs) -> Tensor:\n",
    "        return self.beta_min + t ** self.e * (self.beta_max - self.beta_min)\n",
    "\n",
    "    def integral_beta(self, t: Tensor, *args, **kwargs) -> Tensor:\n",
    "        integral_beta_min = self.beta_min * t\n",
    "        integral_t = (self.beta_max - self.beta_min) * (t ** (self.e + 1)) / (self.e + 1)\n",
    "        return integral_beta_min + integral_t\n",
    "\n",
    "    def config(self) -> dict:\n",
    "        return {\n",
    "            \"beta_min\": self.beta_min,\n",
    "            \"beta_max\": self.beta_max,\n",
    "            \"e\": self.e\n",
    "        }"
   ]
  },
  {
   "cell_type": "code",
   "execution_count": null,
   "id": "2cb562ef",
   "metadata": {},
   "outputs": [],
   "source": [
    "print(get_class_source(OriginalClassName))"
   ]
  },
  {
   "cell_type": "code",
   "execution_count": null,
   "id": "25e4d23a",
   "metadata": {},
   "outputs": [],
   "source": [
    "print(get_class_source(ExponentialNoiseSchedule))"
   ]
  },
  {
   "cell_type": "code",
   "execution_count": null,
   "id": "2833203f",
   "metadata": {},
   "outputs": [],
   "source": [
    "import ast\n",
    "\n",
    "class ClassRenamer(ast.NodeTransformer):\n",
    "    def __init__(self, old_name, new_name):\n",
    "        self.old_name = old_name\n",
    "        self.new_name = new_name\n",
    "        self.in_class = False\n",
    "\n",
    "    def visit_ClassDef(self, node):\n",
    "        # Rename the class definition\n",
    "        if node.name == self.old_name:\n",
    "            node.name = self.new_name\n",
    "            self.in_class = True\n",
    "        else:\n",
    "            self.in_class = False\n",
    "\n",
    "        # Process base classes\n",
    "        node.bases = [self.visit(base) for base in node.bases]\n",
    "        node.keywords = [self.visit(kw) for kw in node.keywords]\n",
    "        \n",
    "        # Process body while tracking class membership\n",
    "        original_in_class = self.in_class\n",
    "        self.generic_visit(node)\n",
    "        self.in_class = original_in_class\n",
    "        return node\n",
    "\n",
    "    def visit_Name(self, node):\n",
    "        # Handle references in type annotations and other contexts\n",
    "        if node.id == self.old_name and not self.in_class:\n",
    "            return ast.Name(id=self.new_name, ctx=node.ctx)\n",
    "        return node\n",
    "\n",
    "    def visit_Attribute(self, node):\n",
    "        # Handle class attribute accesses\n",
    "        if isinstance(node.value, ast.Name) and node.value.id == self.old_name:\n",
    "            node.value = ast.Name(id=self.new_name, ctx=ast.Load())\n",
    "        self.generic_visit(node)\n",
    "        return node\n",
    "\n",
    "    def visit_Call(self, node):\n",
    "        # Handle class instantiations\n",
    "        if isinstance(node.func, ast.Name) and node.func.id == self.old_name:\n",
    "            node.func = ast.Name(id=self.new_name, ctx=ast.Load())\n",
    "        self.generic_visit(node)\n",
    "        return node\n",
    "\n",
    "    def visit_FunctionDef(self, node):\n",
    "        # Handle type annotations in arguments\n",
    "        for arg in node.args.args:\n",
    "            if arg.annotation:\n",
    "                arg.annotation = self.visit(arg.annotation)\n",
    "        if node.returns:\n",
    "            node.returns = self.visit(node.returns)\n",
    "        self.generic_visit(node)\n",
    "        return node\n",
    "\n",
    "def rename_class(source_code, old_name, new_name):\n",
    "    tree = ast.parse(source_code)\n",
    "    transformer = ClassRenamer(old_name, new_name)\n",
    "    new_tree = transformer.visit(tree)\n",
    "    ast.fix_missing_locations(new_tree)\n",
    "    return ast.unparse(new_tree)"
   ]
  },
  {
   "cell_type": "code",
   "execution_count": null,
   "id": "60ea1524",
   "metadata": {},
   "outputs": [],
   "source": [
    "print(rename_class(get_class_source(OriginalClassName), \"OriginalClassName\", \"NewClassName\"))"
   ]
  },
  {
   "cell_type": "code",
   "execution_count": null,
   "id": "b688ff29",
   "metadata": {},
   "outputs": [],
   "source": [
    "print(rename_class(get_class_source(ExponentialNoiseSchedule), \"ExponentialNoiseSchedule\", \"NewClassName2\"))"
   ]
  },
  {
   "cell_type": "code",
   "execution_count": null,
   "id": "a4ff7658",
   "metadata": {},
   "outputs": [],
   "source": [
    "from image_gen.utils import CustomClassWrapper"
   ]
  },
  {
   "cell_type": "code",
   "execution_count": null,
   "id": "75ce739d",
   "metadata": {},
   "outputs": [],
   "source": [
    "exp = CustomClassWrapper(get_class_source(ExponentialNoiseSchedule), \"ExponentialNoiseSchedule\")"
   ]
  },
  {
   "cell_type": "code",
   "execution_count": null,
   "id": "ee1fa317",
   "metadata": {},
   "outputs": [],
   "source": [
    "exp.loaded"
   ]
  },
  {
   "cell_type": "markdown",
   "id": "feda3c39",
   "metadata": {},
   "source": [
    "The code isn't run until needed, which gives the user time to verify the content"
   ]
  },
  {
   "cell_type": "code",
   "execution_count": null,
   "id": "f11b3e5c",
   "metadata": {},
   "outputs": [],
   "source": [
    "import torch\n",
    "import matplotlib.pyplot as plt\n",
    "\n",
    "x = torch.linspace(0.0001, 0.9999, 100)\n",
    "\n",
    "plt.figure(figsize=(5, 5))\n",
    "\n",
    "plt.plot(x, exp(x), label='Exponential Schedule', color='blue', linewidth=2)\n",
    "\n",
    "plt.legend()\n",
    "plt.show()"
   ]
  },
  {
   "cell_type": "code",
   "execution_count": null,
   "id": "69c15319",
   "metadata": {},
   "outputs": [],
   "source": [
    "exp.loaded"
   ]
  },
  {
   "cell_type": "code",
   "execution_count": null,
   "id": "c0d8deff",
   "metadata": {},
   "outputs": [],
   "source": [
    "print(exp._code)"
   ]
  }
 ],
 "metadata": {
  "kernelspec": {
   "display_name": "Python 3",
   "language": "python",
   "name": "python3"
  },
  "language_info": {
   "codemirror_mode": {
    "name": "ipython",
    "version": 3
   },
   "file_extension": ".py",
   "mimetype": "text/x-python",
   "name": "python",
   "nbconvert_exporter": "python",
   "pygments_lexer": "ipython3",
   "version": "3.12.6"
  }
 },
 "nbformat": 4,
 "nbformat_minor": 5
}
