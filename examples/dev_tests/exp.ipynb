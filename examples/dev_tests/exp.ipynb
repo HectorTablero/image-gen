{
 "cells": [
  {
   "cell_type": "code",
   "execution_count": null,
   "id": "456041b6",
   "metadata": {},
   "outputs": [],
   "source": [
    "%load_ext autoreload\n",
    "%autoreload 2\n",
    "\n",
    "import sys\n",
    "sys.path.append('./../..')\n",
    "\n",
    "import os\n",
    "\n",
    "import torch\n",
    "from torch.utils.data import Subset\n",
    "from torchvision import datasets\n",
    "from torchvision.transforms import ToTensor\n",
    "\n",
    "from image_gen import GenerativeModel\n",
    "from image_gen.samplers import ExponentialIntegrator\n",
    "from image_gen.diffusion import VarianceExploding, VariancePreserving, SubVariancePreserving\n",
    "from image_gen.noise import LinearNoiseSchedule\n",
    "\n",
    "from image_gen.visualization import display_images"
   ]
  },
  {
   "cell_type": "code",
   "execution_count": null,
   "id": "2a062308",
   "metadata": {},
   "outputs": [],
   "source": [
    "epochs = 20\n",
    "digit = 3\n",
    "\n",
    "seed = 42"
   ]
  },
  {
   "cell_type": "code",
   "execution_count": null,
   "id": "c2ca7cdf",
   "metadata": {},
   "outputs": [],
   "source": [
    "# Load the dataset\n",
    "data = datasets.MNIST(\n",
    "    root='data',\n",
    "    train=True,\n",
    "    download=True,\n",
    "    transform=ToTensor()\n",
    ")\n",
    "\n",
    "# Select a subset to speed up the training process\n",
    "indices_digit = torch.where(data.targets == digit)[0]\n",
    "data = Subset(data, indices_digit)"
   ]
  },
  {
   "cell_type": "markdown",
   "id": "a90b46aa",
   "metadata": {},
   "source": [
    "# **VE**"
   ]
  },
  {
   "cell_type": "code",
   "execution_count": null,
   "id": "8fb5c4e6",
   "metadata": {},
   "outputs": [],
   "source": [
    "model = GenerativeModel(\n",
    "    sampler=ExponentialIntegrator,\n",
    "    diffusion=VarianceExploding\n",
    ")"
   ]
  },
  {
   "cell_type": "code",
   "execution_count": null,
   "id": "f2dcfafb",
   "metadata": {},
   "outputs": [],
   "source": [
    "filename = f'mnist_{digit}_ve_{epochs}e.pth'\n",
    "\n",
    "if os.path.isfile(filename):\n",
    "    model.load(filename)\n",
    "else:\n",
    "    model.train(data, epochs=epochs)\n",
    "    # Tip: Save the models for them to be accessible through the dashboard\n",
    "    model.save(filename)"
   ]
  },
  {
   "cell_type": "code",
   "execution_count": null,
   "id": "bea7b4c6",
   "metadata": {},
   "outputs": [],
   "source": [
    "n_images = 16\n",
    "samples = model.generate(n_images, seed=seed)\n",
    "display_images(samples)"
   ]
  },
  {
   "cell_type": "markdown",
   "id": "43e2bae6",
   "metadata": {},
   "source": [
    "# **VP**"
   ]
  },
  {
   "cell_type": "code",
   "execution_count": null,
   "id": "de12ad47",
   "metadata": {},
   "outputs": [],
   "source": [
    "model = GenerativeModel(\n",
    "    sampler=ExponentialIntegrator,\n",
    "    diffusion=VariancePreserving,\n",
    "    noise_schedule=LinearNoiseSchedule\n",
    ")"
   ]
  },
  {
   "cell_type": "code",
   "execution_count": null,
   "id": "cc2a5600",
   "metadata": {},
   "outputs": [],
   "source": [
    "filename = f'mnist_{digit}_vp-lin_{epochs}e.pth'\n",
    "\n",
    "if os.path.isfile(filename):\n",
    "    model.load(filename)\n",
    "else:\n",
    "    model.train(data, epochs=epochs)\n",
    "    # Tip: Save the models for them to be accessible through the dashboard\n",
    "    model.save(filename)"
   ]
  },
  {
   "cell_type": "code",
   "execution_count": null,
   "id": "84020d55",
   "metadata": {},
   "outputs": [],
   "source": [
    "n_images = 16\n",
    "samples = model.generate(n_images, seed=seed)\n",
    "display_images(samples)"
   ]
  },
  {
   "cell_type": "markdown",
   "id": "6d3a7771",
   "metadata": {},
   "source": [
    "# **Sub-VP**"
   ]
  },
  {
   "cell_type": "code",
   "execution_count": null,
   "id": "3bc28fb5",
   "metadata": {},
   "outputs": [],
   "source": [
    "model = GenerativeModel(\n",
    "    sampler=ExponentialIntegrator,\n",
    "    diffusion=SubVariancePreserving,\n",
    "    noise_schedule=LinearNoiseSchedule\n",
    ")"
   ]
  },
  {
   "cell_type": "code",
   "execution_count": null,
   "id": "a1aefd10",
   "metadata": {},
   "outputs": [],
   "source": [
    "filename = f'mnist_{digit}_svp-lin_{epochs}e.pth'\n",
    "\n",
    "if os.path.isfile(filename):\n",
    "    model.load(filename)\n",
    "else:\n",
    "    model.train(data, epochs=epochs)\n",
    "    # Tip: Save the models for them to be accessible through the dashboard\n",
    "    model.save(filename)"
   ]
  },
  {
   "cell_type": "code",
   "execution_count": null,
   "id": "1a629201",
   "metadata": {},
   "outputs": [],
   "source": [
    "n_images = 16\n",
    "samples = model.generate(n_images, seed=seed)\n",
    "display_images(samples)"
   ]
  }
 ],
 "metadata": {
  "kernelspec": {
   "display_name": "Python 3",
   "language": "python",
   "name": "python3"
  },
  "language_info": {
   "codemirror_mode": {
    "name": "ipython",
    "version": 3
   },
   "file_extension": ".py",
   "mimetype": "text/x-python",
   "name": "python",
   "nbconvert_exporter": "python",
   "pygments_lexer": "ipython3",
   "version": "3.12.6"
  }
 },
 "nbformat": 4,
 "nbformat_minor": 5
}
