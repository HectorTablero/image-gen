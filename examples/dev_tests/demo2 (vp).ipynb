{
 "cells": [
  {
   "cell_type": "code",
   "execution_count": null,
   "metadata": {},
   "outputs": [],
   "source": [
    "%load_ext autoreload\n",
    "%autoreload 2\n",
    "\n",
    "DEVICE = \"cpu\" # cpu/cuda\n",
    "RETRAIN = False\n",
    "\n",
    "if DEVICE == \"cpu\":\n",
    "    import os\n",
    "    os.environ[\"CUDA_VISIBLE_DEVICES\"] = \"\"\n",
    "\n",
    "import sys\n",
    "sys.path.append('./../..')\n",
    "\n",
    "import torch\n",
    "from torch.utils.data import Subset\n",
    "from torchvision import datasets\n",
    "from torchvision.transforms import ToTensor\n",
    "import matplotlib.pyplot as plt\n",
    "import numpy as np\n",
    "\n",
    "from image_gen import GenerativeModel\n",
    "from image_gen.diffusion import VarianceExploding, VariancePreserving, SubVariancePreserving\n",
    "from image_gen.noise import LinearNoiseSchedule, CosineNoiseSchedule\n",
    "from image_gen.samplers import EulerMaruyama, ExponentialIntegrator, ODEProbabilityFlow, PredictorCorrector\n",
    "\n",
    "\n",
    "n_threads = torch.get_num_threads()\n",
    "print('Number of threads: {:d}'.format(n_threads))\n",
    "\n",
    "device = torch.device(DEVICE)"
   ]
  },
  {
   "cell_type": "code",
   "execution_count": null,
   "metadata": {},
   "outputs": [],
   "source": [
    "# Dataset MINST\n",
    "data = datasets.MNIST(\n",
    "    root='data',\n",
    "    train=True,\n",
    "    download=True,\n",
    "    transform=ToTensor()\n",
    ")\n",
    "print(type(data))"
   ]
  },
  {
   "cell_type": "code",
   "execution_count": null,
   "metadata": {},
   "outputs": [],
   "source": [
    "# Create a subset dataset composed of only images of one of the digits\n",
    "digit = 3\n",
    "indices_digit = torch.where(data.targets == digit)[0]  \n",
    "\n",
    "data_train = Subset(data, indices_digit)\n",
    "print(type(data_train))"
   ]
  },
  {
   "cell_type": "code",
   "execution_count": null,
   "metadata": {},
   "outputs": [],
   "source": [
    "diffusion_model = \"vp\"\n",
    "noise_schedule = \"l\"\n",
    "sampler = \"euler\"\n",
    "\n",
    "schedule_map = {\n",
    "    \"l\": LinearNoiseSchedule(beta_min=0.0001, beta_max=20),\n",
    "    \"c\": CosineNoiseSchedule(beta_max=0.9999)\n",
    "}\n",
    "diffusion_map = {\n",
    "    \"ve\": VarianceExploding,\n",
    "    \"vp\": VariancePreserving,\n",
    "    \"svp\": SubVariancePreserving\n",
    "}\n",
    "sampler_map = {\n",
    "    \"euler\": EulerMaruyama,\n",
    "    \"exp\": ExponentialIntegrator,\n",
    "    \"ode\": ODEProbabilityFlow,\n",
    "    \"pc\": PredictorCorrector\n",
    "}\n",
    "\n",
    "model = GenerativeModel(\n",
    "    diffusion=diffusion_map.get(diffusion_model),\n",
    "    sampler=sampler_map.get(sampler),\n",
    "    noise_schedule=schedule_map.get(noise_schedule)\n",
    ")\n",
    "\n",
    "if diffusion_model != 've':\n",
    "    diffusion_model = f\"{diffusion_model}_{noise_schedule}\""
   ]
  },
  {
   "cell_type": "code",
   "execution_count": null,
   "metadata": {},
   "outputs": [],
   "source": [
    "epochs = 50\n",
    "model.train(data_train, epochs=epochs)\n",
    "model.save(f'mnist_{digit}_{epochs}e_{diffusion_model}_{sampler}.pth')\n",
    "# model.load(f'mnist_{digit}_{epochs}e_{diffusion_model}_{sampler}.pth')"
   ]
  },
  {
   "cell_type": "code",
   "execution_count": null,
   "metadata": {},
   "outputs": [],
   "source": [
    "n_images = 16\n",
    "samples = model.generate(n_images)"
   ]
  },
  {
   "cell_type": "code",
   "execution_count": null,
   "metadata": {},
   "outputs": [],
   "source": [
    "def show_images(images, n_images=4):\n",
    "    images = images[:n_images]  # Select only the first n_images\n",
    "    images = images.permute(0, 2, 3, 1).cpu().detach().numpy()\n",
    "    images = (images + 1) / 2  # Scale from [-1,1] to [0,1]\n",
    "    \n",
    "    grid_size = int(np.sqrt(n_images))  # Ensure a square-like grid\n",
    "    \n",
    "    fig, axes = plt.subplots(grid_size, grid_size, figsize=(4, 4))\n",
    "    axes = axes.flatten()\n",
    "    \n",
    "    for idx, img in enumerate(images):\n",
    "        axes[idx].imshow(img, cmap=\"gray\")\n",
    "        axes[idx].axis('off')\n",
    "    \n",
    "    plt.tight_layout()\n",
    "    plt.show()"
   ]
  },
  {
   "cell_type": "code",
   "execution_count": null,
   "metadata": {},
   "outputs": [],
   "source": [
    "def show_mnist_images(dataset, n_images=4):\n",
    "    fig, axes = plt.subplots(int(np.sqrt(n_images)), int(np.sqrt(n_images)), figsize=(4, 4))\n",
    "    axes = axes.flatten()\n",
    "    \n",
    "    for i in range(n_images):\n",
    "        img, label = dataset[i]  # Get image and label\n",
    "        img = img.squeeze().numpy()  # Convert to 2D array\n",
    "        \n",
    "        axes[i].imshow(img, cmap='gray')  # Display in grayscale\n",
    "        axes[i].axis('off')\n",
    "\n",
    "    plt.tight_layout()\n",
    "    plt.show()"
   ]
  },
  {
   "cell_type": "code",
   "execution_count": null,
   "metadata": {},
   "outputs": [],
   "source": [
    "show_mnist_images(data_train, n_images=4)"
   ]
  },
  {
   "cell_type": "code",
   "execution_count": null,
   "metadata": {},
   "outputs": [],
   "source": [
    "show_images(samples, n_images=n_images)"
   ]
  },
  {
   "cell_type": "code",
   "execution_count": null,
   "metadata": {},
   "outputs": [],
   "source": [
    "n_images = 16\n",
    "class_labels = torch.full((n_images,), 3, dtype=torch.long)  # Crea un tensor con 16 elementos, todos con valor 3\n",
    "samples = model.generate(n_images, class_labels=class_labels)\n",
    "show_images(samples, n_images=n_images)"
   ]
  },
  {
   "cell_type": "code",
   "execution_count": null,
   "metadata": {},
   "outputs": [],
   "source": [
    "import matplotlib.pyplot as plt\n",
    "\n",
    "max_t = 1000.0\n",
    "beta_max = 10.0\n",
    "x = torch.linspace(0, max_t, 100)\n",
    "\n",
    "plt.figure(figsize=(5, 5))\n",
    "\n",
    "lin_schedule = LinearNoiseSchedule(max_t=max_t, beta_max=beta_max)\n",
    "plt.plot(x, lin_schedule(x), label='Linear Schedule', color='blue')\n",
    "\n",
    "cos_schedule = CosineNoiseSchedule(max_t=max_t, beta_max=beta_max)\n",
    "plt.plot(x, cos_schedule(x), label='Cosine Schedule', color='orange')"
   ]
  }
 ],
 "metadata": {
  "kernelspec": {
   "display_name": "Python 3",
   "language": "python",
   "name": "python3"
  },
  "language_info": {
   "codemirror_mode": {
    "name": "ipython",
    "version": 3
   },
   "file_extension": ".py",
   "mimetype": "text/x-python",
   "name": "python",
   "nbconvert_exporter": "python",
   "pygments_lexer": "ipython3",
   "version": "3.12.6"
  }
 },
 "nbformat": 4,
 "nbformat_minor": 2
}
