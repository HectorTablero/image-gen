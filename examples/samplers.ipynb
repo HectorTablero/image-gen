{
 "cells": [
  {
   "cell_type": "markdown",
   "id": "f5e5404d",
   "metadata": {},
   "source": [
    "<pre style=\"text-align: right; width: 100%; font-size: 0.75em; line-height: 0.75em;\">\n",
    "+ ------------------------- + <br>\n",
    "| 20/04/2025                | <br>\n",
    "| Héctor Tablero Díaz       | <br>\n",
    "| Álvaro Martínez Gamo      | <br>\n",
    "+ ------------------------- + \n",
    "</pre>"
   ]
  },
  {
   "cell_type": "markdown",
   "id": "67db9e18",
   "metadata": {},
   "source": [
    "# **Samplers**"
   ]
  }
 ],
 "metadata": {
  "language_info": {
   "name": "python"
  }
 },
 "nbformat": 4,
 "nbformat_minor": 5
}
