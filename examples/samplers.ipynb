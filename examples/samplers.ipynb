{
    "cells": [
        {
            "cell_type": "markdown",
            "id": "f5e5404d",
            "metadata": {},
            "source": [
                "<pre style=\"text-align: right; width: 100%; font-size: 0.75em; line-height: 0.75em;\">\n",
                "+ ------------------------- + <br>\n",
                "| 20/04/2025                | <br>\n",
                "| Héctor Tablero Díaz       | <br>\n",
                "| Álvaro Martínez Gamo      | <br>\n",
                "+ ------------------------- + \n",
                "</pre>"
            ]
        },
        {
            "cell_type": "markdown",
            "id": "67db9e18",
            "metadata": {},
            "source": [
                "# **Samplers**"
            ]
        },
        {
            "cell_type": "code",
            "execution_count": null,
            "id": "d76b966c",
            "metadata": {},
            "outputs": [],
            "source": [
                "import sys\n",
                "sys.path.append('./..')\n",
                "\n",
                "import os\n",
                "\n",
                "import torch\n",
                "from torch import Tensor\n",
                "from torch.utils.data import Subset\n",
                "from torchvision import datasets\n",
                "from torchvision.transforms import ToTensor\n",
                "\n",
                "from image_gen import GenerativeModel\n",
                "from image_gen.samplers import EulerMaruyama, ExponentialIntegrator, ODEProbabilityFlow, PredictorCorrector, BaseSampler\n",
                "from image_gen.diffusion import VariancePreserving\n",
                "from image_gen.noise import LinearNoiseSchedule\n",
                "\n",
                "from typing import Callable, Optional\n",
                "\n",
                "from image_gen.visualization import display_images"
            ]
        },
        {
            "cell_type": "code",
            "execution_count": null,
            "id": "8fd9868c",
            "metadata": {},
            "outputs": [],
            "source": [
                "epochs = 50\n",
                "digit = 3\n",
                "seed = 42"
            ]
        },
        {
            "cell_type": "code",
            "execution_count": null,
            "id": "85500f06",
            "metadata": {},
            "outputs": [],
            "source": [
                "# Load the dataset\n",
                "data = datasets.MNIST(\n",
                "    root='data',\n",
                "    train=True,\n",
                "    download=True,\n",
                "    transform=ToTensor()\n",
                ")\n",
                "\n",
                "# Select a subset to speed up the training process\n",
                "indices_digit = torch.where(data.targets == digit)[0]\n",
                "data = Subset(data, indices_digit)"
            ]
        },
        {
            "cell_type": "code",
            "execution_count": null,
            "id": "58be479a",
            "metadata": {},
            "outputs": [],
            "source": [
                "model = GenerativeModel(\n",
                "    sampler=EulerMaruyama,\n",
                "    diffusion=VariancePreserving,\n",
                "    noise_schedule=LinearNoiseSchedule\n",
                ")"
            ]
        },
        {
            "cell_type": "code",
            "execution_count": null,
            "id": "f69a8b69",
            "metadata": {},
            "outputs": [],
            "source": [
                "filename = f'saved_models/mnist_{digit}_vp-lin_{epochs}e.pth'\n",
                "\n",
                "if os.path.isfile(filename):\n",
                "    model.load(filename)\n",
                "else:\n",
                "    model.train(data, epochs=epochs)\n",
                "    # Tip: Save the models for them to be accessible through the dashboard\n",
                "    model.save(filename)"
            ]
        },
        {
            "cell_type": "markdown",
            "id": "04ceb52e",
            "metadata": {},
            "source": [
                "Samplers control the reverse process dynamics. Key considerations:  \n",
                "- Numerical stability  \n",
                "- Sample quality  \n",
                "- Computational cost  \n",
                "\n",
                "Implemented samplers:  \n",
                "\n",
                "| Sampler Type | Characteristics                          | Best For                  |  \n",
                "|--------------|------------------------------------------|---------------------------|  \n",
                "| [Euler-Maruyama](#euler) | Simple SDE integration              | Quick generations        |  \n",
                "| [Exponential](#exp) | Adaptive step sizing                 | Stable trajectories       |  \n",
                "| [ODE](#ode)          | Deterministic sampling              | High-fidelity outputs     |  \n",
                "| [Predictor-Corrector](#pc) | Iterative refinement           | Challenging distributions |  "
            ]
        },
        {
            "cell_type": "markdown",
            "id": "903601ae",
            "metadata": {},
            "source": [
                "### <span id=\"euler\">**Euler-Maruyama**</span>"
            ]
        },
        {
            "cell_type": "markdown",
            "id": "d5e535b3",
            "metadata": {},
            "source": [
                "#### Mathematical Definition\n",
                "$$x_{t-1} = x_t + f(x_t,t)Δt + g(x_t,t)\\sqrt{Δt}ϵ $$"
            ]
        },
        {
            "cell_type": "markdown",
            "id": "3744bad3",
            "metadata": {},
            "source": [
                "#### Parameters\n",
                "| Parameter  | Type | Default | Description                          |\n",
                "|------------|---|---------|--------------------------------------|\n",
                "| `verbose` | bool | True    | Whether to print information about the generation process |"
            ]
        },
        {
            "cell_type": "markdown",
            "id": "88c9ce6d",
            "metadata": {},
            "source": [
                "#### Characteristics  \n",
                "- **Speed**: Fastest sampler  \n",
                "- **Quality**: May produce artifacts"
            ]
        },
        {
            "cell_type": "markdown",
            "id": "675a6629",
            "metadata": {},
            "source": [
                "#### Usage Example"
            ]
        },
        {
            "cell_type": "code",
            "execution_count": null,
            "id": "d9c3a12d",
            "metadata": {},
            "outputs": [],
            "source": [
                "model.sampler = EulerMaruyama"
            ]
        },
        {
            "cell_type": "code",
            "execution_count": null,
            "id": "444fb684",
            "metadata": {},
            "outputs": [],
            "source": [
                "n_images = 16\n",
                "samples = model.generate(n_images, seed=seed)\n",
                "display_images(samples)"
            ]
        },
        {
            "cell_type": "markdown",
            "id": "d4cb9eb1",
            "metadata": {},
            "source": [
                "### <span id=\"exp\">**Exponential Integrator**</span>"
            ]
        },
        {
            "cell_type": "markdown",
            "id": "209ebfdf",
            "metadata": {},
            "source": [
                "#### Mathematical Definition\n",
                "$$x_{t-1} = x_t e^{λΔt} + \\frac{g^2}{2λ}(e^{2λΔt} - 1)∇_{x}\\log p_t(x)$$"
            ]
        },
        {
            "cell_type": "markdown",
            "id": "2de5f858",
            "metadata": {},
            "source": [
                "#### Parameters\n",
                "| Parameter  | Type | Default | Description                          |\n",
                "|------------|---|---------|--------------------------------------|\n",
                "| `verbose` | bool | True    | Whether to print information about the generation process |\n",
                "| $\\lambda$ (`lambda_param`) | float | 1.0   | $\\lambda$ used in the step function |"
            ]
        },
        {
            "cell_type": "markdown",
            "id": "88d8c0c6",
            "metadata": {},
            "source": [
                "#### Characteristics  \n",
                "- **Adaptive**: Automatic step size adjustment  \n",
                "- **Stability**: Robust to parameter choices  \n",
                "- **Cost**: Moderate computational overhead"
            ]
        },
        {
            "cell_type": "markdown",
            "id": "c0dccaee",
            "metadata": {},
            "source": [
                "#### Usage Example"
            ]
        },
        {
            "cell_type": "code",
            "execution_count": null,
            "id": "0dbf6ce5",
            "metadata": {},
            "outputs": [],
            "source": [
                "model.sampler = ExponentialIntegrator"
            ]
        },
        {
            "cell_type": "code",
            "execution_count": null,
            "id": "0640c0f4",
            "metadata": {},
            "outputs": [],
            "source": [
                "n_images = 16\n",
                "samples = model.generate(n_images, seed=seed)\n",
                "display_images(samples)"
            ]
        },
        {
            "cell_type": "markdown",
            "id": "e4603028",
            "metadata": {},
            "source": [
                "### <span id=\"ode\">**ODE Probability Flow**</span>"
            ]
        },
        {
            "cell_type": "markdown",
            "id": "8b19e518",
            "metadata": {},
            "source": [
                "#### Mathematical Definition\n",
                "\n",
                "$$\\frac{dx}{dt} = f(x,t) - \\frac{1}{2}g(t)^2∇_x\\log p_t(x)$$"
            ]
        },
        {
            "cell_type": "markdown",
            "id": "57fff5bf",
            "metadata": {},
            "source": [
                "#### Parameters\n",
                "| Parameter  | Type | Default | Description                          |\n",
                "|------------|---|---------|--------------------------------------|\n",
                "| `verbose` | bool | True    | Whether to print information about the generation process |"
            ]
        },
        {
            "cell_type": "markdown",
            "id": "3e17514c",
            "metadata": {},
            "source": [
                "#### Characteristics  \n",
                "- **Determinism**: Reproducible outputs  \n",
                "- **Precision**: High sample quality  \n",
                "- **Cost**: 2-3× slower than Euler-Maruyama"
            ]
        },
        {
            "cell_type": "markdown",
            "id": "1248a8df",
            "metadata": {},
            "source": [
                "#### Usage Example"
            ]
        },
        {
            "cell_type": "code",
            "execution_count": null,
            "id": "f1f94cf2",
            "metadata": {},
            "outputs": [],
            "source": [
                "model.sampler = ODEProbabilityFlow"
            ]
        },
        {
            "cell_type": "code",
            "execution_count": null,
            "id": "7b6c7bc8",
            "metadata": {},
            "outputs": [],
            "source": [
                "n_images = 16\n",
                "samples = model.generate(n_images, seed=seed)\n",
                "display_images(samples)"
            ]
        },
        {
            "cell_type": "markdown",
            "id": "7053afa8",
            "metadata": {},
            "source": [
                "### <span id=\"pc\">**Predictor-Corrector**</span>"
            ]
        },
        {
            "cell_type": "markdown",
            "id": "28325083",
            "metadata": {},
            "source": [
                "#### Mathematical Definition\n",
                "\n",
                "**Predictor:** $x'_{t-1} = x_t + f(x_t,t)Δt$\n",
                "\n",
                "**Corrector:** $x_{t-1} = x'_{t-1} + γg^2∇_x\\log p_t(x')Δt$"
            ]
        },
        {
            "cell_type": "markdown",
            "id": "9ea361b8",
            "metadata": {},
            "source": [
                "#### Parameters\n",
                "| Parameter  | Type | Default | Description                          |\n",
                "|------------|---|---------|--------------------------------------|\n",
                "| `verbose` | bool | True    | Whether to print information about the generation process |"
            ]
        },
        {
            "cell_type": "markdown",
            "id": "fa540f8b",
            "metadata": {},
            "source": [
                "#### Characteristics  \n",
                "- **Quality**: Best empirical results  \n",
                "- **Flexibility**: Tunable correction steps  \n",
                "- **Cost**: Most computationally intensive  "
            ]
        },
        {
            "cell_type": "markdown",
            "id": "88ef59a9",
            "metadata": {},
            "source": [
                "#### Usage Example"
            ]
        },
        {
            "cell_type": "code",
            "execution_count": null,
            "id": "b7139638",
            "metadata": {},
            "outputs": [],
            "source": [
                "model.sampler = PredictorCorrector"
            ]
        },
        {
            "cell_type": "code",
            "execution_count": null,
            "id": "fcb09e86",
            "metadata": {},
            "outputs": [],
            "source": [
                "n_images = 16\n",
                "samples = model.generate(n_images, seed=seed)\n",
                "display_images(samples)"
            ]
        },
        {
            "cell_type": "markdown",
            "id": "5a2494ea",
            "metadata": {},
            "source": [
                "### **Creating Custom Diffusers**"
            ]
        },
        {
            "cell_type": "markdown",
            "id": "44a180f1",
            "metadata": {},
            "source": [
                "Custom noise schedulers can be created by inheriting from the class `BaseSampler`. They must implement a `__call__` function."
            ]
        },
        {
            "cell_type": "markdown",
            "id": "15869ca2",
            "metadata": {},
            "source": [
                "#### Implementation Example"
            ]
        },
        {
            "cell_type": "code",
            "execution_count": null,
            "id": "c622ec51",
            "metadata": {},
            "outputs": [],
            "source": [
                "class CustomSampler(BaseSampler):\n",
                "    def __call__(\n",
                "        self,\n",
                "        x_T: Tensor,\n",
                "        score_model: Callable,\n",
                "        *args,\n",
                "        n_steps: int = 500,\n",
                "        seed: Optional[int] = None,\n",
                "        callback: Optional[Callable[[Tensor, int], None]] = None,\n",
                "        callback_frequency: int = 50,\n",
                "        guidance: Optional[Callable[[Tensor, Tensor], Tensor]] = None,\n",
                "        **kwargs\n",
                "    ) -> Tensor:\n",
                "        ..."
            ]
        }
    ],
    "metadata": {
        "kernelspec": {
            "display_name": "Python 3",
            "language": "python",
            "name": "python3"
        },
        "language_info": {
            "codemirror_mode": {
                "name": "ipython",
                "version": 3
            },
            "file_extension": ".py",
            "mimetype": "text/x-python",
            "name": "python",
            "nbconvert_exporter": "python",
            "pygments_lexer": "ipython3",
            "version": "3.12.6"
        }
    },
    "nbformat": 4,
    "nbformat_minor": 5
}
