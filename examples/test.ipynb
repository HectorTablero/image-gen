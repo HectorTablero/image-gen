{
    "cells": [
        {
            "cell_type": "markdown",
            "id": "f5e5404d",
            "metadata": {},
            "source": [
                "<pre style=\"text-align: right; width: 100%; font-size: 0.75em; line-height: 0.75em;\">\n",
                "+ ------------------------- + <br>\n",
                "| 20/04/2025                | <br>\n",
                "| Héctor Tablero Díaz       | <br>\n",
                "| Álvaro Martínez Gamo      | <br>\n",
                "+ ------------------------- + \n",
                "</pre>"
            ]
        },
        {
            "cell_type": "markdown",
            "id": "67db9e18",
            "metadata": {},
            "source": [
                "# **Samplers**"
            ]
        },
        {
            "cell_type": "code",
            "execution_count": 1,
            "id": "d76b966c",
            "metadata": {},
            "outputs": [
                {
                    "name": "stderr",
                    "output_type": "stream",
                    "text": [
                        "c:\\Users\\hecto\\Desktop\\Uni\\AAUTO 3\\Proyecto\\examples\\..\\image_gen\\samplers\\euler_maruyama.py:12: TqdmExperimentalWarning: Using `tqdm.autonotebook.tqdm` in notebook mode. Use `tqdm.tqdm` instead to force console mode (e.g. in jupyter console)\n",
                        "  from tqdm.autonotebook import tqdm\n"
                    ]
                }
            ],
            "source": [
                "%load_ext autoreload\n",
                "%autoreload 2\n",
                "\n",
                "import sys\n",
                "sys.path.append('./..')\n",
                "\n",
                "DEVICE = \"cpu\"\n",
                "\n",
                "if DEVICE == \"cpu\":\n",
                "    import os\n",
                "    os.environ[\"CUDA_VISIBLE_DEVICES\"] = \"\"\n",
                "\n",
                "from image_gen import GenerativeModel"
            ]
        },
        {
            "cell_type": "code",
            "execution_count": 2,
            "id": "58be479a",
            "metadata": {},
            "outputs": [],
            "source": [
                "model = GenerativeModel()"
            ]
        },
        {
            "cell_type": "code",
            "execution_count": 5,
            "id": "f69a8b69",
            "metadata": {},
            "outputs": [],
            "source": [
                "filename = f'saved_models/mnist_3_vp-lin_50e.pth'\n",
                "\n",
                "model.load(filename)"
            ]
        }
    ],
    "metadata": {
        "kernelspec": {
            "display_name": "Python 3",
            "language": "python",
            "name": "python3"
        },
        "language_info": {
            "codemirror_mode": {
                "name": "ipython",
                "version": 3
            },
            "file_extension": ".py",
            "mimetype": "text/x-python",
            "name": "python",
            "nbconvert_exporter": "python",
            "pygments_lexer": "ipython3",
            "version": "3.12.6"
        }
    },
    "nbformat": 4,
    "nbformat_minor": 5
}
