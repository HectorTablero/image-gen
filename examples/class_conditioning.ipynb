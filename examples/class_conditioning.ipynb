{
    "cells": [
        {
            "cell_type": "markdown",
            "id": "6d6fdd69",
            "metadata": {},
            "source": [
                "<pre style=\"text-align: right; width: 100%; font-size: 0.75em; line-height: 0.75em;\">\n",
                "+ ------------------------- + <br>\n",
                "| 29/04/2025                | <br>\n",
                "| Héctor Tablero Díaz       | <br>\n",
                "| Álvaro Martínez Gamo      | <br>\n",
                "+ ------------------------- + \n",
                "</pre>"
            ]
        },
        {
            "cell_type": "markdown",
            "id": "05256d2e",
            "metadata": {},
            "source": [
                "# **Class-Conditional Sampling**"
            ]
        },
        {
            "cell_type": "code",
            "execution_count": null,
            "id": "af0f6d6f",
            "metadata": {},
            "outputs": [],
            "source": [
                "%load_ext autoreload\n",
                "%autoreload 2\n",
                "\n",
                "import sys\n",
                "sys.path.append('./..')\n",
                "\n",
                "import os\n",
                "\n",
                "import torch\n",
                "from torchvision import datasets\n",
                "from torchvision.transforms import ToTensor\n",
                "\n",
                "from image_gen import GenerativeModel\n",
                "from image_gen.samplers import ExponentialIntegrator\n",
                "from image_gen.diffusion import VariancePreserving\n",
                "from image_gen.noise import LinearNoiseSchedule\n",
                "\n",
                "from tqdm.notebook import tqdm\n",
                "\n",
                "import matplotlib.pyplot as plt\n",
                "from IPython.display import HTML\n",
                "from image_gen.visualization import display_images, create_evolution_widget"
            ]
        },
        {
            "cell_type": "code",
            "execution_count": null,
            "id": "1c251f2b",
            "metadata": {},
            "outputs": [],
            "source": [
                "epochs = 50"
            ]
        },
        {
            "cell_type": "code",
            "execution_count": null,
            "id": "a85cad53",
            "metadata": {},
            "outputs": [],
            "source": [
                "# Load the dataset\n",
                "data = datasets.MNIST(\n",
                "    root='data',\n",
                "    train=True,\n",
                "    download=True,\n",
                "    transform=ToTensor()\n",
                ")"
            ]
        },
        {
            "cell_type": "code",
            "execution_count": null,
            "id": "8518973e",
            "metadata": {},
            "outputs": [],
            "source": [
                "model = GenerativeModel(\n",
                "    diffusion=VariancePreserving,\n",
                "    sampler=ExponentialIntegrator,\n",
                "    noise_schedule=LinearNoiseSchedule\n",
                ")"
            ]
        },
        {
            "cell_type": "code",
            "execution_count": null,
            "id": "e75f674e",
            "metadata": {},
            "outputs": [],
            "source": [
                "filename = f'saved_models/mnist_vp-lin_{epochs}e.pth'\n",
                "\n",
                "if os.path.isfile(filename):\n",
                "    model.load(filename)\n",
                "else:\n",
                "    model.train(data, epochs=epochs)\n",
                "    # Tip: Save the models for them to be accessible through the dashboard\n",
                "    model.save(filename)"
            ]
        },
        {
            "cell_type": "markdown",
            "id": "9113ff2c",
            "metadata": {},
            "source": [
                "## **Overview**"
            ]
        },
        {
            "cell_type": "markdown",
            "id": "5e8d95d0",
            "metadata": {},
            "source": [
                "Conditional generation using class labels for controlled synthesis.\n",
                "\n",
                "Key features:\n",
                "- Label-guided generation\n",
                "- Classifier-free guidance\n",
                "- Multi-class conditional sampling\n",
                "- Batch-wise label assignments"
            ]
        },
        {
            "cell_type": "markdown",
            "id": "db0f1444",
            "metadata": {},
            "source": [
                "## **Parameters**\n",
                "| Parameter | Type | Default | Description |\n",
                "|-----------|------|---------|-------------|\n",
                "| `class_labels` | int/list/Tensor | None | Class indices to condition on |\n",
                "| `guidance_scale` | float | 3.0 | Guidance strength (0=unconditional) |\n",
                "| `num_samples` | int | - | Number of images to generate |\n",
                "| `n_steps` | int | 500 | Reverse process steps |\n",
                "| `seed` | int | None | Random seed |"
            ]
        },
        {
            "cell_type": "markdown",
            "id": "dc7c1140",
            "metadata": {},
            "source": [
                "## **Usage Examples**"
            ]
        },
        {
            "cell_type": "markdown",
            "id": "b7551d63",
            "metadata": {},
            "source": [
                "### **Single Class Generation**"
            ]
        },
        {
            "cell_type": "markdown",
            "id": "701e58e0",
            "metadata": {},
            "source": [
                "Generate 16 samples from class 7:"
            ]
        },
        {
            "cell_type": "code",
            "execution_count": null,
            "id": "971eb831",
            "metadata": {},
            "outputs": [],
            "source": [
                "samples = model.generate(\n",
                "    num_samples=16,\n",
                "    class_labels=7\n",
                ")\n",
                "display_images(samples)"
            ]
        },
        {
            "cell_type": "markdown",
            "id": "c97b1442",
            "metadata": {},
            "source": [
                "### **Mixed Class Batch**"
            ]
        },
        {
            "cell_type": "markdown",
            "id": "3d7adb45",
            "metadata": {},
            "source": [
                "Generate specific classes for each sample:"
            ]
        },
        {
            "cell_type": "code",
            "execution_count": null,
            "id": "a24cd184",
            "metadata": {},
            "outputs": [],
            "source": [
                "# Create label tensor [0,0,1,1,2,2,...]\n",
                "labels = torch.repeat_interleave(torch.arange(0, model.num_classes), 2)\n",
                "\n",
                "samples = model.generate(\n",
                "    num_samples=len(labels),\n",
                "    class_labels=labels\n",
                ")\n",
                "display_images(samples)"
            ]
        },
        {
            "cell_type": "markdown",
            "id": "abd34ac7",
            "metadata": {},
            "source": [
                "## **Implementation Details**"
            ]
        },
        {
            "cell_type": "markdown",
            "id": "cd7c9f05",
            "metadata": {},
            "source": [
                "The conditional sampling process:\n",
                "\n",
                "1. **Guidance Formulation**:\n",
                "$$ \\epsilon_{cond} = \\epsilon_{uncond} + s \\cdot (\\epsilon_{cond} - \\epsilon_{uncond}) $$\n",
                "Where $s$ = `guidance_scale`\n",
                "\n",
                "2. **Label Validation**:\n",
                "- Automatic conversion to model's training labels\n",
                "- Invalid labels replaced with first valid class\n",
                "\n",
                "3. **Batch Handling**:\n",
                "- Single label → applied to all samples\n",
                "- Multiple labels → 1:1 mapping with batch"
            ]
        },
        {
            "cell_type": "markdown",
            "id": "fa238092",
            "metadata": {},
            "source": [
                "## **Important Notes**"
            ]
        },
        {
            "cell_type": "markdown",
            "id": "2afa6083",
            "metadata": {},
            "source": [
                "- Model must be trained with class conditioning\n",
                "- Valid labels: 0 to `num_classes-1`\n",
                "- Invalid labels auto-corrected\n",
                "- Higher guidance scales (5-10) for clearer class features\n",
                "- Set `guidance_scale=0` for unconditional sampling"
            ]
        },
        {
            "cell_type": "markdown",
            "id": "21e0f6ff",
            "metadata": {},
            "source": [
                "## **Visualization**"
            ]
        },
        {
            "cell_type": "code",
            "execution_count": null,
            "id": "0b1fbc91",
            "metadata": {},
            "outputs": [],
            "source": [
                "HTML(create_evolution_widget(\n",
                "    model,\n",
                "    class_labels=5\n",
                ").to_jshtml(default_mode=\"once\"))"
            ]
        },
        {
            "cell_type": "markdown",
            "id": "3d9b1442",
            "metadata": {},
            "source": [
                "### **Guidance Scale Comparison**"
            ]
        },
        {
            "cell_type": "markdown",
            "id": "a599a206",
            "metadata": {},
            "source": [
                "Effect of different guidance strengths:"
            ]
        },
        {
            "cell_type": "code",
            "execution_count": null,
            "id": "f8384449",
            "metadata": {},
            "outputs": [],
            "source": [
                "model.verbose = False\n",
                "fig, axs = plt.subplots(2, 4, figsize=(15, 8))\n",
                "for i, scale in tqdm(list(enumerate([0, 0.5, 1, 2, 3, 5, 7.5, 10])), desc=\"Generating samples\"):\n",
                "    samples = model.generate(\n",
                "        num_samples=1,\n",
                "        class_labels=6,\n",
                "        guidance_scale=scale,\n",
                "        seed=123\n",
                "    ).cpu()\n",
                "    axs[i//4, i%4].imshow(samples[0].permute(1,2,0), cmap=\"gray\")\n",
                "    axs[i//4, i%4].set_title(f'Scale={scale}')\n",
                "plt.tight_layout()\n",
                "plt.show()"
            ]
        }
    ],
    "metadata": {
        "kernelspec": {
            "display_name": "Python 3",
            "language": "python",
            "name": "python3"
        },
        "language_info": {
            "codemirror_mode": {
                "name": "ipython",
                "version": 3
            },
            "file_extension": ".py",
            "mimetype": "text/x-python",
            "name": "python",
            "nbconvert_exporter": "python",
            "pygments_lexer": "ipython3",
            "version": "3.12.6"
        }
    },
    "nbformat": 4,
    "nbformat_minor": 5
}
