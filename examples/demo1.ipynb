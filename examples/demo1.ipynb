{
 "cells": [
  {
   "cell_type": "markdown",
   "metadata": {},
   "source": [
    "# **Título**"
   ]
  },
  {
   "cell_type": "code",
   "execution_count": null,
   "metadata": {},
   "outputs": [
    {
     "name": "stderr",
     "output_type": "stream",
     "text": [
      "c:\\Users\\hecto\\Desktop\\Uni\\AAUTO 3\\Proyecto\\examples\\..\\image_gen\\base.py:9: TqdmExperimentalWarning: Using `tqdm.autonotebook.tqdm` in notebook mode. Use `tqdm.tqdm` instead to force console mode (e.g. in jupyter console)\n",
      "  from tqdm.autonotebook import tqdm\n"
     ]
    }
   ],
   "source": [
    "%load_ext autoreload\n",
    "%autoreload 2\n",
    "\n",
    "import sys\n",
    "sys.path.append('./..')\n",
    "\n",
    "from image_gen import GenerativeModel\n",
    "from image_gen.diffusion import VarianceExploding, VariancePreserving, SubVariancePreserving\n",
    "from image_gen.noise import LinearNoiseSchedule\n",
    "from image_gen.samplers import EulerMaruyama\n",
    "\n",
    "import torch\n",
    "from torchvision import datasets, transforms\n",
    "from torch.utils.data import DataLoader\n",
    "import matplotlib.pyplot as plt\n",
    "import numpy as np"
   ]
  },
  {
   "cell_type": "code",
   "execution_count": null,
   "metadata": {},
   "outputs": [
    {
     "ename": "NameError",
     "evalue": "name 'LinearNoiseSchedule' is not defined",
     "output_type": "error",
     "traceback": [
      "\u001b[1;31m---------------------------------------------------------------------------\u001b[0m",
      "\u001b[1;31mNameError\u001b[0m                                 Traceback (most recent call last)",
      "Cell \u001b[1;32mIn[1], line 1\u001b[0m\n\u001b[1;32m----> 1\u001b[0m schedule \u001b[38;5;241m=\u001b[39m \u001b[43mLinearNoiseSchedule\u001b[49m()\n\u001b[0;32m      2\u001b[0m diffusion \u001b[38;5;241m=\u001b[39m VariancePreserving(schedule)\n\u001b[0;32m      3\u001b[0m sampler \u001b[38;5;241m=\u001b[39m EulerMaruyama(diffusion)\n",
      "\u001b[1;31mNameError\u001b[0m: name 'LinearNoiseSchedule' is not defined"
     ]
    }
   ],
   "source": [
    "schedule = LinearNoiseSchedule()\n",
    "diffusion = VariancePreserving(schedule)\n",
    "sampler = EulerMaruyama(diffusion)\n",
    "\n",
    "model = GenerativeModel(\n",
    "    diffusion=diffusion,\n",
    "    sampler=sampler,\n",
    "    noise_schedule=schedule,\n",
    "    image_size=(32, 32)\n",
    ")"
   ]
  },
  {
   "cell_type": "code",
   "execution_count": null,
   "metadata": {},
   "outputs": [],
   "source": [
    "def get_cifar_dataset(batch_size=32):\n",
    "    transform = transforms.Compose([\n",
    "        transforms.ToTensor(),\n",
    "        transforms.Normalize((0.5, 0.5, 0.5), (0.5, 0.5, 0.5))  # Scale to [-1, 1]\n",
    "    ])\n",
    "    \n",
    "    train_dataset = datasets.CIFAR10(\n",
    "        root='./data', \n",
    "        train=True,\n",
    "        download=True,\n",
    "        transform=transform\n",
    "    )\n",
    "    \n",
    "    return train_dataset"
   ]
  },
  {
   "cell_type": "code",
   "execution_count": null,
   "metadata": {},
   "outputs": [],
   "source": [
    "dataset = get_cifar_dataset()"
   ]
  },
  {
   "cell_type": "code",
   "execution_count": null,
   "metadata": {},
   "outputs": [],
   "source": [
    "model.train(dataset, epochs=15)\n",
    "model.save('cifar10_15e_vp.pth')\n",
    "# model.load('cifar10_15e_ve.pth')"
   ]
  },
  {
   "cell_type": "code",
   "execution_count": null,
   "metadata": {},
   "outputs": [
    {
     "data": {
      "application/vnd.jupyter.widget-view+json": {
       "model_id": "d3f739430fb3490b8ea093fecf31cdb7",
       "version_major": 2,
       "version_minor": 0
      },
      "text/plain": [
       "Generating:   0%|          | 0/1000 [00:00<?, ?it/s]"
      ]
     },
     "metadata": {},
     "output_type": "display_data"
    }
   ],
   "source": [
    "n_images = 4\n",
    "samples = model.generate(n_images)"
   ]
  },
  {
   "cell_type": "code",
   "execution_count": null,
   "metadata": {},
   "outputs": [],
   "source": [
    "def show_images(images, n_images=4):\n",
    "    images = images[:n_images]  # Select only the first n_images\n",
    "    images = images.permute(0, 2, 3, 1).cpu().detach().numpy()\n",
    "    images = (images + 1) / 2  # Scale from [-1,1] to [0,1]\n",
    "    \n",
    "    grid_size = int(np.sqrt(n_images))  # Ensure a square-like grid\n",
    "    \n",
    "    fig, axes = plt.subplots(grid_size, grid_size, figsize=(4, 4))\n",
    "    axes = axes.flatten()\n",
    "    \n",
    "    for idx, img in enumerate(images):\n",
    "        axes[idx].imshow(img)\n",
    "        axes[idx].axis('off')\n",
    "    \n",
    "    plt.tight_layout()\n",
    "    plt.show()"
   ]
  },
  {
   "cell_type": "code",
   "execution_count": null,
   "metadata": {},
   "outputs": [],
   "source": [
    "def visualize_cifar_images(dataset, n_images=4):\n",
    "    fig, axes = plt.subplots(int(np.sqrt(n_images)), int(np.sqrt(n_images)), figsize=(4, 4))\n",
    "    axes = axes.flatten()\n",
    "    \n",
    "    for i in range(n_images):\n",
    "        img, label = dataset[i]  # Get image and label\n",
    "        img = img.permute(1, 2, 0).numpy()  # Convert to (H, W, C)\n",
    "        img = (img + 1) / 2  # Rescale from [-1, 1] to [0, 1]\n",
    "        \n",
    "        axes[i].imshow(img)\n",
    "        axes[i].axis('off')\n",
    "\n",
    "    plt.tight_layout()\n",
    "    plt.show()"
   ]
  },
  {
   "cell_type": "markdown",
   "metadata": {},
   "source": [
    "### Originales"
   ]
  },
  {
   "cell_type": "code",
   "execution_count": null,
   "metadata": {},
   "outputs": [
    {
     "data": {
      "image/png": "[encoded data removed]",
      "text/plain": [
       "<Figure size 400x400 with 4 Axes>"
      ]
     },
     "metadata": {},
     "output_type": "display_data"
    }
   ],
   "source": [
    "visualize_cifar_images(dataset, n_images=n_images)"
   ]
  },
  {
   "cell_type": "markdown",
   "metadata": {},
   "source": [
    "### Generadas"
   ]
  },
  {
   "cell_type": "code",
   "execution_count": null,
   "metadata": {},
   "outputs": [
    {
     "data": {
      "image/png": "[encoded data removed]",
      "text/plain": [
       "<Figure size 400x400 with 4 Axes>"
      ]
     },
     "metadata": {},
     "output_type": "display_data"
    }
   ],
   "source": [
    "show_images(samples)"
   ]
  }
 ],
 "metadata": {
  "kernelspec": {
   "display_name": "Python 3",
   "language": "python",
   "name": "python3"
  },
  "language_info": {
   "codemirror_mode": {
    "name": "ipython",
    "version": 3
   },
   "file_extension": ".py",
   "mimetype": "text/x-python",
   "name": "python",
   "nbconvert_exporter": "python",
   "pygments_lexer": "ipython3",
   "version": "3.12.6"
  }
 },
 "nbformat": 4,
 "nbformat_minor": 2
}
