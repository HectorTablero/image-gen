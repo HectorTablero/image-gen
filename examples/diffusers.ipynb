{
    "cells": [
        {
            "cell_type": "markdown",
            "id": "a2d0fc1a",
            "metadata": {},
            "source": [
                "<pre style=\"text-align: right; width: 100%; font-size: 0.75em; line-height: 0.75em;\">\n",
                "+ ------------------------- + <br>\n",
                "| 24/04/2025                | <br>\n",
                "| Héctor Tablero Díaz       | <br>\n",
                "| Álvaro Martínez Gamo      | <br>\n",
                "+ ------------------------- + \n",
                "</pre>"
            ]
        },
        {
            "cell_type": "markdown",
            "id": "8afee7ef",
            "metadata": {},
            "source": [
                "# **Diffusers**"
            ]
        },
        {
            "cell_type": "code",
            "execution_count": 1,
            "id": "bf439bbd",
            "metadata": {},
            "outputs": [
                {
                    "name": "stderr",
                    "output_type": "stream",
                    "text": [
                        "c:\\Users\\alva0\\Desktop\\3º ICID\\2º cuatri\\AAUTO3\\proyecto\\image-gen\\examples\\..\\image_gen\\samplers\\euler_maruyama.py:5: TqdmExperimentalWarning: Using `tqdm.autonotebook.tqdm` in notebook mode. Use `tqdm.tqdm` instead to force console mode (e.g. in jupyter console)\n",
                        "  from tqdm.autonotebook import tqdm\n"
                    ]
                }
            ],
            "source": [
                "%load_ext autoreload\n",
                "%autoreload 2\n",
                "\n",
                "import sys\n",
                "sys.path.append('./..')\n",
                "\n",
                "import os\n",
                "\n",
                "import torch\n",
                "from torch import Tensor\n",
                "from torch.utils.data import Subset\n",
                "from torchvision import datasets\n",
                "from torchvision.transforms import ToTensor\n",
                "\n",
                "from image_gen import GenerativeModel\n",
                "from image_gen.samplers import ExponentialIntegrator, PredictorCorrector, EulerMaruyama, ODEProbabilityFlow\n",
                "from image_gen.diffusion import VarianceExploding, VariancePreserving, SubVariancePreserving, BaseDiffusion\n",
                "from image_gen.noise import LinearNoiseSchedule\n",
                "\n",
                "from typing import Tuple\n",
                "\n",
                "from image_gen.visualization import display_images"
            ]
        },
        {
            "cell_type": "code",
            "execution_count": 2,
            "id": "da1756c2",
            "metadata": {},
            "outputs": [],
            "source": [
                "epochs = 15\n",
                "digit = 3\n",
                "\n",
                "seed = 42"
            ]
        },
        {
            "cell_type": "code",
            "execution_count": 3,
            "id": "81d419b3",
            "metadata": {},
            "outputs": [],
            "source": [
                "# Load the dataset\n",
                "data = datasets.MNIST(\n",
                "    root='data',\n",
                "    train=True,\n",
                "    download=True,\n",
                "    transform=ToTensor()\n",
                ")\n",
                "\n",
                "# Select a subset to speed up the training process\n",
                "indices_digit = torch.where(data.targets == digit)[0]\n",
                "data = Subset(data, indices_digit)"
            ]
        },
        {
            "cell_type": "markdown",
            "id": "60206793",
            "metadata": {},
            "source": [
                "Diffusers define the core mechanics of the forward and reverse processes. Key aspects controlled by diffusers:\n",
                "- Noise addition strategy\n",
                "- Stochastic Differential Equation (SDE) formulation\n",
                "- Variance preservation properties\n",
                "\n",
                "Implemented variants:\n",
                "\n",
                "| Diffusion Type | Key Characteristics                          | Best For                  |\n",
                "|----------------|---------------------------------------------|--------------------------|\n",
                "| [VE](#ve)      | Simple additive noise                     | Theoretical analysis     |\n",
                "| [VP](#vp)      | Balanced signal/noise ratio               | General purpose          |\n",
                "| [Sub-VP](#svp) | Improved stability                         | High-resolution images   |"
            ]
        },
        {
            "cell_type": "markdown",
            "id": "1322b761",
            "metadata": {},
            "source": [
                "### <span id=\"ve\">**Variance Exploding (VE)**</span>"
            ]
        },
        {
            "cell_type": "markdown",
            "id": "cc274b4c",
            "metadata": {},
            "source": [
                "#### Mathematical Definition\n",
                "\n",
                "Drift: $0$\n",
                "\n",
                "Diffusion: $\\sigma^t$"
            ]
        },
        {
            "cell_type": "markdown",
            "id": "2d682648",
            "metadata": {},
            "source": [
                "#### Parameters\n",
                "| Parameter         | Type | Default | Description                          |\n",
                "|--------------------|---|---------|--------------------------------------|\n",
                "| $\\sigma_{\\max}$ (`sigma`)   | float | 25.0    | Maximum noise level  |"
            ]
        },
        {
            "cell_type": "markdown",
            "id": "19cc07bd",
            "metadata": {},
            "source": [
                "#### Characteristics\n",
                "- **Training**: Fast but unstable\n",
                "- **Generation**: Requires careful temperature tuning"
            ]
        },
        {
            "cell_type": "markdown",
            "id": "768d5ff3",
            "metadata": {},
            "source": [
                "#### Usage Example"
            ]
        },
        {
            "cell_type": "code",
            "execution_count": 4,
            "id": "45193733",
            "metadata": {},
            "outputs": [],
            "source": [
                "model = GenerativeModel(\n",
                "    diffusion=VarianceExploding,\n",
                "    sampler = PredictorCorrector,\n",
                ")"
            ]
        },
        {
            "cell_type": "code",
            "execution_count": 5,
            "id": "8b7942b1",
            "metadata": {},
            "outputs": [
                {
                    "data": {
                        "application/vnd.jupyter.widget-view+json": {
                            "model_id": "6da4c5a7fe2348729e64063f57942252",
                            "version_major": 2,
                            "version_minor": 0
                        },
                        "text/plain": [
                            "Training:   0%|          | 0/15 [00:00<?, ?it/s]"
                        ]
                    },
                    "metadata": {},
                    "output_type": "display_data"
                },
                {
                    "data": {
                        "application/vnd.jupyter.widget-view+json": {
                            "model_id": "48b1a167e5434270ae3cfbe7c24c12d0",
                            "version_major": 2,
                            "version_minor": 0
                        },
                        "text/plain": [
                            "Epoch 1:   0%|          | 0/192 [00:00<?, ?it/s]"
                        ]
                    },
                    "metadata": {},
                    "output_type": "display_data"
                },
                {
                    "data": {
                        "application/vnd.jupyter.widget-view+json": {
                            "model_id": "f2d9bf22499f4e92bdfb6ee498ca6743",
                            "version_major": 2,
                            "version_minor": 0
                        },
                        "text/plain": [
                            "Epoch 2:   0%|          | 0/192 [00:00<?, ?it/s]"
                        ]
                    },
                    "metadata": {},
                    "output_type": "display_data"
                },
                {
                    "data": {
                        "application/vnd.jupyter.widget-view+json": {
                            "model_id": "9415f49eb8c94f95b90385cef7d8f9a8",
                            "version_major": 2,
                            "version_minor": 0
                        },
                        "text/plain": [
                            "Epoch 3:   0%|          | 0/192 [00:00<?, ?it/s]"
                        ]
                    },
                    "metadata": {},
                    "output_type": "display_data"
                },
                {
                    "data": {
                        "application/vnd.jupyter.widget-view+json": {
                            "model_id": "7341ff33b3c44229825031c9d0509afe",
                            "version_major": 2,
                            "version_minor": 0
                        },
                        "text/plain": [
                            "Epoch 4:   0%|          | 0/192 [00:00<?, ?it/s]"
                        ]
                    },
                    "metadata": {},
                    "output_type": "display_data"
                },
                {
                    "data": {
                        "application/vnd.jupyter.widget-view+json": {
                            "model_id": "80b17a4119a9446481c70df77b8782a8",
                            "version_major": 2,
                            "version_minor": 0
                        },
                        "text/plain": [
                            "Epoch 5:   0%|          | 0/192 [00:00<?, ?it/s]"
                        ]
                    },
                    "metadata": {},
                    "output_type": "display_data"
                },
                {
                    "data": {
                        "application/vnd.jupyter.widget-view+json": {
                            "model_id": "c71c87eb4179477a8228fefd6e35488c",
                            "version_major": 2,
                            "version_minor": 0
                        },
                        "text/plain": [
                            "Epoch 6:   0%|          | 0/192 [00:00<?, ?it/s]"
                        ]
                    },
                    "metadata": {},
                    "output_type": "display_data"
                },
                {
                    "data": {
                        "application/vnd.jupyter.widget-view+json": {
                            "model_id": "6916318267574a6cbcac6beca6c96e86",
                            "version_major": 2,
                            "version_minor": 0
                        },
                        "text/plain": [
                            "Epoch 7:   0%|          | 0/192 [00:00<?, ?it/s]"
                        ]
                    },
                    "metadata": {},
                    "output_type": "display_data"
                },
                {
                    "data": {
                        "application/vnd.jupyter.widget-view+json": {
                            "model_id": "cc71d86d48ae4a5bb11f941a17319601",
                            "version_major": 2,
                            "version_minor": 0
                        },
                        "text/plain": [
                            "Epoch 8:   0%|          | 0/192 [00:00<?, ?it/s]"
                        ]
                    },
                    "metadata": {},
                    "output_type": "display_data"
                },
                {
                    "data": {
                        "application/vnd.jupyter.widget-view+json": {
                            "model_id": "fa2a174929974c75a665df0cc6e68237",
                            "version_major": 2,
                            "version_minor": 0
                        },
                        "text/plain": [
                            "Epoch 9:   0%|          | 0/192 [00:00<?, ?it/s]"
                        ]
                    },
                    "metadata": {},
                    "output_type": "display_data"
                },
                {
                    "data": {
                        "application/vnd.jupyter.widget-view+json": {
                            "model_id": "1c95c1997d31426887e21f00ffc7e824",
                            "version_major": 2,
                            "version_minor": 0
                        },
                        "text/plain": [
                            "Epoch 10:   0%|          | 0/192 [00:00<?, ?it/s]"
                        ]
                    },
                    "metadata": {},
                    "output_type": "display_data"
                },
                {
                    "data": {
                        "application/vnd.jupyter.widget-view+json": {
                            "model_id": "d0b93f13b79346ca84af43d273bacf10",
                            "version_major": 2,
                            "version_minor": 0
                        },
                        "text/plain": [
                            "Epoch 11:   0%|          | 0/192 [00:00<?, ?it/s]"
                        ]
                    },
                    "metadata": {},
                    "output_type": "display_data"
                },
                {
                    "data": {
                        "application/vnd.jupyter.widget-view+json": {
                            "model_id": "796059902b9d48bd9b0b319ee1a446be",
                            "version_major": 2,
                            "version_minor": 0
                        },
                        "text/plain": [
                            "Epoch 12:   0%|          | 0/192 [00:00<?, ?it/s]"
                        ]
                    },
                    "metadata": {},
                    "output_type": "display_data"
                },
                {
                    "data": {
                        "application/vnd.jupyter.widget-view+json": {
                            "model_id": "3d0f19370db24a99948d89656f4375bb",
                            "version_major": 2,
                            "version_minor": 0
                        },
                        "text/plain": [
                            "Epoch 13:   0%|          | 0/192 [00:00<?, ?it/s]"
                        ]
                    },
                    "metadata": {},
                    "output_type": "display_data"
                },
                {
                    "data": {
                        "application/vnd.jupyter.widget-view+json": {
                            "model_id": "5258637a420a4f349b1bc293aa67db94",
                            "version_major": 2,
                            "version_minor": 0
                        },
                        "text/plain": [
                            "Epoch 14:   0%|          | 0/192 [00:00<?, ?it/s]"
                        ]
                    },
                    "metadata": {},
                    "output_type": "display_data"
                },
                {
                    "data": {
                        "application/vnd.jupyter.widget-view+json": {
                            "model_id": "9885513c144c4815bcc2fd4016ea2ce8",
                            "version_major": 2,
                            "version_minor": 0
                        },
                        "text/plain": [
                            "Epoch 15:   0%|          | 0/192 [00:00<?, ?it/s]"
                        ]
                    },
                    "metadata": {},
                    "output_type": "display_data"
                }
            ],
            "source": [
                "filename = f'saved_models/mnist_{digit}_ve_{epochs}e.pth'\n",
                "\n",
                "if os.path.isfile(filename):\n",
                "    model.load(filename)\n",
                "else:\n",
                "    model.train(data, epochs=epochs)\n",
                "    # Tip: Save the models for them to be accessible through the dashboard\n",
                "    model.save(filename)"
            ]
        },
        {
            "cell_type": "code",
            "execution_count": 6,
            "id": "57aa2793",
            "metadata": {},
            "outputs": [
                {
                    "data": {
                        "application/vnd.jupyter.widget-view+json": {
                            "model_id": "e90ce0aa38a241a3ac3d2e76cfc7a9d6",
                            "version_major": 2,
                            "version_minor": 0
                        },
                        "text/plain": [
                            "Generating:   0%|          | 0/500 [00:00<?, ?it/s]"
                        ]
                    },
                    "metadata": {},
                    "output_type": "display_data"
                },
                {
                    "data": {
                        "image/png": "[encoded data removed]",
                        "text/plain": [
                            "<Figure size 600x600 with 16 Axes>"
                        ]
                    },
                    "metadata": {},
                    "output_type": "display_data"
                }
            ],
            "source": [
                "n_images = 16\n",
                "samples = model.generate(n_images, seed=seed)\n",
                "display_images(samples)"
            ]
        },
        {
            "cell_type": "markdown",
            "id": "5accc665",
            "metadata": {},
            "source": [
                "### <span id=\"vp\">**Variance Preserving (VP)**</span>"
            ]
        },
        {
            "cell_type": "markdown",
            "id": "5d5249ed",
            "metadata": {},
            "source": [
                "#### Mathematical Definition\n",
                "\n",
                "**Drift:** $\\frac{-\\beta_t \\cdot x_t}{2}$\n",
                "\n",
                "**Diffusion:** $\\sqrt{\\beta_t}$"
            ]
        },
        {
            "cell_type": "markdown",
            "id": "6de5a603",
            "metadata": {},
            "source": [
                "#### Parameters\n",
                "| Parameter         | Type | Default | Description                          |\n",
                "|--------------------|---|---------|--------------------------------------|\n",
                "| `schedule`    | `BaseNoiseSchedule` | `LinearNoiseSchedule` | Noise schedule for $\\beta_t$ |"
            ]
        },
        {
            "cell_type": "markdown",
            "id": "b8efd1dc",
            "metadata": {},
            "source": [
                "#### Characteristics\n",
                "- **Training**: Stable convergence\n",
                "- **Generation**: Natural-looking transitions"
            ]
        },
        {
            "cell_type": "markdown",
            "id": "a00e5464",
            "metadata": {},
            "source": [
                "#### Usage Example"
            ]
        },
        {
            "cell_type": "code",
            "execution_count": 7,
            "id": "f886443e",
            "metadata": {},
            "outputs": [],
            "source": [
                "model = GenerativeModel(\n",
                "    diffusion=VariancePreserving,\n",
                "    noise_schedule=LinearNoiseSchedule,\n",
                "    sampler=ExponentialIntegrator,\n",
                ")"
            ]
        },
        {
            "cell_type": "code",
            "execution_count": null,
            "id": "f46ab47f",
            "metadata": {},
            "outputs": [
                {
                    "data": {
                        "application/vnd.jupyter.widget-view+json": {
                            "model_id": "fe2b9a0d5c1b403385db2b9cc2f1c53a",
                            "version_major": 2,
                            "version_minor": 0
                        },
                        "text/plain": [
                            "Training:   0%|          | 0/20 [00:00<?, ?it/s]"
                        ]
                    },
                    "metadata": {},
                    "output_type": "display_data"
                },
                {
                    "data": {
                        "application/vnd.jupyter.widget-view+json": {
                            "model_id": "ede436dcae864a7b8414500ba4c8465c",
                            "version_major": 2,
                            "version_minor": 0
                        },
                        "text/plain": [
                            "Epoch 1:   0%|          | 0/192 [00:00<?, ?it/s]"
                        ]
                    },
                    "metadata": {},
                    "output_type": "display_data"
                },
                {
                    "data": {
                        "application/vnd.jupyter.widget-view+json": {
                            "model_id": "f11ba6e77e174cd19efd46336544597f",
                            "version_major": 2,
                            "version_minor": 0
                        },
                        "text/plain": [
                            "Epoch 2:   0%|          | 0/192 [00:00<?, ?it/s]"
                        ]
                    },
                    "metadata": {},
                    "output_type": "display_data"
                },
                {
                    "data": {
                        "application/vnd.jupyter.widget-view+json": {
                            "model_id": "fd5dbaf445f9418c90df4c54ca9918d6",
                            "version_major": 2,
                            "version_minor": 0
                        },
                        "text/plain": [
                            "Epoch 3:   0%|          | 0/192 [00:00<?, ?it/s]"
                        ]
                    },
                    "metadata": {},
                    "output_type": "display_data"
                },
                {
                    "data": {
                        "application/vnd.jupyter.widget-view+json": {
                            "model_id": "1c2c768585d34a2f90dee5e43dd8fd79",
                            "version_major": 2,
                            "version_minor": 0
                        },
                        "text/plain": [
                            "Epoch 4:   0%|          | 0/192 [00:00<?, ?it/s]"
                        ]
                    },
                    "metadata": {},
                    "output_type": "display_data"
                },
                {
                    "data": {
                        "application/vnd.jupyter.widget-view+json": {
                            "model_id": "8ad2651fc7c9488d8a0c4cc23ad28538",
                            "version_major": 2,
                            "version_minor": 0
                        },
                        "text/plain": [
                            "Epoch 5:   0%|          | 0/192 [00:00<?, ?it/s]"
                        ]
                    },
                    "metadata": {},
                    "output_type": "display_data"
                }
            ],
            "source": [
                "filename = f'saved_models/mnist_{digit}_vp-lin_{epochs}e.pth'\n",
                "\n",
                "if os.path.isfile(filename):\n",
                "    model.load(filename)\n",
                "else:\n",
                "    model.train(data, epochs=20, lr=0.003)\n",
                "    # Tip: Save the models for them to be accessible through the dashboard\n",
                "    model.save(filename)"
            ]
        },
        {
            "cell_type": "code",
            "execution_count": null,
            "id": "8e7af768",
            "metadata": {},
            "outputs": [],
            "source": [
                "n_images = 16\n",
                "samples = model.generate(n_images, seed=seed)\n",
                "display_images(samples)"
            ]
        },
        {
            "cell_type": "markdown",
            "id": "3aabd388",
            "metadata": {},
            "source": [
                "### <span id=\"svp\">**Sub-Variance Preserving (Sub-VP)**</span>"
            ]
        },
        {
            "cell_type": "markdown",
            "id": "bce427e4",
            "metadata": {},
            "source": [
                "#### Mathematical Definition\n",
                "\n",
                "**Drift:** $\\frac{-\\beta_t \\cdot x_t}{2}$\n",
                "\n",
                "**Diffusion:** $\\sqrt{\\beta_t \\cdot (1 - e^{-2\\sum_{s=0}^{t}\\beta_{s}})}$"
            ]
        },
        {
            "cell_type": "markdown",
            "id": "96fadc8a",
            "metadata": {},
            "source": [
                "#### Parameters\n",
                "| Parameter         | Type | Default | Description                          |\n",
                "|--------------------|---|---------|--------------------------------------|\n",
                "| `schedule`    | `BaseNoiseSchedule` | `LinearNoiseSchedule` | Noise schedule for $\\beta_t$ (and $\\beta_s$) |"
            ]
        },
        {
            "cell_type": "markdown",
            "id": "bd586e0f",
            "metadata": {},
            "source": [
                "#### Characteristics\n",
                "- **Training**: Slower but more stable\n",
                "- **Generation**: Higher fidelity outputs"
            ]
        },
        {
            "cell_type": "markdown",
            "id": "8dbe1289",
            "metadata": {},
            "source": [
                "#### Usage Example"
            ]
        },
        {
            "cell_type": "code",
            "execution_count": null,
            "id": "0cc26218",
            "metadata": {},
            "outputs": [],
            "source": [
                "model = GenerativeModel(\n",
                "    diffusion=SubVariancePreserving,\n",
                "    noise_schedule=LinearNoiseSchedule,\n",
                "    sampler=ExponentialIntegrator\n",
                ")"
            ]
        },
        {
            "cell_type": "code",
            "execution_count": null,
            "id": "a194a2cd",
            "metadata": {},
            "outputs": [],
            "source": [
                "filename = f'saved_models/mnist_{digit}_svp-lin_{epochs}e.pth'\n",
                "\n",
                "if os.path.isfile(filename):\n",
                "    model.load(filename)\n",
                "else:\n",
                "    model.train(data, epochs=20, lr=0.002)\n",
                "    # Tip: Save the models for them to be accessible through the dashboard\n",
                "    # model.save(filename)"
            ]
        },
        {
            "cell_type": "code",
            "execution_count": null,
            "id": "abf3f132",
            "metadata": {},
            "outputs": [],
            "source": [
                "n_images = 16\n",
                "samples = model.generate(n_images, seed=seed)\n",
                "display_images(samples)"
            ]
        },
        {
            "cell_type": "markdown",
            "id": "be233dbd",
            "metadata": {},
            "source": [
                "### **Creating Custom Diffusers**"
            ]
        },
        {
            "cell_type": "markdown",
            "id": "d65ec394",
            "metadata": {},
            "source": [
                "Custom diffusers can be created by inheriting from `BaseDiffusion`. The methods that must be implemented are `forward_sde`, `forward_process` and `compute_loss` (sum of squared errors).\n",
                "\n",
                "It is currently not supported to load models with a custom diffuser, but it is highly recommended that they implement a `config` method for future updates."
            ]
        },
        {
            "cell_type": "markdown",
            "id": "552978a5",
            "metadata": {},
            "source": [
                "#### Implementation Example"
            ]
        },
        {
            "cell_type": "code",
            "execution_count": null,
            "id": "843de0ce",
            "metadata": {},
            "outputs": [],
            "source": [
                "class CustomDiffuser(BaseDiffusion):\n",
                "    def __init__(self, custom_param: float = 0.5):\n",
                "        self.custom_param = custom_param\n",
                "        \n",
                "    def forward_sde(self, x: Tensor, t: Tensor) -> Tuple[Tensor, Tensor]:\n",
                "        ...\n",
                "\n",
                "    def forward_process(self, x0: Tensor, t: Tensor) -> Tuple[Tensor, Tensor]:\n",
                "        ...\n",
                "\n",
                "    def compute_loss(self, score: Tensor, noise: Tensor, t: Tensor) -> Tensor:\n",
                "        ...\n",
                "        \n",
                "    def config(self) -> dict:\n",
                "        return {\n",
                "            \"custom_param\": self.custom_param\n",
                "        }"
            ]
        }
    ],
    "metadata": {
        "kernelspec": {
            "display_name": "Python 3",
            "language": "python",
            "name": "python3"
        },
        "language_info": {
            "codemirror_mode": {
                "name": "ipython",
                "version": 3
            },
            "file_extension": ".py",
            "mimetype": "text/x-python",
            "name": "python",
            "nbconvert_exporter": "python",
            "pygments_lexer": "ipython3",
            "version": "3.12.4"
        }
    },
    "nbformat": 4,
    "nbformat_minor": 5
}
