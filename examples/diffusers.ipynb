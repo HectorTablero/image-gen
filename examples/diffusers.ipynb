{
    "cells": [
        {
            "cell_type": "markdown",
            "id": "a2d0fc1a",
            "metadata": {},
            "source": [
                "<pre style=\"text-align: right; width: 100%; font-size: 0.75em; line-height: 0.75em;\">\n",
                "+ ------------------------- + <br>\n",
                "| 24/04/2025                | <br>\n",
                "| Héctor Tablero Díaz       | <br>\n",
                "| Álvaro Martínez Gamo      | <br>\n",
                "+ ------------------------- + \n",
                "</pre>"
            ]
        },
        {
            "cell_type": "markdown",
            "id": "8afee7ef",
            "metadata": {},
            "source": [
                "# **Diffusers**"
            ]
        },
        {
            "cell_type": "code",
            "execution_count": null,
            "id": "bf439bbd",
            "metadata": {},
            "outputs": [],
            "source": [
                "%load_ext autoreload\n",
                "%autoreload 2\n",
                "\n",
                "import sys\n",
                "sys.path.append('./..')\n",
                "\n",
                "import os\n",
                "\n",
                "import torch\n",
                "from torch import Tensor\n",
                "from torch.utils.data import Subset\n",
                "from torchvision import datasets\n",
                "from torchvision.transforms import ToTensor\n",
                "\n",
                "from image_gen import GenerativeModel\n",
                "from image_gen.samplers import ExponentialIntegrator\n",
                "from image_gen.diffusion import VarianceExploding, VariancePreserving, SubVariancePreserving, BaseDiffusion\n",
                "from image_gen.noise import LinearNoiseSchedule\n",
                "\n",
                "from typing import Tuple\n",
                "\n",
                "from image_gen.visualization import display_images"
            ]
        },
        {
            "cell_type": "code",
            "execution_count": null,
            "id": "da1756c2",
            "metadata": {},
            "outputs": [],
            "source": [
                "epochs = 25\n",
                "digit = 3\n",
                "\n",
                "seed = 42"
            ]
        },
        {
            "cell_type": "code",
            "execution_count": null,
            "id": "81d419b3",
            "metadata": {},
            "outputs": [],
            "source": [
                "# Load the dataset\n",
                "data = datasets.MNIST(\n",
                "    root='data',\n",
                "    train=True,\n",
                "    download=True,\n",
                "    transform=ToTensor()\n",
                ")\n",
                "\n",
                "# Select a subset to speed up the training process\n",
                "indices_digit = torch.where(data.targets == digit)[0]\n",
                "data = Subset(data, indices_digit)"
            ]
        },
        {
            "cell_type": "markdown",
            "id": "60206793",
            "metadata": {},
            "source": [
                "Diffusers define the core mechanics of the forward and reverse processes. Key aspects controlled by diffusers:\n",
                "- Noise addition strategy\n",
                "- Stochastic Differential Equation (SDE) formulation\n",
                "- Variance preservation properties\n",
                "\n",
                "Implemented variants:\n",
                "\n",
                "| Diffusion Type | Key Characteristics                          | Best For                  |\n",
                "|----------------|---------------------------------------------|--------------------------|\n",
                "| [VE](#ve)      | Simple additive noise                     | Theoretical analysis     |\n",
                "| [VP](#vp)      | Balanced signal/noise ratio               | General purpose          |\n",
                "| [Sub-VP](#svp) | Improved stability                         | High-resolution images   |"
            ]
        },
        {
            "cell_type": "markdown",
            "id": "1322b761",
            "metadata": {},
            "source": [
                "### <span id=\"ve\">**Variance Exploding (VE)**</span>"
            ]
        },
        {
            "cell_type": "markdown",
            "id": "cc274b4c",
            "metadata": {},
            "source": [
                "#### Mathematical Definition\n",
                "\n",
                "Drift: $0$\n",
                "\n",
                "Diffusion: $\\sigma^t$"
            ]
        },
        {
            "cell_type": "markdown",
            "id": "2d682648",
            "metadata": {},
            "source": [
                "#### Parameters\n",
                "| Parameter         | Type | Default | Description                          |\n",
                "|--------------------|---|---------|--------------------------------------|\n",
                "| $\\sigma_{\\max}$ (`sigma`)   | float | 25.0    | Maximum noise level  |"
            ]
        },
        {
            "cell_type": "markdown",
            "id": "19cc07bd",
            "metadata": {},
            "source": [
                "#### Characteristics\n",
                "- **Training**: Fast but unstable\n",
                "- **Generation**: Requires careful temperature tuning"
            ]
        },
        {
            "cell_type": "markdown",
            "id": "768d5ff3",
            "metadata": {},
            "source": [
                "#### Usage Example"
            ]
        },
        {
            "cell_type": "code",
            "execution_count": null,
            "id": "45193733",
            "metadata": {},
            "outputs": [],
            "source": [
                "model = GenerativeModel(\n",
                "    diffusion=VarianceExploding,\n",
                "    sampler=ExponentialIntegrator\n",
                ")"
            ]
        },
        {
            "cell_type": "code",
            "execution_count": null,
            "id": "8b7942b1",
            "metadata": {},
            "outputs": [],
            "source": [
                "filename = f'saved_models/mnist_{digit}_ve_{epochs}e.pth'\n",
                "\n",
                "if os.path.isfile(filename):\n",
                "    model.load(filename)\n",
                "else:\n",
                "    model.train(data, epochs=epochs)\n",
                "    # Tip: Save the models for them to be accessible through the dashboard\n",
                "    # model.save(filename)"
            ]
        },
        {
            "cell_type": "code",
            "execution_count": null,
            "id": "57aa2793",
            "metadata": {},
            "outputs": [],
            "source": [
                "n_images = 16\n",
                "samples = model.generate(n_images, seed=seed)\n",
                "display_images(samples)"
            ]
        },
        {
            "cell_type": "markdown",
            "id": "5accc665",
            "metadata": {},
            "source": [
                "### <span id=\"vp\">**Variance Preserving (VP)**</span>"
            ]
        },
        {
            "cell_type": "markdown",
            "id": "5d5249ed",
            "metadata": {},
            "source": [
                "#### Mathematical Definition\n",
                "\n",
                "**Drift:** $\\frac{-\\beta_t \\cdot x_t}{2}$\n",
                "\n",
                "**Diffusion:** $\\sqrt{\\beta_t}$"
            ]
        },
        {
            "cell_type": "markdown",
            "id": "6de5a603",
            "metadata": {},
            "source": [
                "#### Parameters\n",
                "| Parameter         | Type | Default | Description                          |\n",
                "|--------------------|---|---------|--------------------------------------|\n",
                "| `schedule`    | `BaseNoiseSchedule` | `LinearNoiseSchedule` | Noise schedule for $\\beta_t$ |"
            ]
        },
        {
            "cell_type": "markdown",
            "id": "b8efd1dc",
            "metadata": {},
            "source": [
                "#### Characteristics\n",
                "- **Training**: Stable convergence\n",
                "- **Generation**: Natural-looking transitions"
            ]
        },
        {
            "cell_type": "markdown",
            "id": "a00e5464",
            "metadata": {},
            "source": [
                "#### Usage Example"
            ]
        },
        {
            "cell_type": "code",
            "execution_count": null,
            "id": "f886443e",
            "metadata": {},
            "outputs": [],
            "source": [
                "model = GenerativeModel(\n",
                "    diffusion=VariancePreserving,\n",
                "    noise_schedule=LinearNoiseSchedule,\n",
                "    sampler=ExponentialIntegrator,\n",
                ")"
            ]
        },
        {
            "cell_type": "code",
            "execution_count": null,
            "id": "f46ab47f",
            "metadata": {},
            "outputs": [],
            "source": [
                "filename = f'saved_models/mnist_{digit}_vp-lin_{epochs}e.pth'\n",
                "\n",
                "if os.path.isfile(filename):\n",
                "    model.load(filename)\n",
                "else:\n",
                "    model.train(data, epochs=20, lr=0.003)\n",
                "    # Tip: Save the models for them to be accessible through the dashboard\n",
                "    # model.save(filename)"
            ]
        },
        {
            "cell_type": "code",
            "execution_count": null,
            "id": "8e7af768",
            "metadata": {},
            "outputs": [],
            "source": [
                "n_images = 16\n",
                "samples = model.generate(n_images, seed=seed)\n",
                "display_images(samples)"
            ]
        },
        {
            "cell_type": "markdown",
            "id": "3aabd388",
            "metadata": {},
            "source": [
                "### <span id=\"svp\">**Sub-Variance Preserving (Sub-VP)**</span>"
            ]
        },
        {
            "cell_type": "markdown",
            "id": "bce427e4",
            "metadata": {},
            "source": [
                "#### Mathematical Definition\n",
                "\n",
                "**Drift:** $\\frac{-\\beta_t \\cdot x_t}{2}$\n",
                "\n",
                "**Diffusion:** $\\sqrt{\\beta_t \\cdot (1 - e^{-2\\sum_{s=0}^{t}\\beta_{s}})}$"
            ]
        },
        {
            "cell_type": "markdown",
            "id": "96fadc8a",
            "metadata": {},
            "source": [
                "#### Parameters\n",
                "| Parameter         | Type | Default | Description                          |\n",
                "|--------------------|---|---------|--------------------------------------|\n",
                "| `schedule`    | `BaseNoiseSchedule` | `LinearNoiseSchedule` | Noise schedule for $\\beta_t$ (and $\\beta_s$) |"
            ]
        },
        {
            "cell_type": "markdown",
            "id": "bd586e0f",
            "metadata": {},
            "source": [
                "#### Characteristics\n",
                "- **Training**: Slower but more stable\n",
                "- **Generation**: Higher fidelity outputs"
            ]
        },
        {
            "cell_type": "markdown",
            "id": "8dbe1289",
            "metadata": {},
            "source": [
                "#### Usage Example"
            ]
        },
        {
            "cell_type": "code",
            "execution_count": null,
            "id": "0cc26218",
            "metadata": {},
            "outputs": [],
            "source": [
                "model = GenerativeModel(\n",
                "    diffusion=SubVariancePreserving,\n",
                "    noise_schedule=LinearNoiseSchedule,\n",
                "    sampler=ExponentialIntegrator\n",
                ")"
            ]
        },
        {
            "cell_type": "code",
            "execution_count": null,
            "id": "a194a2cd",
            "metadata": {},
            "outputs": [],
            "source": [
                "filename = f'saved_models/mnist_{digit}_svp-lin_{epochs}e.pth'\n",
                "\n",
                "if os.path.isfile(filename):\n",
                "    model.load(filename)\n",
                "else:\n",
                "    model.train(data, epochs=20, lr=0.002)\n",
                "    # Tip: Save the models for them to be accessible through the dashboard\n",
                "    # model.save(filename)"
            ]
        },
        {
            "cell_type": "code",
            "execution_count": null,
            "id": "abf3f132",
            "metadata": {},
            "outputs": [],
            "source": [
                "n_images = 16\n",
                "samples = model.generate(n_images, seed=seed)\n",
                "display_images(samples)"
            ]
        },
        {
            "cell_type": "markdown",
            "id": "be233dbd",
            "metadata": {},
            "source": [
                "### **Creating Custom Diffusers**"
            ]
        },
        {
            "cell_type": "markdown",
            "id": "d65ec394",
            "metadata": {},
            "source": [
                "Custom diffusers can be created by inheriting from `BaseDiffusion`. The methods that must be implemented are `forward_sde`, `forward_process` and `compute_loss` (sum of squared errors).\n",
                "\n",
                "It is currently not supported to load models with a custom diffuser, but it is highly recommended that they implement a `config` method for future updates."
            ]
        },
        {
            "cell_type": "markdown",
            "id": "552978a5",
            "metadata": {},
            "source": [
                "#### Implementation Example"
            ]
        },
        {
            "cell_type": "code",
            "execution_count": null,
            "id": "843de0ce",
            "metadata": {},
            "outputs": [],
            "source": [
                "class CustomDiffuser(BaseDiffusion):\n",
                "    def __init__(self, custom_param: float = 0.5):\n",
                "        self.custom_param = custom_param\n",
                "        \n",
                "    def forward_sde(self, x: Tensor, t: Tensor) -> Tuple[Tensor, Tensor]:\n",
                "        ...\n",
                "\n",
                "    def forward_process(self, x0: Tensor, t: Tensor) -> Tuple[Tensor, Tensor]:\n",
                "        ...\n",
                "\n",
                "    def compute_loss(self, score: Tensor, noise: Tensor, t: Tensor) -> Tensor:\n",
                "        ...\n",
                "        \n",
                "    def config(self) -> dict:\n",
                "        return {\n",
                "            \"custom_param\": self.custom_param\n",
                "        }"
            ]
        }
    ],
    "metadata": {
        "kernelspec": {
            "display_name": "Python 3",
            "language": "python",
            "name": "python3"
        },
        "language_info": {
            "codemirror_mode": {
                "name": "ipython",
                "version": 3
            },
            "file_extension": ".py",
            "mimetype": "text/x-python",
            "name": "python",
            "nbconvert_exporter": "python",
            "pygments_lexer": "ipython3",
            "version": "3.12.6"
        }
    },
    "nbformat": 4,
    "nbformat_minor": 5
}
