{
    "cells": [
        {
            "cell_type": "markdown",
            "id": "a2d0fc1a",
            "metadata": {},
            "source": [
                "<pre style=\"text-align: right; width: 100%; font-size: 0.75em; line-height: 0.75em;\">\n",
                "+ ------------------------- + <br>\n",
                "| 24/04/2025                | <br>\n",
                "| Héctor Tablero Díaz       | <br>\n",
                "| Álvaro Martínez Gamo      | <br>\n",
                "+ ------------------------- + \n",
                "</pre>"
            ]
        },
        {
            "cell_type": "markdown",
            "id": "8afee7ef",
            "metadata": {},
            "source": [
                "# **Diffusers**"
            ]
        },
        {
            "cell_type": "code",
            "execution_count": 1,
            "id": "bf439bbd",
            "metadata": {},
            "outputs": [
                {
                    "name": "stderr",
                    "output_type": "stream",
                    "text": [
                        "c:\\Users\\alva0\\Desktop\\3º ICID\\2º cuatri\\AAUTO3\\proyecto\\image-gen\\examples\\..\\image_gen\\samplers\\euler_maruyama.py:5: TqdmExperimentalWarning: Using `tqdm.autonotebook.tqdm` in notebook mode. Use `tqdm.tqdm` instead to force console mode (e.g. in jupyter console)\n",
                        "  from tqdm.autonotebook import tqdm\n"
                    ]
                }
            ],
            "source": [
                "%load_ext autoreload\n",
                "%autoreload 2\n",
                "\n",
                "import sys\n",
                "sys.path.append('./..')\n",
                "\n",
                "import os\n",
                "\n",
                "import torch\n",
                "from torch import Tensor\n",
                "from torch.utils.data import Subset\n",
                "from torchvision import datasets\n",
                "from torchvision.transforms import ToTensor\n",
                "\n",
                "from image_gen import GenerativeModel\n",
                "from image_gen.samplers import ExponentialIntegrator, PredictorCorrector, EulerMaruyama, ODEProbabilityFlow\n",
                "from image_gen.diffusion import VarianceExploding, VariancePreserving, SubVariancePreserving, BaseDiffusion\n",
                "from image_gen.noise import LinearNoiseSchedule\n",
                "\n",
                "from typing import Tuple\n",
                "\n",
                "from image_gen.visualization import display_images"
            ]
        },
        {
            "cell_type": "code",
            "execution_count": 2,
            "id": "da1756c2",
            "metadata": {},
            "outputs": [],
            "source": [
                "epochs = 15\n",
                "digit = 3\n",
                "\n",
                "seed = 42"
            ]
        },
        {
            "cell_type": "code",
            "execution_count": 3,
            "id": "81d419b3",
            "metadata": {},
            "outputs": [],
            "source": [
                "# Load the dataset\n",
                "data = datasets.MNIST(\n",
                "    root='data',\n",
                "    train=True,\n",
                "    download=True,\n",
                "    transform=ToTensor()\n",
                ")\n",
                "\n",
                "# Select a subset to speed up the training process\n",
                "indices_digit = torch.where(data.targets == digit)[0]\n",
                "data = Subset(data, indices_digit)"
            ]
        },
        {
            "cell_type": "markdown",
            "id": "60206793",
            "metadata": {},
            "source": [
                "Diffusers define the core mechanics of the forward and reverse processes. Key aspects controlled by diffusers:\n",
                "- Noise addition strategy\n",
                "- Stochastic Differential Equation (SDE) formulation\n",
                "- Variance preservation properties\n",
                "\n",
                "Implemented variants:\n",
                "\n",
                "| Diffusion Type | Key Characteristics                          | Best For                  |\n",
                "|----------------|---------------------------------------------|--------------------------|\n",
                "| [VE](#ve)      | Simple additive noise                     | Theoretical analysis     |\n",
                "| [VP](#vp)      | Balanced signal/noise ratio               | General purpose          |\n",
                "| [Sub-VP](#svp) | Improved stability                         | High-resolution images   |"
            ]
        },
        {
            "cell_type": "markdown",
            "id": "1322b761",
            "metadata": {},
            "source": [
                "### <span id=\"ve\">**Variance Exploding (VE)**</span>"
            ]
        },
        {
            "cell_type": "markdown",
            "id": "cc274b4c",
            "metadata": {},
            "source": [
                "#### Mathematical Definition\n",
                "\n",
                "Drift: $0$\n",
                "\n",
                "Diffusion: $\\sigma^t$"
            ]
        },
        {
            "cell_type": "markdown",
            "id": "2d682648",
            "metadata": {},
            "source": [
                "#### Parameters\n",
                "| Parameter         | Type | Default | Description                          |\n",
                "|--------------------|---|---------|--------------------------------------|\n",
                "| $\\sigma_{\\max}$ (`sigma`)   | float | 25.0    | Maximum noise level  |"
            ]
        },
        {
            "cell_type": "markdown",
            "id": "19cc07bd",
            "metadata": {},
            "source": [
                "#### Characteristics\n",
                "- **Training**: Fast but unstable\n",
                "- **Generation**: Requires careful temperature tuning"
            ]
        },
        {
            "cell_type": "markdown",
            "id": "768d5ff3",
            "metadata": {},
            "source": [
                "#### Usage Example"
            ]
        },
        {
            "cell_type": "code",
            "execution_count": 4,
            "id": "45193733",
            "metadata": {},
            "outputs": [],
            "source": [
                "model = GenerativeModel(\n",
                "    diffusion=VarianceExploding,\n",
                "    sampler = ODEProbabilityFlow\n",
                ")"
            ]
        },
        {
            "cell_type": "code",
            "execution_count": 5,
            "id": "8b7942b1",
            "metadata": {},
            "outputs": [
                {
                    "data": {
                        "application/vnd.jupyter.widget-view+json": {
                            "model_id": "74a40ef70e714fdaa3e8ffd097b70794",
                            "version_major": 2,
                            "version_minor": 0
                        },
                        "text/plain": [
                            "Training:   0%|          | 0/15 [00:00<?, ?it/s]"
                        ]
                    },
                    "metadata": {},
                    "output_type": "display_data"
                },
                {
                    "data": {
                        "application/vnd.jupyter.widget-view+json": {
                            "model_id": "21fef1ff24ea4d1eb30dcd01c7412250",
                            "version_major": 2,
                            "version_minor": 0
                        },
                        "text/plain": [
                            "Epoch 1:   0%|          | 0/192 [00:00<?, ?it/s]"
                        ]
                    },
                    "metadata": {},
                    "output_type": "display_data"
                },
                {
                    "data": {
                        "application/vnd.jupyter.widget-view+json": {
                            "model_id": "f1c90a0297124d35a669622a94534eca",
                            "version_major": 2,
                            "version_minor": 0
                        },
                        "text/plain": [
                            "Epoch 2:   0%|          | 0/192 [00:00<?, ?it/s]"
                        ]
                    },
                    "metadata": {},
                    "output_type": "display_data"
                },
                {
                    "data": {
                        "application/vnd.jupyter.widget-view+json": {
                            "model_id": "f3727ca70e3747fcbb8e933d042cb3da",
                            "version_major": 2,
                            "version_minor": 0
                        },
                        "text/plain": [
                            "Epoch 3:   0%|          | 0/192 [00:00<?, ?it/s]"
                        ]
                    },
                    "metadata": {},
                    "output_type": "display_data"
                },
                {
                    "data": {
                        "application/vnd.jupyter.widget-view+json": {
                            "model_id": "1c7426f0f85c47f79d6a0d959b8a97f5",
                            "version_major": 2,
                            "version_minor": 0
                        },
                        "text/plain": [
                            "Epoch 4:   0%|          | 0/192 [00:00<?, ?it/s]"
                        ]
                    },
                    "metadata": {},
                    "output_type": "display_data"
                },
                {
                    "data": {
                        "application/vnd.jupyter.widget-view+json": {
                            "model_id": "7065386b1e044b348b7f2ddb012935f7",
                            "version_major": 2,
                            "version_minor": 0
                        },
                        "text/plain": [
                            "Epoch 5:   0%|          | 0/192 [00:00<?, ?it/s]"
                        ]
                    },
                    "metadata": {},
                    "output_type": "display_data"
                },
                {
                    "data": {
                        "application/vnd.jupyter.widget-view+json": {
                            "model_id": "afef6b23fb964999ae41669352384503",
                            "version_major": 2,
                            "version_minor": 0
                        },
                        "text/plain": [
                            "Epoch 6:   0%|          | 0/192 [00:00<?, ?it/s]"
                        ]
                    },
                    "metadata": {},
                    "output_type": "display_data"
                },
                {
                    "data": {
                        "application/vnd.jupyter.widget-view+json": {
                            "model_id": "51c77f2b94c740d98d23d4c82dba7ca4",
                            "version_major": 2,
                            "version_minor": 0
                        },
                        "text/plain": [
                            "Epoch 7:   0%|          | 0/192 [00:00<?, ?it/s]"
                        ]
                    },
                    "metadata": {},
                    "output_type": "display_data"
                },
                {
                    "data": {
                        "application/vnd.jupyter.widget-view+json": {
                            "model_id": "b226612ed5bc4acd8b046ad266351b41",
                            "version_major": 2,
                            "version_minor": 0
                        },
                        "text/plain": [
                            "Epoch 8:   0%|          | 0/192 [00:00<?, ?it/s]"
                        ]
                    },
                    "metadata": {},
                    "output_type": "display_data"
                },
                {
                    "data": {
                        "application/vnd.jupyter.widget-view+json": {
                            "model_id": "5abc948749ff42c7b4b8c1bdddf80ff6",
                            "version_major": 2,
                            "version_minor": 0
                        },
                        "text/plain": [
                            "Epoch 9:   0%|          | 0/192 [00:00<?, ?it/s]"
                        ]
                    },
                    "metadata": {},
                    "output_type": "display_data"
                },
                {
                    "data": {
                        "application/vnd.jupyter.widget-view+json": {
                            "model_id": "b90d42d2c6654e20b3c5be8ece6a7f35",
                            "version_major": 2,
                            "version_minor": 0
                        },
                        "text/plain": [
                            "Epoch 10:   0%|          | 0/192 [00:00<?, ?it/s]"
                        ]
                    },
                    "metadata": {},
                    "output_type": "display_data"
                },
                {
                    "data": {
                        "application/vnd.jupyter.widget-view+json": {
                            "model_id": "0a3b7141aa2c48e58f9e6ec59ac80ea1",
                            "version_major": 2,
                            "version_minor": 0
                        },
                        "text/plain": [
                            "Epoch 11:   0%|          | 0/192 [00:00<?, ?it/s]"
                        ]
                    },
                    "metadata": {},
                    "output_type": "display_data"
                },
                {
                    "data": {
                        "application/vnd.jupyter.widget-view+json": {
                            "model_id": "3c16985463c64621a82ac32ff87220e5",
                            "version_major": 2,
                            "version_minor": 0
                        },
                        "text/plain": [
                            "Epoch 12:   0%|          | 0/192 [00:00<?, ?it/s]"
                        ]
                    },
                    "metadata": {},
                    "output_type": "display_data"
                },
                {
                    "data": {
                        "application/vnd.jupyter.widget-view+json": {
                            "model_id": "65851873c39e44789f9d3c50076887f2",
                            "version_major": 2,
                            "version_minor": 0
                        },
                        "text/plain": [
                            "Epoch 13:   0%|          | 0/192 [00:00<?, ?it/s]"
                        ]
                    },
                    "metadata": {},
                    "output_type": "display_data"
                },
                {
                    "data": {
                        "application/vnd.jupyter.widget-view+json": {
                            "model_id": "e2b417fe4eec43ab9933bdd58c3087e1",
                            "version_major": 2,
                            "version_minor": 0
                        },
                        "text/plain": [
                            "Epoch 14:   0%|          | 0/192 [00:00<?, ?it/s]"
                        ]
                    },
                    "metadata": {},
                    "output_type": "display_data"
                },
                {
                    "data": {
                        "application/vnd.jupyter.widget-view+json": {
                            "model_id": "8615a844c83642f494da7574d3806d88",
                            "version_major": 2,
                            "version_minor": 0
                        },
                        "text/plain": [
                            "Epoch 15:   0%|          | 0/192 [00:00<?, ?it/s]"
                        ]
                    },
                    "metadata": {},
                    "output_type": "display_data"
                }
            ],
            "source": [
                "filename = f'saved_models/mnist_{digit}_ve_{epochs}e.pth'\n",
                "\n",
                "if os.path.isfile(filename):\n",
                "    model.load(filename)\n",
                "else:\n",
                "    model.train(data, epochs=epochs)\n",
                "    # Tip: Save the models for them to be accessible through the dashboard\n",
                "    # model.save(filename)"
            ]
        },
        {
            "cell_type": "code",
            "execution_count": 6,
            "id": "57aa2793",
            "metadata": {},
            "outputs": [
                {
                    "data": {
                        "application/vnd.jupyter.widget-view+json": {
                            "model_id": "4f98cc06768b4a62a3785fa35067e2d1",
                            "version_major": 2,
                            "version_minor": 0
                        },
                        "text/plain": [
                            "Generating:   0%|          | 0/500 [00:00<?, ?it/s]"
                        ]
                    },
                    "metadata": {},
                    "output_type": "display_data"
                },
                {
                    "data": {
                        "image/png": "[encoded data removed]",
                        "text/plain": [
                            "<Figure size 600x600 with 16 Axes>"
                        ]
                    },
                    "metadata": {},
                    "output_type": "display_data"
                }
            ],
            "source": [
                "n_images = 16\n",
                "samples = model.generate(n_images, seed=seed)\n",
                "display_images(samples)"
            ]
        },
        {
            "cell_type": "markdown",
            "id": "5accc665",
            "metadata": {},
            "source": [
                "### <span id=\"vp\">**Variance Preserving (VP)**</span>"
            ]
        },
        {
            "cell_type": "markdown",
            "id": "5d5249ed",
            "metadata": {},
            "source": [
                "#### Mathematical Definition\n",
                "\n",
                "**Drift:** $\\frac{-\\beta_t \\cdot x_t}{2}$\n",
                "\n",
                "**Diffusion:** $\\sqrt{\\beta_t}$"
            ]
        },
        {
            "cell_type": "markdown",
            "id": "6de5a603",
            "metadata": {},
            "source": [
                "#### Parameters\n",
                "| Parameter         | Type | Default | Description                          |\n",
                "|--------------------|---|---------|--------------------------------------|\n",
                "| `schedule`    | `BaseNoiseSchedule` | `LinearNoiseSchedule` | Noise schedule for $\\beta_t$ |"
            ]
        },
        {
            "cell_type": "markdown",
            "id": "b8efd1dc",
            "metadata": {},
            "source": [
                "#### Characteristics\n",
                "- **Training**: Stable convergence\n",
                "- **Generation**: Natural-looking transitions"
            ]
        },
        {
            "cell_type": "markdown",
            "id": "a00e5464",
            "metadata": {},
            "source": [
                "#### Usage Example"
            ]
        },
        {
            "cell_type": "code",
            "execution_count": 7,
            "id": "f886443e",
            "metadata": {},
            "outputs": [],
            "source": [
                "model = GenerativeModel(\n",
                "    diffusion=VariancePreserving,\n",
                "    noise_schedule=LinearNoiseSchedule,\n",
                "    sampler=ExponentialIntegrator,\n",
                ")"
            ]
        },
        {
            "cell_type": "code",
            "execution_count": null,
            "id": "f46ab47f",
            "metadata": {},
            "outputs": [
                {
                    "data": {
                        "application/vnd.jupyter.widget-view+json": {
                            "model_id": "6ffe582e653b4190aff62871ae6b30a3",
                            "version_major": 2,
                            "version_minor": 0
                        },
                        "text/plain": [
                            "Training:   0%|          | 0/20 [00:00<?, ?it/s]"
                        ]
                    },
                    "metadata": {},
                    "output_type": "display_data"
                },
                {
                    "data": {
                        "application/vnd.jupyter.widget-view+json": {
                            "model_id": "13e89610131944908ed8f5425291a2c2",
                            "version_major": 2,
                            "version_minor": 0
                        },
                        "text/plain": [
                            "Epoch 1:   0%|          | 0/192 [00:00<?, ?it/s]"
                        ]
                    },
                    "metadata": {},
                    "output_type": "display_data"
                },
                {
                    "data": {
                        "application/vnd.jupyter.widget-view+json": {
                            "model_id": "7ae38716c6624139babaa6479a52b2c6",
                            "version_major": 2,
                            "version_minor": 0
                        },
                        "text/plain": [
                            "Epoch 2:   0%|          | 0/192 [00:00<?, ?it/s]"
                        ]
                    },
                    "metadata": {},
                    "output_type": "display_data"
                },
                {
                    "data": {
                        "application/vnd.jupyter.widget-view+json": {
                            "model_id": "e36bec13cbc44afa977fc0273e5f53fa",
                            "version_major": 2,
                            "version_minor": 0
                        },
                        "text/plain": [
                            "Epoch 3:   0%|          | 0/192 [00:00<?, ?it/s]"
                        ]
                    },
                    "metadata": {},
                    "output_type": "display_data"
                },
                {
                    "data": {
                        "application/vnd.jupyter.widget-view+json": {
                            "model_id": "651aa28665774817b9304b9f549efdb1",
                            "version_major": 2,
                            "version_minor": 0
                        },
                        "text/plain": [
                            "Epoch 4:   0%|          | 0/192 [00:00<?, ?it/s]"
                        ]
                    },
                    "metadata": {},
                    "output_type": "display_data"
                },
                {
                    "data": {
                        "application/vnd.jupyter.widget-view+json": {
                            "model_id": "d74ae6a69fab428484b179b410d41364",
                            "version_major": 2,
                            "version_minor": 0
                        },
                        "text/plain": [
                            "Epoch 5:   0%|          | 0/192 [00:00<?, ?it/s]"
                        ]
                    },
                    "metadata": {},
                    "output_type": "display_data"
                },
                {
                    "data": {
                        "application/vnd.jupyter.widget-view+json": {
                            "model_id": "e51918aa15d4417c8c64802a2d804b0a",
                            "version_major": 2,
                            "version_minor": 0
                        },
                        "text/plain": [
                            "Epoch 6:   0%|          | 0/192 [00:00<?, ?it/s]"
                        ]
                    },
                    "metadata": {},
                    "output_type": "display_data"
                },
                {
                    "data": {
                        "application/vnd.jupyter.widget-view+json": {
                            "model_id": "77f1e88523a341cb86dd4d57aed35970",
                            "version_major": 2,
                            "version_minor": 0
                        },
                        "text/plain": [
                            "Epoch 7:   0%|          | 0/192 [00:00<?, ?it/s]"
                        ]
                    },
                    "metadata": {},
                    "output_type": "display_data"
                },
                {
                    "data": {
                        "application/vnd.jupyter.widget-view+json": {
                            "model_id": "dd352483724b4be5a1a57ba34c2a1952",
                            "version_major": 2,
                            "version_minor": 0
                        },
                        "text/plain": [
                            "Epoch 8:   0%|          | 0/192 [00:00<?, ?it/s]"
                        ]
                    },
                    "metadata": {},
                    "output_type": "display_data"
                },
                {
                    "data": {
                        "application/vnd.jupyter.widget-view+json": {
                            "model_id": "c5012263c36f4244b6e654191d66e69d",
                            "version_major": 2,
                            "version_minor": 0
                        },
                        "text/plain": [
                            "Epoch 9:   0%|          | 0/192 [00:00<?, ?it/s]"
                        ]
                    },
                    "metadata": {},
                    "output_type": "display_data"
                }
            ],
            "source": [
                "filename = f'saved_models/mnist_{digit}_vp-lin_{epochs}e.pth'\n",
                "\n",
                "if os.path.isfile(filename):\n",
                "    model.load(filename)\n",
                "else:\n",
                "    model.train(data, epochs=20, lr=0.003)\n",
                "    # Tip: Save the models for them to be accessible through the dashboard\n",
                "    # model.save(filename)"
            ]
        },
        {
            "cell_type": "code",
            "execution_count": null,
            "id": "8e7af768",
            "metadata": {},
            "outputs": [],
            "source": [
                "n_images = 16\n",
                "samples = model.generate(n_images, seed=seed)\n",
                "display_images(samples)"
            ]
        },
        {
            "cell_type": "markdown",
            "id": "3aabd388",
            "metadata": {},
            "source": [
                "### <span id=\"svp\">**Sub-Variance Preserving (Sub-VP)**</span>"
            ]
        },
        {
            "cell_type": "markdown",
            "id": "bce427e4",
            "metadata": {},
            "source": [
                "#### Mathematical Definition\n",
                "\n",
                "**Drift:** $\\frac{-\\beta_t \\cdot x_t}{2}$\n",
                "\n",
                "**Diffusion:** $\\sqrt{\\beta_t \\cdot (1 - e^{-2\\sum_{s=0}^{t}\\beta_{s}})}$"
            ]
        },
        {
            "cell_type": "markdown",
            "id": "96fadc8a",
            "metadata": {},
            "source": [
                "#### Parameters\n",
                "| Parameter         | Type | Default | Description                          |\n",
                "|--------------------|---|---------|--------------------------------------|\n",
                "| `schedule`    | `BaseNoiseSchedule` | `LinearNoiseSchedule` | Noise schedule for $\\beta_t$ (and $\\beta_s$) |"
            ]
        },
        {
            "cell_type": "markdown",
            "id": "bd586e0f",
            "metadata": {},
            "source": [
                "#### Characteristics\n",
                "- **Training**: Slower but more stable\n",
                "- **Generation**: Higher fidelity outputs"
            ]
        },
        {
            "cell_type": "markdown",
            "id": "8dbe1289",
            "metadata": {},
            "source": [
                "#### Usage Example"
            ]
        },
        {
            "cell_type": "code",
            "execution_count": null,
            "id": "0cc26218",
            "metadata": {},
            "outputs": [],
            "source": [
                "model = GenerativeModel(\n",
                "    diffusion=SubVariancePreserving,\n",
                "    noise_schedule=LinearNoiseSchedule,\n",
                "    sampler=ExponentialIntegrator\n",
                ")"
            ]
        },
        {
            "cell_type": "code",
            "execution_count": null,
            "id": "a194a2cd",
            "metadata": {},
            "outputs": [],
            "source": [
                "filename = f'saved_models/mnist_{digit}_svp-lin_{epochs}e.pth'\n",
                "\n",
                "if os.path.isfile(filename):\n",
                "    model.load(filename)\n",
                "else:\n",
                "    model.train(data, epochs=20, lr=0.002)\n",
                "    # Tip: Save the models for them to be accessible through the dashboard\n",
                "    # model.save(filename)"
            ]
        },
        {
            "cell_type": "code",
            "execution_count": null,
            "id": "abf3f132",
            "metadata": {},
            "outputs": [],
            "source": [
                "n_images = 16\n",
                "samples = model.generate(n_images, seed=seed)\n",
                "display_images(samples)"
            ]
        },
        {
            "cell_type": "markdown",
            "id": "be233dbd",
            "metadata": {},
            "source": [
                "### **Creating Custom Diffusers**"
            ]
        },
        {
            "cell_type": "markdown",
            "id": "d65ec394",
            "metadata": {},
            "source": [
                "Custom diffusers can be created by inheriting from `BaseDiffusion`. The methods that must be implemented are `forward_sde`, `forward_process` and `compute_loss` (sum of squared errors).\n",
                "\n",
                "It is currently not supported to load models with a custom diffuser, but it is highly recommended that they implement a `config` method for future updates."
            ]
        },
        {
            "cell_type": "markdown",
            "id": "552978a5",
            "metadata": {},
            "source": [
                "#### Implementation Example"
            ]
        },
        {
            "cell_type": "code",
            "execution_count": null,
            "id": "843de0ce",
            "metadata": {},
            "outputs": [],
            "source": [
                "class CustomDiffuser(BaseDiffusion):\n",
                "    def __init__(self, custom_param: float = 0.5):\n",
                "        self.custom_param = custom_param\n",
                "        \n",
                "    def forward_sde(self, x: Tensor, t: Tensor) -> Tuple[Tensor, Tensor]:\n",
                "        ...\n",
                "\n",
                "    def forward_process(self, x0: Tensor, t: Tensor) -> Tuple[Tensor, Tensor]:\n",
                "        ...\n",
                "\n",
                "    def compute_loss(self, score: Tensor, noise: Tensor, t: Tensor) -> Tensor:\n",
                "        ...\n",
                "        \n",
                "    def config(self) -> dict:\n",
                "        return {\n",
                "            \"custom_param\": self.custom_param\n",
                "        }"
            ]
        }
    ],
    "metadata": {
        "kernelspec": {
            "display_name": "Python 3",
            "language": "python",
            "name": "python3"
        },
        "language_info": {
            "codemirror_mode": {
                "name": "ipython",
                "version": 3
            },
            "file_extension": ".py",
            "mimetype": "text/x-python",
            "name": "python",
            "nbconvert_exporter": "python",
            "pygments_lexer": "ipython3",
            "version": "3.12.4"
        }
    },
    "nbformat": 4,
    "nbformat_minor": 5
}
