{
    "cells": [
        {
            "cell_type": "markdown",
            "id": "a2d0fc1a",
            "metadata": {},
            "source": [
                "<pre style=\"text-align: right; width: 100%; font-size: 0.75em; line-height: 0.75em;\">\n",
                "+ ------------------------- + <br>\n",
                "| 24/04/2025                | <br>\n",
                "| Héctor Tablero Díaz       | <br>\n",
                "| Álvaro Martínez Gamo      | <br>\n",
                "+ ------------------------- + \n",
                "</pre>"
            ]
        },
        {
            "cell_type": "markdown",
            "id": "8afee7ef",
            "metadata": {},
            "source": [
                "# **Diffusers**"
            ]
        },
        {
            "cell_type": "code",
            "execution_count": 1,
            "id": "bf439bbd",
            "metadata": {},
            "outputs": [
                {
                    "name": "stderr",
                    "output_type": "stream",
                    "text": [
                        "c:\\Users\\alva0\\Desktop\\3º ICID\\2º cuatri\\AAUTO3\\proyecto\\image-gen\\examples\\..\\image_gen\\samplers\\euler_maruyama.py:5: TqdmExperimentalWarning: Using `tqdm.autonotebook.tqdm` in notebook mode. Use `tqdm.tqdm` instead to force console mode (e.g. in jupyter console)\n",
                        "  from tqdm.autonotebook import tqdm\n"
                    ]
                }
            ],
            "source": [
                "%load_ext autoreload\n",
                "%autoreload 2\n",
                "\n",
                "import sys\n",
                "sys.path.append('./..')\n",
                "\n",
                "import os\n",
                "\n",
                "import torch\n",
                "from torch import Tensor\n",
                "from torch.utils.data import Subset\n",
                "from torchvision import datasets\n",
                "from torchvision.transforms import ToTensor\n",
                "\n",
                "from image_gen import GenerativeModel\n",
                "from image_gen.samplers import EulerMaruyama, ODEProbabilityFlow, ExponentialIntegrator, PredictorCorrector\n",
                "from image_gen.diffusion import VarianceExploding, VariancePreserving, SubVariancePreserving, BaseDiffusion\n",
                "from image_gen.noise import LinearNoiseSchedule, CosineNoiseSchedule\n",
                "\n",
                "from typing import Tuple\n",
                "\n",
                "from image_gen.visualization import display_images"
            ]
        },
        {
            "cell_type": "code",
            "execution_count": 2,
            "id": "da1756c2",
            "metadata": {},
            "outputs": [],
            "source": [
                "epochs = 25\n",
                "digit = 3\n",
                "\n",
                "seed = 42"
            ]
        },
        {
            "cell_type": "code",
            "execution_count": 3,
            "id": "81d419b3",
            "metadata": {},
            "outputs": [],
            "source": [
                "# Load the dataset\n",
                "data = datasets.MNIST(\n",
                "    root='data',\n",
                "    train=True,\n",
                "    download=True,\n",
                "    transform=ToTensor()\n",
                ")\n",
                "\n",
                "# Select a subset to speed up the training process\n",
                "indices_digit = torch.where(data.targets == digit)[0]\n",
                "data = Subset(data, indices_digit)"
            ]
        },
        {
            "cell_type": "markdown",
            "id": "60206793",
            "metadata": {},
            "source": [
                "Diffusers define the core mechanics of the forward and reverse processes. Key aspects controlled by diffusers:\n",
                "- Noise addition strategy\n",
                "- Stochastic Differential Equation (SDE) formulation\n",
                "- Variance preservation properties\n",
                "\n",
                "Implemented variants:\n",
                "\n",
                "| Diffusion Type | Key Characteristics                          | Best For                  |\n",
                "|----------------|---------------------------------------------|--------------------------|\n",
                "| [VE](#ve)      | Simple additive noise                     | Theoretical analysis     |\n",
                "| [VP](#vp)      | Balanced signal/noise ratio               | General purpose          |\n",
                "| [Sub-VP](#svp) | Improved stability                         | High-resolution images   |"
            ]
        },
        {
            "cell_type": "markdown",
            "id": "1322b761",
            "metadata": {},
            "source": [
                "### <span id=\"ve\">**Variance Exploding (VE)**</span>"
            ]
        },
        {
            "cell_type": "markdown",
            "id": "cc274b4c",
            "metadata": {},
            "source": [
                "#### Mathematical Definition\n",
                "\n",
                "Drift: $0$\n",
                "\n",
                "Diffusion: $\\sigma^t$"
            ]
        },
        {
            "cell_type": "markdown",
            "id": "2d682648",
            "metadata": {},
            "source": [
                "#### Parameters\n",
                "| Parameter         | Type | Default | Description                          |\n",
                "|--------------------|---|---------|--------------------------------------|\n",
                "| $\\sigma_{\\max}$ (`sigma`)   | float | 25.0    | Maximum noise level  |"
            ]
        },
        {
            "cell_type": "markdown",
            "id": "19cc07bd",
            "metadata": {},
            "source": [
                "#### Characteristics\n",
                "- **Training**: Fast but unstable\n",
                "- **Generation**: Requires careful temperature tuning"
            ]
        },
        {
            "cell_type": "markdown",
            "id": "768d5ff3",
            "metadata": {},
            "source": [
                "#### Usage Example"
            ]
        },
        {
            "cell_type": "code",
            "execution_count": 4,
            "id": "45193733",
            "metadata": {},
            "outputs": [],
            "source": [
                "model = GenerativeModel(\n",
                "    diffusion=VarianceExploding,\n",
                "    sampler=ExponentialIntegrator\n",
                ")"
            ]
        },
        {
            "cell_type": "code",
            "execution_count": 5,
            "id": "8b7942b1",
            "metadata": {},
            "outputs": [
                {
                    "data": {
                        "application/vnd.jupyter.widget-view+json": {
                            "model_id": "7b5cde6d030b407d9e68e9eb55dc16d5",
                            "version_major": 2,
                            "version_minor": 0
                        },
                        "text/plain": [
                            "Training:   0%|          | 0/25 [00:00<?, ?it/s]"
                        ]
                    },
                    "metadata": {},
                    "output_type": "display_data"
                },
                {
                    "data": {
                        "application/vnd.jupyter.widget-view+json": {
                            "model_id": "c83cf9ebf25f44fe9edad1df75f93d22",
                            "version_major": 2,
                            "version_minor": 0
                        },
                        "text/plain": [
                            "Epoch 1:   0%|          | 0/192 [00:00<?, ?it/s]"
                        ]
                    },
                    "metadata": {},
                    "output_type": "display_data"
                },
                {
                    "data": {
                        "application/vnd.jupyter.widget-view+json": {
                            "model_id": "47eeae01b89d4f12ae79ceb2a531c22e",
                            "version_major": 2,
                            "version_minor": 0
                        },
                        "text/plain": [
                            "Epoch 2:   0%|          | 0/192 [00:00<?, ?it/s]"
                        ]
                    },
                    "metadata": {},
                    "output_type": "display_data"
                },
                {
                    "data": {
                        "application/vnd.jupyter.widget-view+json": {
                            "model_id": "89d1491178ff4f3f994a83aef2a6cfc6",
                            "version_major": 2,
                            "version_minor": 0
                        },
                        "text/plain": [
                            "Epoch 3:   0%|          | 0/192 [00:00<?, ?it/s]"
                        ]
                    },
                    "metadata": {},
                    "output_type": "display_data"
                },
                {
                    "data": {
                        "application/vnd.jupyter.widget-view+json": {
                            "model_id": "756bbc0ca2784e869697fcaef1da02e0",
                            "version_major": 2,
                            "version_minor": 0
                        },
                        "text/plain": [
                            "Epoch 4:   0%|          | 0/192 [00:00<?, ?it/s]"
                        ]
                    },
                    "metadata": {},
                    "output_type": "display_data"
                },
                {
                    "data": {
                        "application/vnd.jupyter.widget-view+json": {
                            "model_id": "1229ad53bbc94d5aaba88e00b70d29b1",
                            "version_major": 2,
                            "version_minor": 0
                        },
                        "text/plain": [
                            "Epoch 5:   0%|          | 0/192 [00:00<?, ?it/s]"
                        ]
                    },
                    "metadata": {},
                    "output_type": "display_data"
                },
                {
                    "data": {
                        "application/vnd.jupyter.widget-view+json": {
                            "model_id": "d88cd6e5cf7d43f092369bb663003536",
                            "version_major": 2,
                            "version_minor": 0
                        },
                        "text/plain": [
                            "Epoch 6:   0%|          | 0/192 [00:00<?, ?it/s]"
                        ]
                    },
                    "metadata": {},
                    "output_type": "display_data"
                },
                {
                    "data": {
                        "application/vnd.jupyter.widget-view+json": {
                            "model_id": "6dab4332cbe5487d8dbe040ff1f6cb35",
                            "version_major": 2,
                            "version_minor": 0
                        },
                        "text/plain": [
                            "Epoch 7:   0%|          | 0/192 [00:00<?, ?it/s]"
                        ]
                    },
                    "metadata": {},
                    "output_type": "display_data"
                },
                {
                    "data": {
                        "application/vnd.jupyter.widget-view+json": {
                            "model_id": "0080d48e406c4d97aedd2ff5e7b0e9fe",
                            "version_major": 2,
                            "version_minor": 0
                        },
                        "text/plain": [
                            "Epoch 8:   0%|          | 0/192 [00:00<?, ?it/s]"
                        ]
                    },
                    "metadata": {},
                    "output_type": "display_data"
                },
                {
                    "data": {
                        "application/vnd.jupyter.widget-view+json": {
                            "model_id": "b8a30c62816349dfa52f2e5459b41f0c",
                            "version_major": 2,
                            "version_minor": 0
                        },
                        "text/plain": [
                            "Epoch 9:   0%|          | 0/192 [00:00<?, ?it/s]"
                        ]
                    },
                    "metadata": {},
                    "output_type": "display_data"
                },
                {
                    "data": {
                        "application/vnd.jupyter.widget-view+json": {
                            "model_id": "f924dce3738c45d7a002d42cb79371ce",
                            "version_major": 2,
                            "version_minor": 0
                        },
                        "text/plain": [
                            "Epoch 10:   0%|          | 0/192 [00:00<?, ?it/s]"
                        ]
                    },
                    "metadata": {},
                    "output_type": "display_data"
                },
                {
                    "data": {
                        "application/vnd.jupyter.widget-view+json": {
                            "model_id": "ba991b2d0a8e4b46973311e60c13ad80",
                            "version_major": 2,
                            "version_minor": 0
                        },
                        "text/plain": [
                            "Epoch 11:   0%|          | 0/192 [00:00<?, ?it/s]"
                        ]
                    },
                    "metadata": {},
                    "output_type": "display_data"
                },
                {
                    "data": {
                        "application/vnd.jupyter.widget-view+json": {
                            "model_id": "5387058943a2487bb7a946fd07bd3850",
                            "version_major": 2,
                            "version_minor": 0
                        },
                        "text/plain": [
                            "Epoch 12:   0%|          | 0/192 [00:00<?, ?it/s]"
                        ]
                    },
                    "metadata": {},
                    "output_type": "display_data"
                },
                {
                    "data": {
                        "application/vnd.jupyter.widget-view+json": {
                            "model_id": "d4451578d3f048bd9bd227ad23260f4c",
                            "version_major": 2,
                            "version_minor": 0
                        },
                        "text/plain": [
                            "Epoch 13:   0%|          | 0/192 [00:00<?, ?it/s]"
                        ]
                    },
                    "metadata": {},
                    "output_type": "display_data"
                },
                {
                    "data": {
                        "application/vnd.jupyter.widget-view+json": {
                            "model_id": "d90a57a0eac54737b6ba8b5b228a52fe",
                            "version_major": 2,
                            "version_minor": 0
                        },
                        "text/plain": [
                            "Epoch 14:   0%|          | 0/192 [00:00<?, ?it/s]"
                        ]
                    },
                    "metadata": {},
                    "output_type": "display_data"
                },
                {
                    "data": {
                        "application/vnd.jupyter.widget-view+json": {
                            "model_id": "0abbb27a5cdd4ef8a00b090d89e623ee",
                            "version_major": 2,
                            "version_minor": 0
                        },
                        "text/plain": [
                            "Epoch 15:   0%|          | 0/192 [00:00<?, ?it/s]"
                        ]
                    },
                    "metadata": {},
                    "output_type": "display_data"
                },
                {
                    "data": {
                        "application/vnd.jupyter.widget-view+json": {
                            "model_id": "8019c71526ed4b87aa381b08767676c6",
                            "version_major": 2,
                            "version_minor": 0
                        },
                        "text/plain": [
                            "Epoch 16:   0%|          | 0/192 [00:00<?, ?it/s]"
                        ]
                    },
                    "metadata": {},
                    "output_type": "display_data"
                },
                {
                    "data": {
                        "application/vnd.jupyter.widget-view+json": {
                            "model_id": "b70a52f61abe473dbd31439b173b821c",
                            "version_major": 2,
                            "version_minor": 0
                        },
                        "text/plain": [
                            "Epoch 17:   0%|          | 0/192 [00:00<?, ?it/s]"
                        ]
                    },
                    "metadata": {},
                    "output_type": "display_data"
                },
                {
                    "data": {
                        "application/vnd.jupyter.widget-view+json": {
                            "model_id": "670aa0752f304c08bd42c41e87cc5a26",
                            "version_major": 2,
                            "version_minor": 0
                        },
                        "text/plain": [
                            "Epoch 18:   0%|          | 0/192 [00:00<?, ?it/s]"
                        ]
                    },
                    "metadata": {},
                    "output_type": "display_data"
                },
                {
                    "data": {
                        "application/vnd.jupyter.widget-view+json": {
                            "model_id": "3a15bc34df584c8cbbabe16616dd27e5",
                            "version_major": 2,
                            "version_minor": 0
                        },
                        "text/plain": [
                            "Epoch 19:   0%|          | 0/192 [00:00<?, ?it/s]"
                        ]
                    },
                    "metadata": {},
                    "output_type": "display_data"
                },
                {
                    "data": {
                        "application/vnd.jupyter.widget-view+json": {
                            "model_id": "2108950361b74098af23632145463c33",
                            "version_major": 2,
                            "version_minor": 0
                        },
                        "text/plain": [
                            "Epoch 20:   0%|          | 0/192 [00:00<?, ?it/s]"
                        ]
                    },
                    "metadata": {},
                    "output_type": "display_data"
                },
                {
                    "data": {
                        "application/vnd.jupyter.widget-view+json": {
                            "model_id": "d8a60dc39b9f473b9e065545c790dfbf",
                            "version_major": 2,
                            "version_minor": 0
                        },
                        "text/plain": [
                            "Epoch 21:   0%|          | 0/192 [00:00<?, ?it/s]"
                        ]
                    },
                    "metadata": {},
                    "output_type": "display_data"
                },
                {
                    "data": {
                        "application/vnd.jupyter.widget-view+json": {
                            "model_id": "4c854d81d3f647c29b83c48d7d0db2bd",
                            "version_major": 2,
                            "version_minor": 0
                        },
                        "text/plain": [
                            "Epoch 22:   0%|          | 0/192 [00:00<?, ?it/s]"
                        ]
                    },
                    "metadata": {},
                    "output_type": "display_data"
                },
                {
                    "data": {
                        "application/vnd.jupyter.widget-view+json": {
                            "model_id": "fb046889b07940698606115f9c9ad9e3",
                            "version_major": 2,
                            "version_minor": 0
                        },
                        "text/plain": [
                            "Epoch 23:   0%|          | 0/192 [00:00<?, ?it/s]"
                        ]
                    },
                    "metadata": {},
                    "output_type": "display_data"
                },
                {
                    "data": {
                        "application/vnd.jupyter.widget-view+json": {
                            "model_id": "ad72401e111e429ca6a3f73aa10c2070",
                            "version_major": 2,
                            "version_minor": 0
                        },
                        "text/plain": [
                            "Epoch 24:   0%|          | 0/192 [00:00<?, ?it/s]"
                        ]
                    },
                    "metadata": {},
                    "output_type": "display_data"
                },
                {
                    "data": {
                        "application/vnd.jupyter.widget-view+json": {
                            "model_id": "5e05168acb1541d2b9a00a83122f606f",
                            "version_major": 2,
                            "version_minor": 0
                        },
                        "text/plain": [
                            "Epoch 25:   0%|          | 0/192 [00:00<?, ?it/s]"
                        ]
                    },
                    "metadata": {},
                    "output_type": "display_data"
                }
            ],
            "source": [
                "filename = f'saved_models/mnist_{digit}_ve_euler_{epochs}e.pth'\n",
                "\n",
                "if os.path.isfile(filename):\n",
                "    model.load(filename)\n",
                "else:\n",
                "    model.train(data, epochs=epochs)\n",
                "    # Tip: Save the models for them to be accessible through the dashboard\n",
                "    # model.save(filename)"
            ]
        },
        {
            "cell_type": "code",
            "execution_count": 6,
            "id": "57aa2793",
            "metadata": {},
            "outputs": [
                {
                    "data": {
                        "application/vnd.jupyter.widget-view+json": {
                            "model_id": "8a61bb17e8bc4c1e86279a191e27573a",
                            "version_major": 2,
                            "version_minor": 0
                        },
                        "text/plain": [
                            "Generating:   0%|          | 0/500 [00:00<?, ?it/s]"
                        ]
                    },
                    "metadata": {},
                    "output_type": "display_data"
                },
                {
                    "data": {
                        "image/png": "[encoded data removed]",
                        "text/plain": [
                            "<Figure size 600x600 with 16 Axes>"
                        ]
                    },
                    "metadata": {},
                    "output_type": "display_data"
                }
            ],
            "source": [
                "n_images = 16\n",
                "samples = model.generate(n_images, seed=seed)\n",
                "display_images(samples)"
            ]
        },
        {
            "cell_type": "markdown",
            "id": "5accc665",
            "metadata": {},
            "source": [
                "### <span id=\"vp\">**Variance Preserving (VP)**</span>"
            ]
        },
        {
            "cell_type": "markdown",
            "id": "5d5249ed",
            "metadata": {},
            "source": [
                "#### Mathematical Definition\n",
                "\n",
                "**Drift:** $\\frac{-\\beta_t \\cdot x_t}{2}$\n",
                "\n",
                "**Diffusion:** $\\sqrt{\\beta_t}$"
            ]
        },
        {
            "cell_type": "markdown",
            "id": "6de5a603",
            "metadata": {},
            "source": [
                "#### Parameters\n",
                "| Parameter         | Type | Default | Description                          |\n",
                "|--------------------|---|---------|--------------------------------------|\n",
                "| `schedule`    | `BaseNoiseSchedule` | `LinearNoiseSchedule` | Noise schedule for $\\beta_t$ |"
            ]
        },
        {
            "cell_type": "markdown",
            "id": "b8efd1dc",
            "metadata": {},
            "source": [
                "#### Characteristics\n",
                "- **Training**: Stable convergence\n",
                "- **Generation**: Natural-looking transitions"
            ]
        },
        {
            "cell_type": "markdown",
            "id": "a00e5464",
            "metadata": {},
            "source": [
                "#### Usage Example"
            ]
        },
        {
            "cell_type": "code",
            "execution_count": 7,
            "id": "f886443e",
            "metadata": {},
            "outputs": [],
            "source": [
                "model = GenerativeModel(\n",
                "    diffusion=VariancePreserving,\n",
                "    noise_schedule=CosineNoiseSchedule(beta_max=20.0),\n",
                "    sampler=ExponentialIntegrator,\n",
                ")"
            ]
        },
        {
            "cell_type": "code",
            "execution_count": 8,
            "id": "f46ab47f",
            "metadata": {},
            "outputs": [
                {
                    "data": {
                        "application/vnd.jupyter.widget-view+json": {
                            "model_id": "a84fb0d73d7647579d897f14670506c2",
                            "version_major": 2,
                            "version_minor": 0
                        },
                        "text/plain": [
                            "Training:   0%|          | 0/20 [00:00<?, ?it/s]"
                        ]
                    },
                    "metadata": {},
                    "output_type": "display_data"
                },
                {
                    "data": {
                        "application/vnd.jupyter.widget-view+json": {
                            "model_id": "ca6a5d74c09c40efa20cd5ab2dabea07",
                            "version_major": 2,
                            "version_minor": 0
                        },
                        "text/plain": [
                            "Epoch 1:   0%|          | 0/192 [00:00<?, ?it/s]"
                        ]
                    },
                    "metadata": {},
                    "output_type": "display_data"
                },
                {
                    "data": {
                        "application/vnd.jupyter.widget-view+json": {
                            "model_id": "d8544d4de6d1432f8db8c0fd1ab2dba3",
                            "version_major": 2,
                            "version_minor": 0
                        },
                        "text/plain": [
                            "Epoch 2:   0%|          | 0/192 [00:00<?, ?it/s]"
                        ]
                    },
                    "metadata": {},
                    "output_type": "display_data"
                },
                {
                    "data": {
                        "application/vnd.jupyter.widget-view+json": {
                            "model_id": "5f1fac00a53e49ec862a5c93cc0bfd68",
                            "version_major": 2,
                            "version_minor": 0
                        },
                        "text/plain": [
                            "Epoch 3:   0%|          | 0/192 [00:00<?, ?it/s]"
                        ]
                    },
                    "metadata": {},
                    "output_type": "display_data"
                },
                {
                    "data": {
                        "application/vnd.jupyter.widget-view+json": {
                            "model_id": "7352fd8cf263498eb8780a3ec5f353c5",
                            "version_major": 2,
                            "version_minor": 0
                        },
                        "text/plain": [
                            "Epoch 4:   0%|          | 0/192 [00:00<?, ?it/s]"
                        ]
                    },
                    "metadata": {},
                    "output_type": "display_data"
                },
                {
                    "data": {
                        "application/vnd.jupyter.widget-view+json": {
                            "model_id": "82cf0588e3f94c559d3b9c659a728b76",
                            "version_major": 2,
                            "version_minor": 0
                        },
                        "text/plain": [
                            "Epoch 5:   0%|          | 0/192 [00:00<?, ?it/s]"
                        ]
                    },
                    "metadata": {},
                    "output_type": "display_data"
                },
                {
                    "data": {
                        "application/vnd.jupyter.widget-view+json": {
                            "model_id": "135dc3837fa54586b4cf3ccdb15dfd19",
                            "version_major": 2,
                            "version_minor": 0
                        },
                        "text/plain": [
                            "Epoch 6:   0%|          | 0/192 [00:00<?, ?it/s]"
                        ]
                    },
                    "metadata": {},
                    "output_type": "display_data"
                },
                {
                    "data": {
                        "application/vnd.jupyter.widget-view+json": {
                            "model_id": "4cb36f9644bb446ba591271fcf73804e",
                            "version_major": 2,
                            "version_minor": 0
                        },
                        "text/plain": [
                            "Epoch 7:   0%|          | 0/192 [00:00<?, ?it/s]"
                        ]
                    },
                    "metadata": {},
                    "output_type": "display_data"
                },
                {
                    "data": {
                        "application/vnd.jupyter.widget-view+json": {
                            "model_id": "2e927b228365422ca4dc3e1048c73d48",
                            "version_major": 2,
                            "version_minor": 0
                        },
                        "text/plain": [
                            "Epoch 8:   0%|          | 0/192 [00:00<?, ?it/s]"
                        ]
                    },
                    "metadata": {},
                    "output_type": "display_data"
                },
                {
                    "data": {
                        "application/vnd.jupyter.widget-view+json": {
                            "model_id": "44f9f2fa986f414195c124b347286ef4",
                            "version_major": 2,
                            "version_minor": 0
                        },
                        "text/plain": [
                            "Epoch 9:   0%|          | 0/192 [00:00<?, ?it/s]"
                        ]
                    },
                    "metadata": {},
                    "output_type": "display_data"
                },
                {
                    "data": {
                        "application/vnd.jupyter.widget-view+json": {
                            "model_id": "67d651f43aab46a4b2cb62f547fa70fa",
                            "version_major": 2,
                            "version_minor": 0
                        },
                        "text/plain": [
                            "Epoch 10:   0%|          | 0/192 [00:00<?, ?it/s]"
                        ]
                    },
                    "metadata": {},
                    "output_type": "display_data"
                },
                {
                    "data": {
                        "application/vnd.jupyter.widget-view+json": {
                            "model_id": "a7e549b526d14a85820c888afe175b60",
                            "version_major": 2,
                            "version_minor": 0
                        },
                        "text/plain": [
                            "Epoch 11:   0%|          | 0/192 [00:00<?, ?it/s]"
                        ]
                    },
                    "metadata": {},
                    "output_type": "display_data"
                },
                {
                    "data": {
                        "application/vnd.jupyter.widget-view+json": {
                            "model_id": "658e0cf70b954231ab909b29195304ad",
                            "version_major": 2,
                            "version_minor": 0
                        },
                        "text/plain": [
                            "Epoch 12:   0%|          | 0/192 [00:00<?, ?it/s]"
                        ]
                    },
                    "metadata": {},
                    "output_type": "display_data"
                },
                {
                    "data": {
                        "application/vnd.jupyter.widget-view+json": {
                            "model_id": "9c522f0425cb465aa4f28d009b431bee",
                            "version_major": 2,
                            "version_minor": 0
                        },
                        "text/plain": [
                            "Epoch 13:   0%|          | 0/192 [00:00<?, ?it/s]"
                        ]
                    },
                    "metadata": {},
                    "output_type": "display_data"
                },
                {
                    "data": {
                        "application/vnd.jupyter.widget-view+json": {
                            "model_id": "74d49bd4adea4aa596d7a28f8747c03c",
                            "version_major": 2,
                            "version_minor": 0
                        },
                        "text/plain": [
                            "Epoch 14:   0%|          | 0/192 [00:00<?, ?it/s]"
                        ]
                    },
                    "metadata": {},
                    "output_type": "display_data"
                },
                {
                    "data": {
                        "application/vnd.jupyter.widget-view+json": {
                            "model_id": "86ef919eae3049668c1f4e2a31a66602",
                            "version_major": 2,
                            "version_minor": 0
                        },
                        "text/plain": [
                            "Epoch 15:   0%|          | 0/192 [00:00<?, ?it/s]"
                        ]
                    },
                    "metadata": {},
                    "output_type": "display_data"
                },
                {
                    "data": {
                        "application/vnd.jupyter.widget-view+json": {
                            "model_id": "b5a6e9293701430f960e5e71a41b1ac6",
                            "version_major": 2,
                            "version_minor": 0
                        },
                        "text/plain": [
                            "Epoch 16:   0%|          | 0/192 [00:00<?, ?it/s]"
                        ]
                    },
                    "metadata": {},
                    "output_type": "display_data"
                },
                {
                    "data": {
                        "application/vnd.jupyter.widget-view+json": {
                            "model_id": "a6321172ddfa43868ebfe0ac98f7fc15",
                            "version_major": 2,
                            "version_minor": 0
                        },
                        "text/plain": [
                            "Epoch 17:   0%|          | 0/192 [00:00<?, ?it/s]"
                        ]
                    },
                    "metadata": {},
                    "output_type": "display_data"
                },
                {
                    "data": {
                        "application/vnd.jupyter.widget-view+json": {
                            "model_id": "7a2cea00a33749c1b19f59c98ed234de",
                            "version_major": 2,
                            "version_minor": 0
                        },
                        "text/plain": [
                            "Epoch 18:   0%|          | 0/192 [00:00<?, ?it/s]"
                        ]
                    },
                    "metadata": {},
                    "output_type": "display_data"
                },
                {
                    "data": {
                        "application/vnd.jupyter.widget-view+json": {
                            "model_id": "8381df136dd94885ae96894c4e4cd1e9",
                            "version_major": 2,
                            "version_minor": 0
                        },
                        "text/plain": [
                            "Epoch 19:   0%|          | 0/192 [00:00<?, ?it/s]"
                        ]
                    },
                    "metadata": {},
                    "output_type": "display_data"
                },
                {
                    "data": {
                        "application/vnd.jupyter.widget-view+json": {
                            "model_id": "35f153d1d32745649e588d4bcc7b723a",
                            "version_major": 2,
                            "version_minor": 0
                        },
                        "text/plain": [
                            "Epoch 20:   0%|          | 0/192 [00:00<?, ?it/s]"
                        ]
                    },
                    "metadata": {},
                    "output_type": "display_data"
                }
            ],
            "source": [
                "filename = f'saved_models/mnist_{digit}_vp-lin_euler_{epochs}e.pth'\n",
                "\n",
                "if os.path.isfile(filename):\n",
                "    model.load(filename)\n",
                "else:\n",
                "    model.train(data, epochs=20, lr=0.003)\n",
                "    # Tip: Save the models for them to be accessible through the dashboard\n",
                "    # model.save(filename)"
            ]
        },
        {
            "cell_type": "code",
            "execution_count": 9,
            "id": "8e7af768",
            "metadata": {},
            "outputs": [
                {
                    "data": {
                        "application/vnd.jupyter.widget-view+json": {
                            "model_id": "de6330b858ec48669f53ecc88904f501",
                            "version_major": 2,
                            "version_minor": 0
                        },
                        "text/plain": [
                            "Generating:   0%|          | 0/500 [00:00<?, ?it/s]"
                        ]
                    },
                    "metadata": {},
                    "output_type": "display_data"
                },
                {
                    "data": {
                        "image/png": "[encoded data removed]",
                        "text/plain": [
                            "<Figure size 600x600 with 16 Axes>"
                        ]
                    },
                    "metadata": {},
                    "output_type": "display_data"
                }
            ],
            "source": [
                "n_images = 16\n",
                "samples = model.generate(n_images, seed=seed)\n",
                "display_images(samples)"
            ]
        },
        {
            "cell_type": "markdown",
            "id": "3aabd388",
            "metadata": {},
            "source": [
                "### <span id=\"svp\">**Sub-Variance Preserving (Sub-VP)**</span>"
            ]
        },
        {
            "cell_type": "markdown",
            "id": "bce427e4",
            "metadata": {},
            "source": [
                "#### Mathematical Definition\n",
                "\n",
                "**Drift:** $\\frac{-\\beta_t \\cdot x_t}{2}$\n",
                "\n",
                "**Diffusion:** $\\sqrt{\\beta_t \\cdot (1 - e^{-2\\sum_{s=0}^{t}\\beta_{s}})}$"
            ]
        },
        {
            "cell_type": "markdown",
            "id": "96fadc8a",
            "metadata": {},
            "source": [
                "#### Parameters\n",
                "| Parameter         | Type | Default | Description                          |\n",
                "|--------------------|---|---------|--------------------------------------|\n",
                "| `schedule`    | `BaseNoiseSchedule` | `LinearNoiseSchedule` | Noise schedule for $\\beta_t$ (and $\\beta_s$) |"
            ]
        },
        {
            "cell_type": "markdown",
            "id": "bd586e0f",
            "metadata": {},
            "source": [
                "#### Characteristics\n",
                "- **Training**: Slower but more stable\n",
                "- **Generation**: Higher fidelity outputs"
            ]
        },
        {
            "cell_type": "markdown",
            "id": "8dbe1289",
            "metadata": {},
            "source": [
                "#### Usage Example"
            ]
        },
        {
            "cell_type": "code",
            "execution_count": 7,
            "id": "0cc26218",
            "metadata": {},
            "outputs": [],
            "source": [
                "model = GenerativeModel(\n",
                "    diffusion=SubVariancePreserving,\n",
                "    noise_schedule=CosineNoiseSchedule(),\n",
                "    sampler=EulerMaruyama\n",
                ")"
            ]
        },
        {
            "cell_type": "code",
            "execution_count": null,
            "id": "a194a2cd",
            "metadata": {},
            "outputs": [
                {
                    "data": {
                        "application/vnd.jupyter.widget-view+json": {
                            "model_id": "3167428496874d08a9061cb0591013da",
                            "version_major": 2,
                            "version_minor": 0
                        },
                        "text/plain": [
                            "Training:   0%|          | 0/20 [00:00<?, ?it/s]"
                        ]
                    },
                    "metadata": {},
                    "output_type": "display_data"
                },
                {
                    "data": {
                        "application/vnd.jupyter.widget-view+json": {
                            "model_id": "ef1a37bbe5554d9889d205b6854ee353",
                            "version_major": 2,
                            "version_minor": 0
                        },
                        "text/plain": [
                            "Epoch 1:   0%|          | 0/192 [00:00<?, ?it/s]"
                        ]
                    },
                    "metadata": {},
                    "output_type": "display_data"
                },
                {
                    "data": {
                        "application/vnd.jupyter.widget-view+json": {
                            "model_id": "45f4419496a04e1ab14f98146f8edd4d",
                            "version_major": 2,
                            "version_minor": 0
                        },
                        "text/plain": [
                            "Epoch 2:   0%|          | 0/192 [00:00<?, ?it/s]"
                        ]
                    },
                    "metadata": {},
                    "output_type": "display_data"
                },
                {
                    "data": {
                        "application/vnd.jupyter.widget-view+json": {
                            "model_id": "10de7783f2cc4dfd99d47ec7ed4febb4",
                            "version_major": 2,
                            "version_minor": 0
                        },
                        "text/plain": [
                            "Epoch 3:   0%|          | 0/192 [00:00<?, ?it/s]"
                        ]
                    },
                    "metadata": {},
                    "output_type": "display_data"
                },
                {
                    "data": {
                        "application/vnd.jupyter.widget-view+json": {
                            "model_id": "56d0171a9bc4445f96cfa3f6585cb1ad",
                            "version_major": 2,
                            "version_minor": 0
                        },
                        "text/plain": [
                            "Epoch 4:   0%|          | 0/192 [00:00<?, ?it/s]"
                        ]
                    },
                    "metadata": {},
                    "output_type": "display_data"
                }
            ],
            "source": [
                "filename = f'saved_models/mnist_{digit}_svp-lin_euler_{epochs}e.pth'\n",
                "\n",
                "if os.path.isfile(filename):\n",
                "    model.load(filename)\n",
                "else:\n",
                "    model.train(data, epochs=20, lr=0.002)\n",
                "    # Tip: Save the models for them to be accessible through the dashboard\n",
                "    # model.save(filename)"
            ]
        },
        {
            "cell_type": "code",
            "execution_count": null,
            "id": "abf3f132",
            "metadata": {},
            "outputs": [
                {
                    "data": {
                        "application/vnd.jupyter.widget-view+json": {
                            "model_id": "6d0d58c873834f6c9b1398b5ac856f68",
                            "version_major": 2,
                            "version_minor": 0
                        },
                        "text/plain": [
                            "Generating:   0%|          | 0/500 [00:00<?, ?it/s]"
                        ]
                    },
                    "metadata": {},
                    "output_type": "display_data"
                },
                {
                    "data": {
                        "image/png": "[encoded data removed]",
                        "text/plain": [
                            "<Figure size 600x600 with 16 Axes>"
                        ]
                    },
                    "metadata": {},
                    "output_type": "display_data"
                }
            ],
            "source": [
                "n_images = 16\n",
                "samples = model.generate(n_images, seed=seed)\n",
                "display_images(samples)"
            ]
        },
        {
            "cell_type": "markdown",
            "id": "be233dbd",
            "metadata": {},
            "source": [
                "### **Creating Custom Diffusers**"
            ]
        },
        {
            "cell_type": "markdown",
            "id": "d65ec394",
            "metadata": {},
            "source": [
                "Custom diffusers can be created by inheriting from `BaseDiffusion`. The methods that must be implemented are `forward_sde`, `forward_process` and `compute_loss` (sum of squared errors).\n",
                "\n",
                "It is currently not supported to load models with a custom diffuser, but it is highly recommended that they implement a `config` method for future updates."
            ]
        },
        {
            "cell_type": "markdown",
            "id": "552978a5",
            "metadata": {},
            "source": [
                "#### Implementation Example"
            ]
        },
        {
            "cell_type": "code",
            "execution_count": 13,
            "id": "843de0ce",
            "metadata": {},
            "outputs": [],
            "source": [
                "class CustomDiffuser(BaseDiffusion):\n",
                "    def __init__(self, custom_param: float = 0.5):\n",
                "        self.custom_param = custom_param\n",
                "        \n",
                "    def forward_sde(self, x: Tensor, t: Tensor) -> Tuple[Tensor, Tensor]:\n",
                "        ...\n",
                "\n",
                "    def forward_process(self, x0: Tensor, t: Tensor) -> Tuple[Tensor, Tensor]:\n",
                "        ...\n",
                "\n",
                "    def compute_loss(self, score: Tensor, noise: Tensor, t: Tensor) -> Tensor:\n",
                "        ...\n",
                "        \n",
                "    def config(self) -> dict:\n",
                "        return {\n",
                "            \"custom_param\": self.custom_param\n",
                "        }"
            ]
        }
    ],
    "metadata": {
        "kernelspec": {
            "display_name": "Python 3",
            "language": "python",
            "name": "python3"
        },
        "language_info": {
            "codemirror_mode": {
                "name": "ipython",
                "version": 3
            },
            "file_extension": ".py",
            "mimetype": "text/x-python",
            "name": "python",
            "nbconvert_exporter": "python",
            "pygments_lexer": "ipython3",
            "version": "3.12.4"
        }
    },
    "nbformat": 4,
    "nbformat_minor": 5
}
