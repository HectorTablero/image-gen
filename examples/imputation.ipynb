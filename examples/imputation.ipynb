{
    "cells": [
        {
            "cell_type": "markdown",
            "id": "6d6fdd69",
            "metadata": {},
            "source": [
                "<pre style=\"text-align: right; width: 100%; font-size: 0.75em; line-height: 0.75em;\">\n",
                "+ ------------------------- + <br>\n",
                "| 28/04/2025                | <br>\n",
                "| Héctor Tablero Díaz       | <br>\n",
                "| Álvaro Martínez Gamo      | <br>\n",
                "+ ------------------------- + \n",
                "</pre>"
            ]
        },
        {
            "cell_type": "markdown",
            "id": "05256d2e",
            "metadata": {},
            "source": [
                "# **Imputation (Inpainting)**"
            ]
        },
        {
            "cell_type": "code",
            "execution_count": null,
            "id": "4f70db8b",
            "metadata": {},
            "outputs": [],
            "source": [
                "import sys\n",
                "sys.path.append('./..')\n",
                "\n",
                "import os\n",
                "\n",
                "import torch\n",
                "from torch.utils.data import Subset\n",
                "from torchvision import datasets\n",
                "from torchvision.transforms import ToTensor\n",
                "\n",
                "from image_gen import GenerativeModel\n",
                "from image_gen.samplers import ExponentialIntegrator\n",
                "from image_gen.diffusion import VariancePreserving\n",
                "from image_gen.noise import LinearNoiseSchedule\n",
                "\n",
                "from image_gen.visualization import display_images"
            ]
        },
        {
            "cell_type": "code",
            "execution_count": null,
            "id": "8a7cfbf6",
            "metadata": {},
            "outputs": [],
            "source": [
                "epochs = 50\n",
                "digit = 3\n",
                "seed = 0"
            ]
        },
        {
            "cell_type": "code",
            "execution_count": null,
            "id": "638ced9a",
            "metadata": {},
            "outputs": [],
            "source": [
                "# Load the dataset\n",
                "data = datasets.MNIST(\n",
                "    root='data',\n",
                "    train=True,\n",
                "    download=True,\n",
                "    transform=ToTensor()\n",
                ")\n",
                "\n",
                "# Select a subset to speed up the training process\n",
                "indices_digit = torch.where(data.targets == digit)[0]\n",
                "data = Subset(data, indices_digit)"
            ]
        },
        {
            "cell_type": "code",
            "execution_count": null,
            "id": "92fc158d",
            "metadata": {},
            "outputs": [],
            "source": [
                "model = GenerativeModel(\n",
                "    diffusion=VariancePreserving,\n",
                "    sampler=ExponentialIntegrator,\n",
                "    noise_schedule=LinearNoiseSchedule\n",
                ")"
            ]
        },
        {
            "cell_type": "code",
            "execution_count": null,
            "id": "63d752a1",
            "metadata": {},
            "outputs": [],
            "source": [
                "filename = f'saved_models/mnist_{digit}_vp-lin_{epochs}e.pth'\n",
                "\n",
                "if os.path.isfile(filename):\n",
                "    model.load(filename)\n",
                "else:\n",
                "    model.train(data, epochs=epochs)\n",
                "    # Tip: Save the models for them to be accessible through the dashboard\n",
                "    model.save(filename)"
            ]
        },
        {
            "cell_type": "markdown",
            "id": "9113ff2c",
            "metadata": {},
            "source": [
                "## **Overview**"
            ]
        },
        {
            "cell_type": "markdown",
            "id": "0222914f",
            "metadata": {},
            "source": [
                "Mask-guided generation for filling missing image regions using diffusion models.\n",
                "\n",
                "Key features:\n",
                "- Supports arbitrary binary masks\n",
                "- Preserves known pixel values\n",
                "- Blends generated content with original image\n",
                "- Dashboard supports transparent PNG mask handling"
            ]
        },
        {
            "cell_type": "markdown",
            "id": "db0f1444",
            "metadata": {},
            "source": [
                "## **Parameters**\n",
                "| Parameter | Type | Default | Description |\n",
                "|-----------|------|---------|-------------|\n",
                "| `x` | Tensor | - | Input image tensor (B,C,H,W) |\n",
                "| `mask` | Tensor | - | Binary mask (1=generate, 0=preserve) |\n",
                "| `n_steps` | int | 500 | Number of reverse steps |\n",
                "| `seed` | int | None | Random seed for reproducibility |\n",
                "| `class_labels` | Tensor | None | Optional class conditioning |\n",
                "| `progress_callback` | function | None | Generation progress handler |"
            ]
        },
        {
            "cell_type": "markdown",
            "id": "dc7c1140",
            "metadata": {},
            "source": [
                "## **Usage Examples**"
            ]
        },
        {
            "cell_type": "markdown",
            "id": "b7551d63",
            "metadata": {},
            "source": [
                "### **Manual Mask Creation**"
            ]
        },
        {
            "cell_type": "markdown",
            "id": "b715e780",
            "metadata": {},
            "source": [
                "Create a custom mask programmatically:"
            ]
        },
        {
            "cell_type": "code",
            "execution_count": null,
            "id": "971eb831",
            "metadata": {},
            "outputs": [],
            "source": [
                "base_image = model.generate(num_samples=1, seed=seed)\n",
                "display_images(base_image)"
            ]
        },
        {
            "cell_type": "code",
            "execution_count": null,
            "id": "71bfcade",
            "metadata": {},
            "outputs": [],
            "source": [
                "# Create center rectangle mask\n",
                "mask = torch.ones_like(base_image)\n",
                "h, w = base_image.shape[2], base_image.shape[3]\n",
                "mask[:, :, h//4:3*h//4, w//4:3*w//4] = 0\n",
                "\n",
                "# Create a batch of 16 images with the same mask\n",
                "mask_batch = mask.repeat(16, 1, 1, 1)\n",
                "base_image_batch = base_image.repeat(16, 1, 1, 1)\n",
                "\n",
                "results_batch = model.imputation(base_image_batch, mask_batch, n_steps=500, seed=seed)\n",
                "display_images(results_batch)"
            ]
        },
        {
            "cell_type": "markdown",
            "id": "abd34ac7",
            "metadata": {},
            "source": [
                "## **Implementation Details**"
            ]
        },
        {
            "cell_type": "markdown",
            "id": "c0dcb08a",
            "metadata": {},
            "source": [
                "The imputation process:\n",
                "\n",
                "1. **Normalization**: Scale input to [-1,1] range\n",
                "2. **Mask Preparation**: Expand mask to match image channels\n",
                "3. **Noise Injection**: Apply noise only to masked regions\n",
                "4. **Guided Sampling**: Blend generated content with original pixels\n",
                "5. **Denormalization**: Convert back to original value range\n",
                "\n",
                "Key equation during sampling:\n",
                "$$x_{t} = \\text{mask} \\cdot x_{t}^{\\text{generated}} + (1-\\text{mask}) \\cdot (\\frac{t}{\\text{n\\_steps}} \\cdot x_{t}^{\\text{original}} + (1 - \\frac{t}{\\text{n\\_steps}}) \\cdot x_{t}^{\\text{generated}})$$"
            ]
        },
        {
            "cell_type": "markdown",
            "id": "fa238092",
            "metadata": {},
            "source": [
                "## **Important Notes**"
            ]
        },
        {
            "cell_type": "markdown",
            "id": "20f922f7",
            "metadata": {},
            "source": [
                "- The mask must be a single-channel binary tensor\n",
                "- Input images are automatically normalized\n",
                "- The dashboard requires a PNG with alpha channel, which will be used as the mask\n",
                "- For color images, the mask applied to all channels\n",
                "- The function preserves original pixel values exactly in unmasked regions"
            ]
        }
    ],
    "metadata": {
        "kernelspec": {
            "display_name": "Python 3",
            "language": "python",
            "name": "python3"
        },
        "language_info": {
            "codemirror_mode": {
                "name": "ipython",
                "version": 3
            },
            "file_extension": ".py",
            "mimetype": "text/x-python",
            "name": "python",
            "nbconvert_exporter": "python",
            "pygments_lexer": "ipython3",
            "version": "3.12.6"
        }
    },
    "nbformat": 4,
    "nbformat_minor": 5
}
