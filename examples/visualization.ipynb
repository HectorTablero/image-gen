{
 "cells": [
  {
   "cell_type": "markdown",
   "id": "1f65e7a8",
   "metadata": {},
   "source": [
    "<pre style=\"text-align: right; width: 100%; font-size: 0.75em; line-height: 0.75em;\">\n",
    "+ ------------------------- + <br>\n",
    "| 20/04/2025                | <br>\n",
    "| Héctor Tablero Díaz       | <br>\n",
    "| Álvaro Martínez Gamo      | <br>\n",
    "+ ------------------------- + \n",
    "</pre>"
   ]
  },
  {
   "cell_type": "markdown",
   "id": "271dec78",
   "metadata": {},
   "source": [
    "# **Process Visualization**"
   ]
  }
 ],
 "metadata": {
  "language_info": {
   "name": "python"
  }
 },
 "nbformat": 4,
 "nbformat_minor": 5
}
